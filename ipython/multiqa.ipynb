{
 "cells": [
  {
   "cell_type": "code",
   "execution_count": 44,
   "metadata": {
    "ExecuteTime": {
     "end_time": "2018-09-28T07:57:21.547859Z",
     "start_time": "2018-09-28T07:57:21.413624Z"
    },
    "code_folding": [],
    "run_control": {
     "marked": true
    }
   },
   "outputs": [
    {
     "name": "stdout",
     "output_type": "stream",
     "text": [
      "The line_profiler extension is already loaded. To reload it, use:\n",
      "  %reload_ext line_profiler\n"
     ]
    }
   ],
   "source": [
    "# imports\n",
    "import pandas as pd\n",
    "import numpy as np\n",
    "pd.set_option('display.max_colwidth', 140)\n",
    "pd.set_option('display.width', 2000)\n",
    "import sys,os\n",
    "from IPython.core.debugger import Tracer\n",
    "from IPython.core.debugger import BdbQuit_excepthook\n",
    "%matplotlib inline\n",
    "%load_ext line_profiler\n",
    "import matplotlib.pyplot as plt\n",
    "import matplotlib\n",
    "import nltk\n",
    "import io\n",
    "import json\n",
    "import time\n",
    "from pandas import ExcelWriter\n",
    "from ast import literal_eval\n",
    "import hashlib\n",
    "import unicodedata\n",
    "import subprocess\n",
    "import datetime\n",
    "m = hashlib.md5()\n",
    "from nltk.metrics import *\n",
    "from nltk import pos_tag, word_tokenize\n",
    "from nltk.corpus import stopwords\n",
    "import zipfile\n",
    "import pymongo\n",
    "import re\n",
    "import random\n",
    "from tqdm import tqdm\n",
    "import gzip"
   ]
  },
  {
   "cell_type": "markdown",
   "metadata": {},
   "source": [
    "# Experiment config"
   ]
  },
  {
   "cell_type": "code",
   "execution_count": 45,
   "metadata": {
    "ExecuteTime": {
     "end_time": "2018-09-28T07:57:21.569309Z",
     "start_time": "2018-09-28T07:57:21.549669Z"
    },
    "run_control": {
     "marked": true
    }
   },
   "outputs": [],
   "source": [
    "EXP_NAME = 'MSMARCO-0'\n",
    "EVAL_SET = 'train' # train, dev , which split to run on \n",
    "WRITE_EVIDENCE = 0 # should we write the evidence to file\n",
    "SEARCHRESULTS_FROM_FILES = 1\n",
    "FILES_PER_QUESTION = 20 # how many evidence files to build per question\n",
    "LIMIT_TRAIN_SIZE = -1\n",
    "PRODUCE_ONLY_SAMPLE = 0\n",
    "RUN_EXPERIMENTS = 0\n",
    "\n",
    "# DataSets\n",
    "USE_MSMARCO = 1\n",
    "USE_SEARCHQA = 0\n",
    "USE_TRIVIAQA = 0\n",
    "USE_SQUAD = 0\n",
    "USE_COMPWEBQ = 0\n",
    "\n",
    "# Dataset Specific \n",
    "# Squad\n",
    "USE_SQUAD_ORG_CONTEXT = 0\n",
    "USE_MSMARCO_ORG_CONTEXT = 0\n",
    "# ComplexWebQuestions\n",
    "ADD_SPLITS_TO_TRAIN = 1\n",
    "\n",
    "# GENERAL\n",
    "#PRODUCE_ONLY_SAMPLE = True\n",
    "EVIDENCE_DIR = '/Users/alontalmor/Documents/dev/datasets/triviaqa/triviaqa-rc/'\n",
    "\n",
    "# Tests\n",
    "CALC_ANSWER_IN_GOOGLE_PERC = 1\n",
    "GOOGLE_FILTERED_FILES = 0"
   ]
  },
  {
   "cell_type": "markdown",
   "metadata": {
    "ExecuteTime": {
     "end_time": "2018-05-15T07:29:54.834220Z",
     "start_time": "2018-05-15T07:29:54.713840Z"
    }
   },
   "source": [
    "# Load Datasets"
   ]
  },
  {
   "cell_type": "code",
   "execution_count": 46,
   "metadata": {
    "ExecuteTime": {
     "end_time": "2018-09-28T07:57:21.574331Z",
     "start_time": "2018-09-28T07:57:21.571042Z"
    },
    "run_control": {
     "marked": true
    }
   },
   "outputs": [],
   "source": [
    "Data = {}"
   ]
  },
  {
   "cell_type": "markdown",
   "metadata": {},
   "source": [
    "## Dev Set"
   ]
  },
  {
   "cell_type": "markdown",
   "metadata": {},
   "source": [
    "### SearchQA"
   ]
  },
  {
   "cell_type": "code",
   "execution_count": 47,
   "metadata": {
    "ExecuteTime": {
     "end_time": "2018-09-28T07:57:21.596821Z",
     "start_time": "2018-09-28T07:57:21.576306Z"
    }
   },
   "outputs": [],
   "source": [
    "filename = '/Users/alontalmor/Documents/dev/datasets/SearchQA/data_json/000488-5243_jeopardy_beginningend_600.json'\n",
    "with open(filename,'r') as f:\n",
    "    data = json.load(f)"
   ]
  },
  {
   "cell_type": "code",
   "execution_count": 48,
   "metadata": {
    "ExecuteTime": {
     "end_time": "2018-09-28T07:57:21.634433Z",
     "start_time": "2018-09-28T07:57:21.599765Z"
    }
   },
   "outputs": [
    {
     "data": {
      "text/plain": [
       "\"From\" this to this is an idiom meaning from the start of a meal (or something else) to the end    98\n",
       "Name: question, dtype: int64"
      ]
     },
     "execution_count": 48,
     "metadata": {},
     "output_type": "execute_result"
    }
   ],
   "source": [
    "pd.DataFrame(data)['question'].value_counts()"
   ]
  },
  {
   "cell_type": "code",
   "execution_count": 49,
   "metadata": {
    "ExecuteTime": {
     "end_time": "2018-09-28T07:57:21.639647Z",
     "start_time": "2018-09-28T07:57:21.636177Z"
    }
   },
   "outputs": [
    {
     "data": {
      "text/plain": [
       "'\"From\" this to this is an idiom meaning from the start of a meal (or something else) to the end'"
      ]
     },
     "execution_count": 49,
     "metadata": {},
     "output_type": "execute_result"
    }
   ],
   "source": [
    "data['question']"
   ]
  },
  {
   "cell_type": "code",
   "execution_count": 50,
   "metadata": {
    "ExecuteTime": {
     "end_time": "2018-09-28T07:57:21.655852Z",
     "start_time": "2018-09-28T07:57:21.641968Z"
    }
   },
   "outputs": [],
   "source": [
    "if USE_SEARCHQA:\n",
    "    def load_searchqa(dirname,filename):\n",
    "        print(os.path.join(dirname,filename +'.zip'))\n",
    "        with zipfile.ZipFile(os.path.join(dirname,filename +'.zip'),'r') as myzip:\n",
    "            with myzip.open(filename) as myfile:\n",
    "                searchqa_json = json.load(myfile)\n",
    "        #with gzip.open(os.path.join(dirname,filename +'.zip'),'rb') as myzip:\n",
    "        #    searchqa_json=pd.DataFrame(json.loads(myzip.read()))\n",
    "\n",
    "        return searchqa_json\n",
    "    if USE_SEARCHQA and EVAL_SET == 'dev':\n",
    "         Data['searchqa'] = load_searchqa('/Users/alontalmor/Documents/dev/datasets/SearchQA/data_json/','val')\n",
    "    \n"
   ]
  },
  {
   "cell_type": "markdown",
   "metadata": {},
   "source": [
    "### MSMARCO"
   ]
  },
  {
   "cell_type": "code",
   "execution_count": 51,
   "metadata": {
    "ExecuteTime": {
     "end_time": "2018-09-28T07:57:21.704895Z",
     "start_time": "2018-09-28T07:57:21.658802Z"
    }
   },
   "outputs": [],
   "source": [
    "if USE_MSMARCO:\n",
    "    import gzip\n",
    "    def load_msmarco(dirname,filename):\n",
    "        print(os.path.join(dirname,filename +'.gz'))\n",
    "        with gzip.open(os.path.join(dirname,filename +'.gz'),'rb') as myzip:\n",
    "            msmarco = pd.DataFrame(json.loads(myzip.read()))\n",
    "\n",
    "        print(len(msmarco))\n",
    "        msmarco = msmarco[msmarco['answers'].str[0] != 'No Answer Present.']\n",
    "        msmarco = msmarco[msmarco['answers'].str[0] != 'Yes']\n",
    "        msmarco = msmarco[msmarco['answers'].str[0] != 'No']\n",
    "        msmarco = msmarco[msmarco['answers'].str[0] != '']\n",
    "\n",
    "        \n",
    "\n",
    "        # Filter very long answers:\n",
    "        msmarco = msmarco[msmarco['answers'].str[0].apply(len) < 30]\n",
    "        \n",
    "        # filtering if no well formed answers? \n",
    "        # len(Data['msmarco'][Data['msmarco']['wellFormedAnswers'] != '[]'])\n",
    "        \n",
    "        print(len(msmarco))\n",
    "\n",
    "        return msmarco\n",
    "\n",
    "    if USE_MSMARCO and EVAL_SET == 'dev':\n",
    "         Data['MSMARCO'] = load_msmarco('/Users/alontalmor/Documents/dev/datasets/MSMARCO/','dev_v2.1.json')\n",
    "    \n",
    "    # fileter no answer persent, yes and no answers:\n",
    "    \n",
    "    #Data['msmarco']['answers'].str[0].value_counts()[0:10]\n"
   ]
  },
  {
   "cell_type": "code",
   "execution_count": 52,
   "metadata": {
    "ExecuteTime": {
     "end_time": "2018-09-28T07:57:21.712794Z",
     "start_time": "2018-09-28T07:57:21.707139Z"
    }
   },
   "outputs": [],
   "source": [
    "if False:\n",
    "    # answer exact match comparison\n",
    "    selected_answers = []\n",
    "    for ind,q in Data['MSMARCO'].iterrows():\n",
    "        x = pd.DataFrame(q['passages'])\n",
    "        selected_answers.append(x[x['is_selected'] == 1]['passage_text'].iloc[0])\n",
    "    Data['MSMARCO']['selected_answers'] = selected_answers\n",
    "    Data['MSMARCO'][['answers','selected_answers']]"
   ]
  },
  {
   "cell_type": "markdown",
   "metadata": {},
   "source": [
    "### Squad"
   ]
  },
  {
   "cell_type": "code",
   "execution_count": 53,
   "metadata": {
    "ExecuteTime": {
     "end_time": "2018-09-28T07:57:21.765041Z",
     "start_time": "2018-09-28T07:57:21.715554Z"
    },
    "code_folding": [],
    "run_control": {
     "marked": false
    }
   },
   "outputs": [],
   "source": [
    "def load_squad(dirname,filename):\n",
    "    with zipfile.ZipFile(os.path.join(dirname,filename +'.zip'),'r') as myzip:\n",
    "        with myzip.open(filename) as myfile:\n",
    "            squad_json = json.load(myfile)\n",
    "\n",
    "    squad_questions = []\n",
    "    contexts = []\n",
    "    for part in squad_json['data']:\n",
    "        for para in part['paragraphs']:\n",
    "            contexts.append(para['context'])\n",
    "            for qas in para['qas']:\n",
    "                question = qas.copy()\n",
    "                question['title'] = part['title']\n",
    "                question['context_id'] = len(contexts) - 1\n",
    "                squad_questions.append(question)\n",
    "    squad_questions = pd.DataFrame(squad_questions)\n",
    "\n",
    "    # removing version 2 samples! \n",
    "    squad_questionsV1 = squad_questions[~squad_questions['is_impossible']].copy(deep=True)\n",
    "    del squad_questionsV1['is_impossible']\n",
    "    del squad_questionsV1['plausible_answers']\n",
    "\n",
    "    # empty entity pages\n",
    "    squad_questionsV1['EntityPages'] = np.empty((len(squad_questionsV1), 0)).tolist()\n",
    "\n",
    "    # empty search results\n",
    "    squad_questionsV1['SearchResults'] = np.empty((len(squad_questionsV1), 0)).tolist()\n",
    "\n",
    "    return squad_questionsV1, contexts\n",
    "    \n",
    "if USE_SQUAD and EVAL_SET == 'dev':\n",
    "     Data['Squad'], org_contexts = load_squad('../data/Squad/','dev-v2.0.json')\n",
    "    "
   ]
  },
  {
   "cell_type": "markdown",
   "metadata": {},
   "source": [
    "### TriviaQA"
   ]
  },
  {
   "cell_type": "code",
   "execution_count": 54,
   "metadata": {
    "ExecuteTime": {
     "end_time": "2018-09-28T07:57:21.778357Z",
     "start_time": "2018-09-28T07:57:21.766601Z"
    },
    "code_folding": [],
    "run_control": {
     "marked": true
    }
   },
   "outputs": [],
   "source": [
    "if USE_TRIVIAQA and EVAL_SET == 'dev':\n",
    "    with zipfile.ZipFile('../data/TriviaQA/unfiltered-web-dev.json.zip','r') as myzip:\n",
    "        with myzip.open('unfiltered-web-dev.json') as myfile:\n",
    "            questions = json.load(myfile)\n",
    "            Data['TriviaQA'] = pd.DataFrame(questions['Data'])\n",
    "            \n",
    "    # empty entity pages\n",
    "    Data['TriviaQA']['EntityPages'] = np.empty((len(Data['TriviaQA']), 0)).tolist()\n",
    "\n",
    "    # empty search results\n",
    "    Data['TriviaQA']['SearchResults']  = Data['TriviaQA']['SearchResults'].astype(object)\n",
    "    Data['TriviaQA']['SearchResults'] = np.empty((len(Data['TriviaQA']), 0)).tolist()"
   ]
  },
  {
   "cell_type": "markdown",
   "metadata": {},
   "source": [
    "### ComplexWebQuestions"
   ]
  },
  {
   "cell_type": "code",
   "execution_count": 55,
   "metadata": {
    "ExecuteTime": {
     "end_time": "2018-09-28T07:57:21.848668Z",
     "start_time": "2018-09-28T07:57:21.780799Z"
    },
    "code_folding": [],
    "run_control": {
     "marked": true
    }
   },
   "outputs": [],
   "source": [
    "# comparing web triavia-rc dev number of question to unfiltered number of questions\n",
    "if USE_COMPWEBQ and EVAL_SET == 'dev':\n",
    "    rl_input_df = pd.DataFrame()\n",
    "    #data_dir = '/Users/alontalmor/Dropbox/Apps/WebKB/webkb_dev_data/RL_preproc_data/rl_cascade1_epoch0-8/'\n",
    "    data_dir = '../data/V2_dev_splitpoints/'\n",
    "    filename = 'dev.json.zip'\n",
    "    if filename.find('.json.zip') > -1:\n",
    "        print(filename)\n",
    "        with zipfile.ZipFile(data_dir + filename, 'r') as myzip:\n",
    "            with myzip.open(filename.replace('.zip', '')) as myfile:\n",
    "                curr_batch = pd.DataFrame(json.load(myfile))\n",
    "        curr_batch = curr_batch[(curr_batch[['split_part1', 'split_part2']].isnull(\n",
    "        ) * 1.0).sum(axis=1) == 0]  # removing null values\n",
    "        curr_batch['traj_id'] = curr_batch['ID'] + curr_batch['comp'] + curr_batch['split_part1'].str.replace(\" \",\"\") \\\n",
    "                                + ',' + curr_batch['split_part2'].str.replace(\" \",\"\")\n",
    "        if len(rl_input_df) > 0:\n",
    "            len_before_filter = len(curr_batch)\n",
    "            curr_batch = curr_batch[\n",
    "                ~curr_batch['traj_id'].isin(rl_input_df['traj_id'])]\n",
    "        curr_batch['filename'] = filename\n",
    "        rl_input_df = rl_input_df.append(curr_batch, ignore_index=True)\n",
    "\n",
    "    rl_input_df = rl_input_df.set_index('traj_id')\n",
    "\n",
    "    # dropping exact duplicate splits\n",
    "    print('size before drop dups: ' + str(len(rl_input_df)))\n",
    "    rl_input_df = rl_input_df.drop_duplicates(\n",
    "        ['ID', 'comp', 'split_part1', 'split_part2'])\n",
    "    print('size after drop dups: ' + str(len(rl_input_df)))\n",
    "\n",
    "    dataset_filename = '../../../mturk/compqgen/final/complexwebquestions_V1_1/ComplexWebQuestions_dev'\n",
    "    with open(dataset_filename + '.json', 'r') as outfile:\n",
    "        complexwebquestions = pd.DataFrame(json.load(outfile))\n",
    "\n",
    "    rl_input_df = rl_input_df.merge(\n",
    "        pd.DataFrame(complexwebquestions)[['answers', 'ID']], on='ID', how='inner')\n",
    "    rl_input_df.rename(columns={'answers_y': 'answers'}, inplace=True)\n",
    "    del rl_input_df['answers_x']\n",
    "    Data['ComplexWebQuestions'] = rl_input_df"
   ]
  },
  {
   "cell_type": "markdown",
   "metadata": {},
   "source": [
    "## Training Set"
   ]
  },
  {
   "cell_type": "markdown",
   "metadata": {},
   "source": [
    "### MSMARCO"
   ]
  },
  {
   "cell_type": "code",
   "execution_count": 56,
   "metadata": {
    "ExecuteTime": {
     "end_time": "2018-09-28T08:03:09.319266Z",
     "start_time": "2018-09-28T07:57:21.850439Z"
    }
   },
   "outputs": [
    {
     "name": "stdout",
     "output_type": "stream",
     "text": [
      "/Users/alontalmor/Documents/dev/datasets/MSMARCO/train_v2.1.json.gz\n",
      "808731\n",
      "160375\n"
     ]
    }
   ],
   "source": [
    "if USE_MSMARCO and EVAL_SET == 'train':\n",
    "    Data['MSMARCO'] = load_msmarco('/Users/alontalmor/Documents/dev/datasets/MSMARCO/','train_v2.1.json')"
   ]
  },
  {
   "cell_type": "markdown",
   "metadata": {},
   "source": [
    "### Squad"
   ]
  },
  {
   "cell_type": "code",
   "execution_count": 57,
   "metadata": {
    "ExecuteTime": {
     "end_time": "2018-09-28T08:03:09.335792Z",
     "start_time": "2018-09-28T08:03:09.325320Z"
    }
   },
   "outputs": [],
   "source": [
    "if USE_SQUAD and EVAL_SET == 'train':\n",
    "    Data['Squad'], org_contexts = load_squad('../data/Squad/','train-v2.0.json')"
   ]
  },
  {
   "cell_type": "markdown",
   "metadata": {},
   "source": [
    "### TriviaQA"
   ]
  },
  {
   "cell_type": "code",
   "execution_count": 58,
   "metadata": {
    "ExecuteTime": {
     "end_time": "2018-09-28T08:03:09.354540Z",
     "start_time": "2018-09-28T08:03:09.337835Z"
    },
    "code_folding": [],
    "run_control": {
     "marked": true
    }
   },
   "outputs": [],
   "source": [
    "if USE_TRIVIAQA and EVAL_SET == 'train':\n",
    "    with zipfile.ZipFile('../data/TriviaQA/unfiltered-web-train.json.zip','r') as myzip:\n",
    "        with myzip.open('unfiltered-web-train.json') as myfile:\n",
    "            questions = json.load(myfile)\n",
    "            triviaqa_dataset = pd.DataFrame(questions['Data'])\n",
    "            \n",
    "    # empty entity pages\n",
    "    triviaqa_dataset['EntityPages'] = np.empty((len(triviaqa_dataset), 0)).tolist()\n",
    "\n",
    "    # empty search results \n",
    "    triviaqa_dataset['SearchResults']  = triviaqa_dataset['SearchResults'].astype(object)\n",
    "    triviaqa_dataset['SearchResults'] = np.empty((len(triviaqa_dataset), 0)).tolist()\n",
    "    \n",
    "    Data['TriviaQA'] = triviaqa_dataset"
   ]
  },
  {
   "cell_type": "markdown",
   "metadata": {},
   "source": [
    "### ComplexWebQuestions"
   ]
  },
  {
   "cell_type": "code",
   "execution_count": 59,
   "metadata": {
    "ExecuteTime": {
     "end_time": "2018-09-28T08:03:09.461211Z",
     "start_time": "2018-09-28T08:03:09.356805Z"
    },
    "code_folding": [],
    "run_control": {
     "marked": true
    }
   },
   "outputs": [],
   "source": [
    "if USE_COMPWEBQ and EVAL_SET == 'train':\n",
    "    rl_input_df = pd.DataFrame()\n",
    "    #data_dir = '/Users/alontalmor/Dropbox/Apps/WebKB/webkb_dev_data/RL_train_data/rl_cascade1_epoch0-8/'\n",
    "    # V2 Code\n",
    "    data_dir = '../data/V2_train_splitpoints/'\n",
    "    for dirname, dirnames, filenames in os.walk(data_dir):\n",
    "\n",
    "        # making sure noisy sup is added first (because of the default MIN_REWARD_TRESH values\n",
    "        #if 'noisy_sup_rewarded.json.zip' in filenames:\n",
    "        #    filenames.remove('noisy_sup_rewarded.json.zip')\n",
    "        #    filenames = ['noisy_sup_rewarded.json.zip'] + filenames\n",
    "        # V2 code\n",
    "        if 'train.json.zip' in filenames:\n",
    "            filenames.remove('train.json.zip')\n",
    "            filenames = ['train.json.zip'] + filenames\n",
    "\n",
    "        for filename in filenames[0:2]:\n",
    "\n",
    "            if filename.find('.json.zip')>-1:\n",
    "                print(filename)\n",
    "                with zipfile.ZipFile(data_dir + filename,'r') as myzip:\n",
    "                    with myzip.open(filename.replace('.zip','')) as myfile:\n",
    "                        curr_batch = pd.DataFrame(json.load(myfile))\n",
    "                curr_batch = curr_batch[(curr_batch[['split_part1', 'split_part2']].isnull() * 1.0).sum(axis=1) == 0] # removing null values\n",
    "                # V2 Code\n",
    "                if len(rl_input_df) > 0:\n",
    "                    curr_batch = curr_batch[curr_batch['ID'].isin(rl_input_df['ID'])]\n",
    "\n",
    "                curr_batch['traj_id'] = curr_batch['ID'] + curr_batch['comp'] + curr_batch['split_part1'].str.replace(\" \",\"\") \\\n",
    "                                            + ',' + curr_batch['split_part2'].str.replace(\" \",\"\")\n",
    "                if len(rl_input_df)>0:\n",
    "                    len_before_filter = len(curr_batch)\n",
    "                    curr_batch = curr_batch[~curr_batch['traj_id'].isin(rl_input_df['traj_id'])]\n",
    "                curr_batch['filename'] = filename\n",
    "                rl_input_df = rl_input_df.append(curr_batch, ignore_index=True)\n",
    "\n",
    "    dataset_filename = '../../../mturk/compqgen/final/complexwebquestions_V1_1/ComplexWebQuestions_train'\n",
    "    with open(dataset_filename + '.json', 'r') as outfile:\n",
    "        complexwebquestions = pd.DataFrame(json.load(outfile))\n",
    "\n",
    "    rl_input_df = rl_input_df.merge(\n",
    "        pd.DataFrame(complexwebquestions)[['answers', 'ID']], on='ID', how='inner')\n",
    "    rl_input_df.rename(columns={'answers_y': 'answers'}, inplace=True)\n",
    "    del rl_input_df['answers_x']        \n",
    "\n",
    "    rl_input_df = rl_input_df.set_index('traj_id')\n",
    "\n",
    "    # dropping exact duplicate splits\n",
    "    print('size before drop dups: ' + str(len(rl_input_df)))\n",
    "    rl_input_df = rl_input_df.drop_duplicates(['ID', 'comp', 'split_part1', 'split_part2'])\n",
    "    print('size after drop dups: ' + str(len(rl_input_df)))\n",
    "    \n",
    "    # checking overlab between V1 training question and V2\n",
    "    #dataset_filename = '../../mturk/compqgen/final/complexwebquestions/ComplexWebQuestions_train'\n",
    "    #with open(dataset_filename + '.json', 'r') as outfile:\n",
    "    #    complexwebquestions_org = pd.DataFrame(json.load(outfile))"
   ]
  },
  {
   "cell_type": "code",
   "execution_count": 60,
   "metadata": {
    "ExecuteTime": {
     "end_time": "2018-09-28T08:03:09.483668Z",
     "start_time": "2018-09-28T08:03:09.467302Z"
    },
    "code_folding": [],
    "run_control": {
     "marked": false
    }
   },
   "outputs": [],
   "source": [
    "if USE_COMPWEBQ:\n",
    "    dataset_filename = '../data/ComplexWebQuestions_' + EVAL_SET\n",
    "    with open(dataset_filename + '.json', 'r') as outfile:\n",
    "        complexwebquestions_org = pd.DataFrame(json.load(outfile)).set_index('ID')\n",
    "\n",
    "    rl_input_df.loc[rl_input_df['comp'] == 'composition','composition_answer'] = \\\n",
    "        list(complexwebquestions_org.loc[rl_input_df[rl_input_df['comp'] == 'composition']['ID'],'composition_answer'].astype(object))"
   ]
  },
  {
   "cell_type": "code",
   "execution_count": 61,
   "metadata": {
    "ExecuteTime": {
     "end_time": "2018-09-28T08:03:09.530277Z",
     "start_time": "2018-09-28T08:03:09.485360Z"
    },
    "code_folding": [],
    "run_control": {
     "marked": true
    }
   },
   "outputs": [],
   "source": [
    "if USE_COMPWEBQ:\n",
    "    questions = []   \n",
    "    for ind in tqdm(range(len(rl_input_df)), total=len(rl_input_df), ncols=80, desc=\"scoring\"):\n",
    "        question = rl_input_df.iloc[ind]\n",
    "        if question['comp'] == 'conjunction':\n",
    "            q_copied = question.copy()\n",
    "            questions.append(q_copied)\n",
    "            if ADD_SPLITS_TO_TRAIN:\n",
    "                q_copied = question.copy()\n",
    "                q_copied['question'] = question['split_part1']\n",
    "                questions.append(q_copied)\n",
    "                q_copied = question.copy()\n",
    "                q_copied['question'] = question['split_part2']\n",
    "                questions.append(q_copied)\n",
    "        elif question['comp'] == 'composition':\n",
    "            q_copied = question.copy()\n",
    "            q_copied['ID']\n",
    "            questions.append(q_copied)\n",
    "            if ADD_SPLITS_TO_TRAIN:\n",
    "                q_copied = question.copy()\n",
    "                q_copied['question'] = question['split_part1']\n",
    "                q_copied['answers'] = [{'aliases':[],'answer':question['composition_answer']}]\n",
    "                questions.append(q_copied)\n",
    "                q_copied = question.copy()\n",
    "                q_copied['question'] = question['split_part2']\n",
    "                q_copied['question'] = q_copied['question'].replace('%composition',question['composition_answer'])\n",
    "                questions.append(q_copied)\n",
    "        else:\n",
    "            q_copied = question.copy()\n",
    "            questions.append(q_copied)"
   ]
  },
  {
   "cell_type": "code",
   "execution_count": 62,
   "metadata": {
    "ExecuteTime": {
     "end_time": "2018-09-28T08:03:09.540802Z",
     "start_time": "2018-09-28T08:03:09.532165Z"
    },
    "code_folding": [],
    "run_control": {
     "marked": true
    }
   },
   "outputs": [],
   "source": [
    "if USE_COMPWEBQ:\n",
    "    questions = pd.DataFrame(questions)\n",
    "    # dropping exact duplicate splits\n",
    "    print('size before drop dups: ' + str(len(questions)))\n",
    "    questions = questions.drop_duplicates(['question'])\n",
    "    print('size after drop dups: ' + str(len(questions)))\n",
    "    questions = questions.reset_index(drop=True)\n",
    "    Data['ComplexWebQuestions'] = questions"
   ]
  },
  {
   "cell_type": "markdown",
   "metadata": {},
   "source": [
    "### ComplexWebQuestions to TriviaQA format\n"
   ]
  },
  {
   "cell_type": "markdown",
   "metadata": {},
   "source": [
    "# convert to triviaqa format"
   ]
  },
  {
   "cell_type": "markdown",
   "metadata": {},
   "source": [
    "dev and train are converted in the same place"
   ]
  },
  {
   "cell_type": "code",
   "execution_count": 63,
   "metadata": {
    "ExecuteTime": {
     "end_time": "2018-09-28T08:03:09.545700Z",
     "start_time": "2018-09-28T08:03:09.542660Z"
    },
    "run_control": {
     "marked": true
    }
   },
   "outputs": [],
   "source": [
    "Data_triviaqa_format = {}"
   ]
  },
  {
   "cell_type": "markdown",
   "metadata": {},
   "source": [
    "## MSMARCO"
   ]
  },
  {
   "cell_type": "code",
   "execution_count": 64,
   "metadata": {
    "ExecuteTime": {
     "end_time": "2018-09-28T08:04:12.232127Z",
     "start_time": "2018-09-28T08:03:09.547895Z"
    },
    "code_folding": [
     0
    ],
    "run_control": {
     "marked": true
    }
   },
   "outputs": [
    {
     "name": "stderr",
     "output_type": "stream",
     "text": [
      "scoring: 100%|████████████████████████| 160375/160375 [00:59<00:00, 2709.61it/s]\n"
     ]
    }
   ],
   "source": [
    "if USE_MSMARCO:\n",
    "    questions = Data['MSMARCO']\n",
    "    questions_triviaqa_format = pd.DataFrame()\n",
    "    questions_triviaqa_format['QuestionId'] = questions['query_id']\n",
    "    questions_triviaqa_format['Question'] = questions['query']\n",
    "    if USE_MSMARCO_ORG_CONTEXT:\n",
    "        all_contexts = []\n",
    "        for ind,q in tqdm(questions.iterrows(),total=len(questions), ncols=80, desc=\"org context\"): \n",
    "            passages = []\n",
    "            for snippet in q['passages']:\n",
    "                passages += [{'title':'','snippet':snippet['passage_text']}]\n",
    "            all_contexts.append(passages)\n",
    "        questions_triviaqa_format['SearchResults'] = all_contexts\n",
    "    else:\n",
    "        questions_triviaqa_format['SearchResults'] = [[] for x in range(len(questions_triviaqa_format))]\n",
    "    questions_triviaqa_format['EntityPages'] = [[] for x in range(len(questions_triviaqa_format))]\n",
    "    questions_triviaqa_format['QuestionSource'] = ''\n",
    "    all_answers = []\n",
    "    for ind,q in tqdm(questions.iterrows(),total=len(questions), ncols=80, desc=\"scoring\"):\n",
    "        filtered_answer = []\n",
    "        for answer in q['answers']:\n",
    "            if len(answer) > 0:\n",
    "                filtered_answer.append(answer)\n",
    "        \n",
    "        \n",
    "        triviaqa_formated_answers = {'Aliases':[],'NormalizedAliases':[], \\\n",
    "                                    'NormalizedValue':'', \\\n",
    "                                     'Type':'FreeForm','Value':''}\n",
    "        triviaqa_formated_answers['Value'] = filtered_answer[0]\n",
    "        triviaqa_formated_answers['NormalizedValue'] = ' '.join(word_tokenize(filtered_answer[0].lower()))\n",
    "        aliases = [answer for answer in filtered_answer]\n",
    "        aliases = list(set(aliases))\n",
    "        triviaqa_formated_answers['Aliases'] = aliases\n",
    "        \n",
    "        triviaqa_formated_answers['NormalizedAliases'] = \\\n",
    "            [' '.join(word_tokenize(word.lower())) for word in triviaqa_formated_answers['Aliases']]\n",
    "        all_answers.append(triviaqa_formated_answers)\n",
    "\n",
    "    questions_triviaqa_format['Answer'] = all_answers\n",
    "    questions_triviaqa_format = questions_triviaqa_format[questions_triviaqa_format['Answer'].notnull()] \n",
    "    \n",
    "    Data_triviaqa_format['MSMARCO'] = questions_triviaqa_format"
   ]
  },
  {
   "cell_type": "code",
   "execution_count": 65,
   "metadata": {
    "ExecuteTime": {
     "end_time": "2018-09-28T08:04:12.240532Z",
     "start_time": "2018-09-28T08:04:12.234544Z"
    }
   },
   "outputs": [
    {
     "data": {
      "text/plain": [
       "'Today, the town serves as a suburb of Galveston and houses workers from the Johnson Space Center. Since 1984, Hitchcock has been home to the Galveston County Fair & Rodeo. The Galveston County Fair & Rodeo began in 1938 and was held at facilities in Runge Park in Arcadia. In the early 1980s, the County Fair had reached its limits of growth at Runge Park, and plans began for a move to Jack Brooks Park in Hitchcock.'"
      ]
     },
     "execution_count": 65,
     "metadata": {},
     "output_type": "execute_result"
    }
   ],
   "source": [
    "snippet['passage_text']"
   ]
  },
  {
   "cell_type": "markdown",
   "metadata": {},
   "source": [
    "## Squad"
   ]
  },
  {
   "cell_type": "code",
   "execution_count": 66,
   "metadata": {
    "ExecuteTime": {
     "end_time": "2018-09-28T08:04:12.314003Z",
     "start_time": "2018-09-28T08:04:12.242407Z"
    },
    "code_folding": [],
    "run_control": {
     "marked": true
    }
   },
   "outputs": [],
   "source": [
    "if USE_SQUAD:\n",
    "    questions = Data['Squad']\n",
    "    if PRODUCE_ONLY_SAMPLE:\n",
    "        questions = questions[0:100]\n",
    "        \n",
    "    questions_triviaqa_format = pd.DataFrame()\n",
    "    questions_triviaqa_format['QuestionId'] = questions['id']\n",
    "    questions_triviaqa_format['Question'] = questions['question']\n",
    "    if USE_SQUAD_ORG_CONTEXT:\n",
    "        all_contexts = []\n",
    "        for ind,q in tqdm(questions.iterrows(),total=len(questions), ncols=80, desc=\"org context\"): \n",
    "            all_contexts.append([{'title':'','snippet':org_contexts[q['context_id']]}])\n",
    "        questions_triviaqa_format['SearchResults'] = all_contexts\n",
    "    else:\n",
    "        questions_triviaqa_format['SearchResults'] = [[] for x in range(len(questions_triviaqa_format))]\n",
    "    questions_triviaqa_format['EntityPages'] = [[] for x in range(len(questions_triviaqa_format))]\n",
    "    questions_triviaqa_format['QuestionSource'] = ''\n",
    "    all_answers = []\n",
    "    for ind,q in tqdm(questions.iterrows(),total=len(questions), ncols=80, desc=\"appending answers\"):\n",
    "        filtered_answer = []\n",
    "        for answer in q['answers']:\n",
    "            if len(answer['text']) > 0:\n",
    "                filtered_answer.append(answer)\n",
    "        \n",
    "        \n",
    "        triviaqa_formated_answers = {'Aliases':[],'NormalizedAliases':[], \\\n",
    "                                    'NormalizedValue':'', \\\n",
    "                                     'Type':'FreeForm','Value':''}\n",
    "        triviaqa_formated_answers['Value'] = filtered_answer[0]['text']\n",
    "        triviaqa_formated_answers['NormalizedValue'] = ' '.join(word_tokenize(filtered_answer[0]['text'].lower()))\n",
    "        aliases = [answer['text'] for answer in filtered_answer]\n",
    "        aliases = list(set(aliases))\n",
    "        triviaqa_formated_answers['Aliases'] = aliases\n",
    "        \n",
    "        triviaqa_formated_answers['NormalizedAliases'] = \\\n",
    "            [' '.join(word_tokenize(word.lower())) for word in triviaqa_formated_answers['Aliases']]\n",
    "        all_answers.append(triviaqa_formated_answers)\n",
    "\n",
    "    questions_triviaqa_format['Answer'] = all_answers\n",
    "    questions_triviaqa_format = questions_triviaqa_format[questions_triviaqa_format['Answer'].notnull()] \n",
    "    \n",
    "    Data_triviaqa_format['Squad'] = questions_triviaqa_format"
   ]
  },
  {
   "cell_type": "markdown",
   "metadata": {},
   "source": [
    "## ComplexWebQuestions"
   ]
  },
  {
   "cell_type": "code",
   "execution_count": 67,
   "metadata": {
    "ExecuteTime": {
     "end_time": "2018-09-28T08:04:12.387840Z",
     "start_time": "2018-09-28T08:04:12.315734Z"
    },
    "code_folding": [],
    "run_control": {
     "marked": true
    }
   },
   "outputs": [],
   "source": [
    "if USE_COMPWEBQ:\n",
    "    questions = Data['ComplexWebQuestions']\n",
    "    if PRODUCE_ONLY_SAMPLE:\n",
    "        questions = questions[0:100]\n",
    "    questions_triviaqa_format = pd.DataFrame()\n",
    "    questions_triviaqa_format['QuestionId'] = questions['ID'] + '_' + questions.index.astype(str)\n",
    "    questions_triviaqa_format['Question'] = questions['question']\n",
    "    questions_triviaqa_format['SearchResults'] = [[] for x in range(len(questions_triviaqa_format))]\n",
    "    questions_triviaqa_format['EntityPages'] = [[] for x in range(len(questions_triviaqa_format))]\n",
    "    questions_triviaqa_format['QuestionSource'] = ''\n",
    "    all_answers = []\n",
    "    for ind,q in tqdm(questions.iterrows(),total=len(questions), ncols=80, desc=\"scoring\"):\n",
    "        if q['answers'][0]['answer'] == None or q['answers'][0]['answer'] == '':\n",
    "            all_answers.append(None)\n",
    "        else:\n",
    "            filtered_answer = []\n",
    "            for answer in q['answers']:\n",
    "                if len(answer['answer']) > 0:\n",
    "                    filtered_answer.append(answer)\n",
    "\n",
    "            triviaqa_formated_answers = {'Aliases':[],'NormalizedAliases':[], \\\n",
    "                                        'NormalizedValue':'', \\\n",
    "                                         'Type':'FreeForm','Value':''}\n",
    "            triviaqa_formated_answers['Value'] = filtered_answer[0]['answer']\n",
    "            triviaqa_formated_answers['NormalizedValue'] = ' '.join(word_tokenize(filtered_answer[0]['answer'].lower()))\n",
    "            for answer in filtered_answer:\n",
    "                triviaqa_formated_answers['Aliases'] += answer['aliases']\n",
    "                triviaqa_formated_answers['Aliases'].append(answer['answer'])\n",
    "\n",
    "            triviaqa_formated_answers['NormalizedAliases'] = \\\n",
    "                [' '.join(word_tokenize(word.lower())) for word in triviaqa_formated_answers['Aliases']]\n",
    "            all_answers.append(triviaqa_formated_answers)\n",
    "\n",
    "    questions_triviaqa_format['Answer'] = all_answers\n",
    "    questions_triviaqa_format = questions_triviaqa_format[questions_triviaqa_format['Answer'].notnull()]  \n",
    "    Data_triviaqa_format['ComplexWebQuestions'] = questions_triviaqa_format"
   ]
  },
  {
   "cell_type": "markdown",
   "metadata": {},
   "source": [
    "## TriviaQA"
   ]
  },
  {
   "cell_type": "code",
   "execution_count": 68,
   "metadata": {
    "ExecuteTime": {
     "end_time": "2018-09-28T08:04:12.393755Z",
     "start_time": "2018-09-28T08:04:12.389682Z"
    },
    "run_control": {
     "marked": true
    }
   },
   "outputs": [],
   "source": [
    "if USE_TRIVIAQA:\n",
    "    if PRODUCE_ONLY_SAMPLE:\n",
    "        Data['TriviaQA'] = Data['TriviaQA'][0:100]\n",
    "    Data_triviaqa_format['TriviaQA'] = Data['TriviaQA']"
   ]
  },
  {
   "cell_type": "markdown",
   "metadata": {},
   "source": [
    "# Appending snippets to the questions"
   ]
  },
  {
   "cell_type": "markdown",
   "metadata": {},
   "source": [
    "google snippets are appended to all sub-datasets in the same manner"
   ]
  },
  {
   "cell_type": "markdown",
   "metadata": {},
   "source": [
    "## From local mongo (currently only for ComplexWebQuestions)"
   ]
  },
  {
   "cell_type": "code",
   "execution_count": 69,
   "metadata": {
    "ExecuteTime": {
     "end_time": "2018-09-28T08:04:12.402019Z",
     "start_time": "2018-09-28T08:04:12.395636Z"
    },
    "run_control": {
     "marked": true
    }
   },
   "outputs": [],
   "source": [
    "if USE_COMPWEBQ and WRITE_EVIDENCE:\n",
    "    MONGODB_URI = 'mongodb://127.0.0.1:27017/webkb'\n",
    "    mongo_client = pymongo.MongoClient(MONGODB_URI)\n",
    "    db = mongo_client.get_default_database()\n",
    "    SearchCache = db['SearchResults_Cache']"
   ]
  },
  {
   "cell_type": "code",
   "execution_count": 70,
   "metadata": {
    "ExecuteTime": {
     "end_time": "2018-09-28T08:04:12.438738Z",
     "start_time": "2018-09-28T08:04:12.404463Z"
    },
    "run_control": {
     "marked": true
    }
   },
   "outputs": [],
   "source": [
    "if USE_COMPWEBQ:\n",
    "    if WRITE_EVIDENCE:\n",
    "        found = 0\n",
    "        questions_triviaqa_format = Data_triviaqa_format['ComplexWebQuestions']\n",
    "        questions_triviaqa_format = questions_triviaqa_format.set_index('QuestionId')\n",
    "        questions_triviaqa_format['SearchResults'] = None\n",
    "        questions_triviaqa_format['SearchResults'] = questions_triviaqa_format['SearchResults'].astype(object)\n",
    "        for QuestionId,question in tqdm(questions_triviaqa_format.iterrows(), total=len(questions_triviaqa_format), ncols=80,\\\n",
    "                        desc=\"appending google search results\"):\n",
    "            CacheResults = SearchCache.find(\n",
    "                {'querystr': question['Question'], \"page\": 0, \"type\": 'SCREEN'})\n",
    "            CacheResults_Count = CacheResults.count()\n",
    "            if CacheResults_Count>0:\n",
    "                found += 1\n",
    "                cahched_item = CacheResults.next()\n",
    "                questions_triviaqa_format.at[QuestionId,'SearchResults'] = cahched_item['results']\n",
    "        questions_triviaqa_format = questions_triviaqa_format.reset_index()\n",
    "\n",
    "        Data_triviaqa_format['ComplexWebQuestions_Googled'] = questions_triviaqa_format\n",
    "        del Data_triviaqa_format['ComplexWebQuestions']\n",
    "    else:\n",
    "        Data_triviaqa_format['ComplexWebQuestions_Googled'] = Data_triviaqa_format.pop('ComplexWebQuestions')"
   ]
  },
  {
   "cell_type": "markdown",
   "metadata": {},
   "source": [
    "## From files"
   ]
  },
  {
   "cell_type": "code",
   "execution_count": 71,
   "metadata": {
    "ExecuteTime": {
     "end_time": "2018-09-28T08:04:12.475865Z",
     "start_time": "2018-09-28T08:04:12.440786Z"
    },
    "code_folding": [
     0
    ],
    "run_control": {
     "marked": false
    }
   },
   "outputs": [],
   "source": [
    "def append_google_from_files(questions_triviaqa_format,googled_dir):\n",
    "    question_count = 0\n",
    "\n",
    "    questions_triviaqa_format = questions_triviaqa_format.set_index('QuestionId')\n",
    "    questions_triviaqa_format['SearchResults'] = None\n",
    "    questions_triviaqa_format['SearchResults'] = questions_triviaqa_format['SearchResults'].astype(object)\n",
    "\n",
    "    for dirname, dirnames, filenames in os.walk(googled_dir):\n",
    "        for filename in tqdm(filenames, total=len(filenames), ncols=80, desc='iterating over all googled files'):\n",
    "            with zipfile.ZipFile(googled_dir + '/' + filename,'r') as myzip:\n",
    "                with myzip.open(filename.replace('.zip','')) as myfile:\n",
    "                    googled = json.load(myfile)\n",
    "\n",
    "            for googled_question in googled:\n",
    "                question_count += 1\n",
    "                if 'QuestionId' in googled_question:\n",
    "                    questions_triviaqa_format.at[googled_question['QuestionId'],\\\n",
    "                                             'SearchResults'] = googled_question['google_results']\n",
    "                else:\n",
    "                    questions_triviaqa_format.at[googled_question['id'],\\\n",
    "                                             'SearchResults'] = googled_question['google_results']\n",
    "\n",
    "    questions_triviaqa_format = questions_triviaqa_format.reset_index()\n",
    "    print('number of questions googled')\n",
    "    print(question_count)\n",
    "    \n",
    "    return questions_triviaqa_format"
   ]
  },
  {
   "cell_type": "code",
   "execution_count": 72,
   "metadata": {
    "ExecuteTime": {
     "end_time": "2018-09-28T08:04:12.486002Z",
     "start_time": "2018-09-28T08:04:12.478192Z"
    },
    "code_folding": [
     0,
     1
    ],
    "run_control": {
     "marked": false
    }
   },
   "outputs": [],
   "source": [
    "# TriviaQA\n",
    "if USE_TRIVIAQA and SEARCHRESULTS_FROM_FILES:\n",
    "    if WRITE_EVIDENCE:\n",
    "        if EVAL_SET == 'dev':\n",
    "            Data_triviaqa_format['TriviaQA_Googled'] = append_google_from_files(Data_triviaqa_format['TriviaQA'], \\\n",
    "                                                                       '../data/triviaqa_googled_dev')\n",
    "        else:\n",
    "            Data_triviaqa_format['TriviaQA_Googled'] = append_google_from_files(Data_triviaqa_format['TriviaQA'], \\\n",
    "                                                                   '../data/triviaqa_googled_train')\n",
    "        del Data_triviaqa_format['TriviaQA']\n",
    "    else:\n",
    "        Data_triviaqa_format['TriviaQA_Googled'] = Data_triviaqa_format.pop('TriviaQA')    "
   ]
  },
  {
   "cell_type": "code",
   "execution_count": 73,
   "metadata": {
    "ExecuteTime": {
     "end_time": "2018-09-28T08:04:12.497877Z",
     "start_time": "2018-09-28T08:04:12.488388Z"
    },
    "code_folding": [
     0
    ],
    "run_control": {
     "marked": true
    }
   },
   "outputs": [],
   "source": [
    "# MSMARCO\n",
    "if USE_MSMARCO and USE_MSMARCO_ORG_CONTEXT:\n",
    "    Data_triviaqa_format['MSMARCO_Org'] = Data_triviaqa_format.pop('MSMARCO')\n",
    "elif USE_MSMARCO and SEARCHRESULTS_FROM_FILES:\n",
    "    if WRITE_EVIDENCE:\n",
    "        if EVAL_SET == 'dev':\n",
    "            Data_triviaqa_format['MSMARCO_Googled'] = append_google_from_files(Data_triviaqa_format['MSMARCO'], \\\n",
    "                                                                       '/Users/alontalmor/Dropbox/Apps/WebKB/MSMARCO/dev')\n",
    "        else:\n",
    "            Data_triviaqa_format['MSMARCO_Googled'] = append_google_from_files(Data_triviaqa_format['MSMARCO'], \\\n",
    "                                                                   '/Users/alontalmor/Dropbox/Apps/WebKB/MSMARCO/train')\n",
    "        del Data_triviaqa_format['MSMARCO']\n",
    "    else:\n",
    "        Data_triviaqa_format['MSMARCO_Googled'] = Data_triviaqa_format.pop('MSMARCO')"
   ]
  },
  {
   "cell_type": "code",
   "execution_count": 74,
   "metadata": {
    "ExecuteTime": {
     "end_time": "2018-09-28T08:04:12.509343Z",
     "start_time": "2018-09-28T08:04:12.500208Z"
    },
    "code_folding": [
     0
    ],
    "run_control": {
     "marked": true
    }
   },
   "outputs": [],
   "source": [
    "# Squad \n",
    "if USE_SQUAD and USE_SQUAD_ORG_CONTEXT:\n",
    "    Data_triviaqa_format['Squad_Org'] = Data_triviaqa_format.pop('Squad')\n",
    "elif USE_SQUAD and SEARCHRESULTS_FROM_FILES:\n",
    "    if WRITE_EVIDENCE:\n",
    "        if EVAL_SET == 'dev':\n",
    "            Data_triviaqa_format['Squad_Googled'] = append_google_from_files(Data_triviaqa_format['Squad'], \\\n",
    "                                                                       '../data/Squad/dev')\n",
    "        else:\n",
    "            Data_triviaqa_format['Squad_Googled'] = append_google_from_files(Data_triviaqa_format['Squad'], \\\n",
    "                                                                   '../data/Squad/train')  \n",
    "        del Data_triviaqa_format['Squad']\n",
    "    else:\n",
    "        Data_triviaqa_format['Squad_Googled'] = Data_triviaqa_format.pop('Squad')"
   ]
  },
  {
   "cell_type": "code",
   "execution_count": 75,
   "metadata": {
    "ExecuteTime": {
     "end_time": "2018-09-28T08:04:12.756875Z",
     "start_time": "2018-09-28T08:04:12.511447Z"
    },
    "code_folding": [
     0
    ],
    "run_control": {
     "marked": false
    }
   },
   "outputs": [
    {
     "name": "stdout",
     "output_type": "stream",
     "text": [
      "---------------------------------\n",
      "MSMARCO_Googled\n",
      "print how many question we found google results for\n",
      "0\n",
      "final question count\n",
      "160375\n"
     ]
    }
   ],
   "source": [
    "# Post PostProcessing\n",
    "for dataset in Data_triviaqa_format.keys():\n",
    "    print('---------------------------------')\n",
    "    print(dataset)\n",
    "    Data_triviaqa_format[dataset] = \\\n",
    "        Data_triviaqa_format[dataset][Data_triviaqa_format[dataset]['SearchResults'].notnull()]\n",
    "        \n",
    "    print('print how many question we found google results for')\n",
    "    print((Data_triviaqa_format[dataset]['SearchResults'].apply(len)>0).sum())\n",
    "    \n",
    "\n",
    "    Data_triviaqa_format[dataset] = \\\n",
    "        Data_triviaqa_format[dataset][Data_triviaqa_format[dataset]['SearchResults'].notnull()]\n",
    "\n",
    "    Data_triviaqa_format[dataset] = \\\n",
    "        Data_triviaqa_format[dataset][Data_triviaqa_format[dataset]['Answer'].notnull()]\n",
    "\n",
    "    print('final question count')\n",
    "    print(len(Data_triviaqa_format[dataset]))"
   ]
  },
  {
   "cell_type": "markdown",
   "metadata": {
    "ExecuteTime": {
     "end_time": "2018-07-12T08:52:27.539131Z",
     "start_time": "2018-07-12T08:52:27.536603Z"
    }
   },
   "source": [
    "# Combine all datasets\n"
   ]
  },
  {
   "cell_type": "markdown",
   "metadata": {},
   "source": [
    "This operation also supports sampling (to reduce size or change number of examples from each dataset)"
   ]
  },
  {
   "cell_type": "code",
   "execution_count": 76,
   "metadata": {
    "ExecuteTime": {
     "end_time": "2018-09-28T08:04:12.884134Z",
     "start_time": "2018-09-28T08:04:12.758837Z"
    },
    "code_folding": [],
    "run_control": {
     "marked": true
    }
   },
   "outputs": [],
   "source": [
    "# combining all the training sets\n",
    "questions_triviaqa_format = pd.DataFrame()\n",
    "for dataset in Data_triviaqa_format.keys():\n",
    "    Data_triviaqa_format[dataset]['dataset'] = dataset\n",
    "    questions_triviaqa_format = \\\n",
    "        questions_triviaqa_format.append(Data_triviaqa_format[dataset],ignore_index=True)\n",
    "if EVAL_SET == 'train' and LIMIT_TRAIN_SIZE != -1:\n",
    "    if len(questions_triviaqa_format) >= LIMIT_TRAIN_SIZE:\n",
    "        questions_triviaqa_format = questions_triviaqa_format.sample(n=LIMIT_TRAIN_SIZE)\n",
    "        \n",
    "if EVAL_SET == 'dev':\n",
    "    # We don't need more than 8000 in the mixed dev set.\n",
    "    if len(questions_triviaqa_format) >= 8000:\n",
    "        questions_triviaqa_format = questions_triviaqa_format.sample(n=8000)\n",
    "    \n",
    "del Data_triviaqa_format\n",
    "    "
   ]
  },
  {
   "cell_type": "code",
   "execution_count": 77,
   "metadata": {
    "ExecuteTime": {
     "end_time": "2018-09-28T08:04:12.930067Z",
     "start_time": "2018-09-28T08:04:12.886063Z"
    }
   },
   "outputs": [
    {
     "data": {
      "text/plain": [
       "0    160375\n",
       "Name: SearchResults, dtype: int64"
      ]
     },
     "execution_count": 77,
     "metadata": {},
     "output_type": "execute_result"
    }
   ],
   "source": [
    "questions_triviaqa_format['SearchResults'].apply(len).value_counts()"
   ]
  },
  {
   "cell_type": "markdown",
   "metadata": {
    "ExecuteTime": {
     "end_time": "2018-05-31T15:54:10.417162Z",
     "start_time": "2018-05-31T15:54:10.414441Z"
    }
   },
   "source": [
    "# Building Evidence Files"
   ]
  },
  {
   "cell_type": "code",
   "execution_count": 78,
   "metadata": {
    "ExecuteTime": {
     "end_time": "2018-09-28T08:04:12.934281Z",
     "start_time": "2018-09-28T08:04:12.931800Z"
    },
    "run_control": {
     "marked": false
    }
   },
   "outputs": [],
   "source": [
    "#print('checking if there exist cases in which there are no answers?')\n",
    "#print(len(questions_triviaqa_format[questions_triviaqa_format['Answer'].agg(lambda x: x['Value']).apply(len)==0]['Answer']))"
   ]
  },
  {
   "cell_type": "code",
   "execution_count": 79,
   "metadata": {
    "ExecuteTime": {
     "end_time": "2018-09-28T08:04:12.966372Z",
     "start_time": "2018-09-28T08:04:12.936054Z"
    },
    "run_control": {
     "marked": true
    }
   },
   "outputs": [],
   "source": [
    "triviaqa_dict = {}\n",
    "triviaqa_dict['Data'] = questions_triviaqa_format\n",
    "triviaqa_dict['Domain'] = 'unfiltered-web'\n",
    "triviaqa_dict['Split'] = EVAL_SET\n",
    "triviaqa_dict['VerifiedEval'] = False\n",
    "triviaqa_dict['Version'] = 1.0"
   ]
  },
  {
   "cell_type": "code",
   "execution_count": 80,
   "metadata": {
    "ExecuteTime": {
     "end_time": "2018-09-28T08:04:13.150348Z",
     "start_time": "2018-09-28T08:04:12.968145Z"
    },
    "run_control": {
     "marked": true
    }
   },
   "outputs": [],
   "source": [
    "data_df = triviaqa_dict['Data']\n",
    "data_df = data_df.set_index('QuestionId')\n",
    "org_data_df = data_df.copy(deep=True)\n",
    "data_df = data_df.rename(columns = {'SearchResults':'OrgSearchResults'})\n",
    "data_df['SearchResults'] = None\n",
    "data_df = data_df[data_df['OrgSearchResults'].notnull()]"
   ]
  },
  {
   "cell_type": "markdown",
   "metadata": {},
   "source": [
    "## build googled evidence"
   ]
  },
  {
   "cell_type": "code",
   "execution_count": 81,
   "metadata": {
    "ExecuteTime": {
     "end_time": "2018-09-28T08:04:13.241675Z",
     "start_time": "2018-09-28T08:04:13.152296Z"
    },
    "code_folding": [
     0
    ],
    "run_control": {
     "marked": true
    },
    "scrolled": true
   },
   "outputs": [],
   "source": [
    "# OLD create a query to file map\n",
    "if False and not USE_SQUAD_ORG_CONTEXT and not USE_MSMARCO_ORG_CONTEXT:\n",
    "    if WRITE_EVIDENCE and not os.path.isdir(EVIDENCE_DIR + 'evidence/'):\n",
    "        os.mkdir(EVIDENCE_DIR + 'evidence/')\n",
    "\n",
    "    if WRITE_EVIDENCE and not os.path.isdir(EVIDENCE_DIR +'evidence/' + EXP_NAME):\n",
    "        os.mkdir(EVIDENCE_DIR + 'evidence/' + EXP_NAME)\n",
    "\n",
    "    train_file_ind = int(0)\n",
    "    for i in tqdm(range(len(data_df)), total=len(data_df), ncols=80, desc=\"building evidence files\"):\n",
    "        question = data_df.iloc[i]\n",
    "        questionID = data_df.index[i]\n",
    "        # building 10 text files out of 100 snippets\n",
    "        SearchResults = []\n",
    "        files = []\n",
    "        filenames = []\n",
    "        file_ind = 0\n",
    "        google_results = question['OrgSearchResults']\n",
    "        train_file_ind += 1\n",
    "\n",
    "\n",
    "        if WRITE_EVIDENCE and not os.path.isdir(EVIDENCE_DIR + 'evidence/' + EXP_NAME + '/' + str(int(train_file_ind / 100))):\n",
    "            os.mkdir(EVIDENCE_DIR + 'evidence/' + EXP_NAME + '/' + str(int(train_file_ind / 100)))\n",
    "            #if train_file_ind % 1000 == 0:\n",
    "            #    print(EVIDENCE_DIR + 'evidence/' + EXP_NAME + '/' + str(int(train_file_ind / 100)))\n",
    "\n",
    "        # go over all google snippets (usually 100)\n",
    "        for ind, g in enumerate(google_results):\n",
    "            file_ind = file_ind % FILES_PER_QUESTION\n",
    "            if len(files) <= file_ind:\n",
    "                file_name = EXP_NAME + '/' + str(int(train_file_ind / 100)) + \"/\" + \\\n",
    "                    questionID + '_' + str(file_ind) + '.txt'\n",
    "                #SearchResults.append({'Rank':ind, 'Description':g['snippet'],'Title':g['title'],'DisplayUrl':g['url'] , \\\n",
    "                #              'Url':g['url'] + file_name.replace('/','_').replace('.txt',''),'Filename':file_name })\n",
    "                # Moving to empty evidence text ( it will be taken from the files)\n",
    "                SearchResults.append({'Rank':ind, 'Description':'','Title':'','DisplayUrl':'' , \\\n",
    "                              'Url':g['url'] + file_name.replace('/','_').replace('.txt',''),'Filename':file_name })\n",
    "                \n",
    "                files.append('')\n",
    "                filenames.append(file_name)\n",
    "\n",
    "            files[file_ind] += str(\n",
    "                ind) + '. ' + g['title'] + '\\n' + g['snippet'] + '\\n'\n",
    "\n",
    "            file_ind += 1\n",
    "\n",
    "        # saving files\n",
    "        if WRITE_EVIDENCE:\n",
    "            for file_str, file_name in zip(files, filenames):\n",
    "                with open(EVIDENCE_DIR + 'evidence/' + file_name, 'w') as outfile:\n",
    "                    outfile.write(file_str)\n",
    "\n",
    "        data_df.at[questionID, 'SearchResults'] = SearchResults"
   ]
  },
  {
   "cell_type": "code",
   "execution_count": 82,
   "metadata": {
    "ExecuteTime": {
     "end_time": "2018-09-28T08:04:13.250589Z",
     "start_time": "2018-09-28T08:04:13.244342Z"
    },
    "code_folding": [
     0
    ],
    "run_control": {
     "marked": false
    }
   },
   "outputs": [],
   "source": [
    "# check folder name distribution (200 folders per dataset)\n",
    "if False:\n",
    "    x = []\n",
    "    for ind in list(data_df.index):\n",
    "        m = hashlib.md5()\n",
    "        m.update(ind.encode())\n",
    "        questionID_hex = m.hexdigest()\n",
    "        x.append(sum(questionID_hex.encode()) % 200)\n",
    "    pd.Series(x).hist()"
   ]
  },
  {
   "cell_type": "code",
   "execution_count": 83,
   "metadata": {
    "ExecuteTime": {
     "end_time": "2018-09-28T08:04:13.452750Z",
     "start_time": "2018-09-28T08:04:13.252505Z"
    },
    "code_folding": [
     0
    ],
    "run_control": {
     "marked": true
    }
   },
   "outputs": [],
   "source": [
    "# write_evidence\n",
    "def write_evidence(data_df,EVIDENCE_DIR):\n",
    "    if WRITE_EVIDENCE and not os.path.isdir(EVIDENCE_DIR + 'multiqa_evidence/'):\n",
    "        os.mkdir(EVIDENCE_DIR + 'multiqa_evidence/')\n",
    "\n",
    "    all_search_results = []\n",
    "    train_file_ind = int(0)\n",
    "    for i in tqdm(range(len(data_df)), total=len(data_df), ncols=80, desc=\"building evidence files\"):\n",
    "    #for i in tqdm(range(1), total=1, ncols=80, desc=\"building evidence files\"):\n",
    "        question = data_df.iloc[i]\n",
    "        questionID = data_df.index[i]\n",
    "        # building 10 text files out of 100 snippets\n",
    "        SearchResults = []\n",
    "        files = []\n",
    "        filenames = []\n",
    "        file_ind = 0\n",
    "        google_results = question['OrgSearchResults']\n",
    "        train_file_ind += 1\n",
    "\n",
    "        # creating a unique question identifier\n",
    "        m = hashlib.md5()\n",
    "        if type(questionID) != str:\n",
    "            questionID = str(questionID)\n",
    "        m.update(questionID.encode())\n",
    "        questionID_hex = m.hexdigest()\n",
    "        folder_ind = str(sum(questionID_hex.encode()) % 200)\n",
    "\n",
    "        if WRITE_EVIDENCE and not os.path.isdir(EVIDENCE_DIR + 'multiqa_evidence/' + question['dataset'] ):\n",
    "            os.mkdir(EVIDENCE_DIR + 'multiqa_evidence/' + question['dataset'] )\n",
    "\n",
    "        if WRITE_EVIDENCE and not os.path.isdir(EVIDENCE_DIR + 'multiqa_evidence/' + question['dataset'] + '/' + folder_ind):\n",
    "            os.mkdir(EVIDENCE_DIR + 'multiqa_evidence/' + question['dataset'] + '/' + folder_ind)\n",
    "            #if train_file_ind % 1000 == 0:\n",
    "            #    print(EVIDENCE_DIR + 'evidence/' + EXP_NAME + '/' + str(int(train_file_ind / 100)))\n",
    "\n",
    "        # go over all google snippets (usually 100)\n",
    "        if WRITE_EVIDENCE:\n",
    "            for ind, g in enumerate(google_results):\n",
    "                file_ind = file_ind % FILES_PER_QUESTION\n",
    "                if len(files) <= file_ind:\n",
    "                    file_name = question['dataset'] + '/' + folder_ind + \"/\" + \\\n",
    "                        questionID + '_' + str(file_ind) + '.txt'\n",
    "                    # Moving to empty evidence text ( it will be taken from the files)\n",
    "                    SearchResults.append({'Rank':ind, 'Description':'','Title':'','DisplayUrl':'' , \\\n",
    "                                  'Url':question['dataset'] + '_' + file_name.replace('/','_').replace('.txt',''), \\\n",
    "                                          'Filename':file_name })\n",
    "\n",
    "                    files.append('')\n",
    "                    filenames.append(file_name)\n",
    "\n",
    "                if WRITE_EVIDENCE:\n",
    "                    if len(google_results)>1:\n",
    "                        files[file_ind] += str(ind) + '. ' + g['title'] + '\\n' + g['snippet'] + '\\n'\n",
    "                    else:\n",
    "                        # this coveres cases with only one search result, or original context like squad\n",
    "                        if len(g['title'])>0:\n",
    "                            files[file_ind] += g['title'] + '\\n' + g['snippet'] + '\\n'\n",
    "                        else:\n",
    "                            files[file_ind] += g['snippet'] \n",
    "\n",
    "                file_ind += 1\n",
    "        else:\n",
    "            for file_ind in range(FILES_PER_QUESTION):\n",
    "                file_name = question['dataset'] + '/' + folder_ind + \"/\" + \\\n",
    "                    questionID + '_' + str(file_ind) + '.txt'\n",
    "                if os.path.exists(EVIDENCE_DIR + 'multiqa_evidence/' + file_name):\n",
    "                    # Moving to empty evidence text ( it will be taken from the files)\n",
    "                    SearchResults.append({'Rank':file_ind, 'Description':'','Title':'','DisplayUrl':'' , \\\n",
    "                                  'Url':question['dataset'] + '_' + file_name.replace('/','_').replace('.txt',''), \\\n",
    "                                          'Filename':file_name })\n",
    "                else:\n",
    "                    #print(EVIDENCE_DIR + 'multiqa_evidence/' + file_name)\n",
    "                    break\n",
    "\n",
    "        # saving files\n",
    "        if WRITE_EVIDENCE:\n",
    "            for file_str, file_name in zip(files, filenames):\n",
    "                with open(EVIDENCE_DIR + 'multiqa_evidence/' + file_name, 'w') as outfile:\n",
    "                    outfile.write(file_str)\n",
    "\n",
    "        all_search_results.append(SearchResults)            \n",
    "    \n",
    "    data_df['SearchResults'] = all_search_results\n",
    "        \n",
    "    return data_df"
   ]
  },
  {
   "cell_type": "code",
   "execution_count": 84,
   "metadata": {
    "ExecuteTime": {
     "end_time": "2018-09-28T08:13:17.027929Z",
     "start_time": "2018-09-28T08:04:13.454660Z"
    }
   },
   "outputs": [
    {
     "name": "stderr",
     "output_type": "stream",
     "text": [
      "building evidence files: 100%|█████████| 160375/160375 [09:03<00:00, 295.06it/s]\n"
     ]
    }
   ],
   "source": [
    "#%lprun -f write_evidence write_evidence(data_df,EVIDENCE_DIR)\n",
    "data_df = write_evidence(data_df,EVIDENCE_DIR)"
   ]
  },
  {
   "cell_type": "code",
   "execution_count": 85,
   "metadata": {
    "ExecuteTime": {
     "end_time": "2018-09-28T08:13:17.054995Z",
     "start_time": "2018-09-28T08:13:17.031828Z"
    }
   },
   "outputs": [
    {
     "data": {
      "text/plain": [
       "0"
      ]
     },
     "execution_count": 85,
     "metadata": {},
     "output_type": "execute_result"
    }
   ],
   "source": [
    "len(data_df[data_df['SearchResults'].isnull()])"
   ]
  },
  {
   "cell_type": "markdown",
   "metadata": {
    "ExecuteTime": {
     "end_time": "2018-05-15T07:33:42.310094Z",
     "start_time": "2018-05-15T07:33:42.279265Z"
    }
   },
   "source": [
    "# Calc answer in google percentage"
   ]
  },
  {
   "cell_type": "code",
   "execution_count": 86,
   "metadata": {
    "ExecuteTime": {
     "end_time": "2018-09-28T08:35:50.256291Z",
     "start_time": "2018-09-28T08:13:17.056820Z"
    },
    "code_folding": [],
    "run_control": {
     "marked": true
    }
   },
   "outputs": [
    {
     "name": "stderr",
     "output_type": "stream",
     "text": [
      "checking how many gold answer are within question snippets: 100%|█| 160375/160375 [22:33<00:00, 118.53it/s]\n"
     ]
    },
    {
     "name": "stdout",
     "output_type": "stream",
     "text": [
      "answer are within question snippets 44.109119251753704%\n",
      "number of examples with answer are within question snippets 70740\n"
     ]
    }
   ],
   "source": [
    "INSPECT_EVIDENCE = False\n",
    "if CALC_ANSWER_IN_GOOGLE_PERC:\n",
    "    answer_found_mat = np.zeros((len(data_df),100))\n",
    "    q_ind = 0\n",
    "    for ind,question in tqdm(data_df.iterrows(),total=len(data_df), ncols=80, \\\n",
    "                             desc='checking how many gold answer are within question snippets'):\n",
    "        normalized_aliases = question['Answer']['NormalizedAliases']\n",
    "\n",
    "        for s_ind,result in enumerate(question['SearchResults']):\n",
    "            for alias in normalized_aliases:\n",
    "                \n",
    "                with open(EVIDENCE_DIR + 'multiqa_evidence/' + result['Filename'], 'r') as outfile:\n",
    "                    result_text = outfile.read()\n",
    "                #result_text = result['Title'] + ' ' + result['Description']\n",
    "                p = re.compile(r'\\b({0})\\b'.format(re.escape(alias)), re.IGNORECASE)\n",
    "                res = re.findall(p, result_text)\n",
    "                #if result_text.find(alias)>-1:\n",
    "                 #   answer_found_mat[q_ind , s_ind] = 1\n",
    "                if len(res) > 0:\n",
    "                    if INSPECT_EVIDENCE:\n",
    "                        print('-------------')\n",
    "                        print('Question  ' + question['Question'])\n",
    "                        print('Answer:  ' + alias)\n",
    "                        print('Context:')\n",
    "                        print(result_text) \n",
    "                    answer_found_mat[q_ind , s_ind] = 1\n",
    "                    break\n",
    "        q_ind += 1\n",
    "        \n",
    "        if INSPECT_EVIDENCE and q_ind > 10:\n",
    "            break\n",
    "                #else:\n",
    "                #    print(alias + ' --- ' + result_text)\n",
    "    \n",
    "    print('answer are within question snippets {0}%'.format(100.0* (answer_found_mat.sum(axis=1)>0).sum() / len(data_df)))\n",
    "    print('number of examples with answer are within question snippets {0}'.format((answer_found_mat.sum(axis=1)>0).sum()))"
   ]
  },
  {
   "cell_type": "markdown",
   "metadata": {
    "collapsed": true
   },
   "source": [
    "# Sanity Tests"
   ]
  },
  {
   "cell_type": "code",
   "execution_count": 87,
   "metadata": {
    "ExecuteTime": {
     "end_time": "2018-09-28T08:37:04.478099Z",
     "start_time": "2018-09-28T08:37:02.836296Z"
    },
    "run_control": {
     "marked": true
    }
   },
   "outputs": [
    {
     "data": {
      "text/plain": [
       "Question            0\n",
       "OrgSearchResults    0\n",
       "EntityPages         0\n",
       "QuestionSource      0\n",
       "Answer              0\n",
       "dataset             0\n",
       "SearchResults       0\n",
       "dtype: int64"
      ]
     },
     "execution_count": 87,
     "metadata": {},
     "output_type": "execute_result"
    }
   ],
   "source": [
    "# additional sanity tests\n",
    "(data_df.isnull()).sum()"
   ]
  },
  {
   "cell_type": "code",
   "execution_count": 88,
   "metadata": {
    "ExecuteTime": {
     "end_time": "2018-09-28T08:37:10.220841Z",
     "start_time": "2018-09-28T08:37:10.146535Z"
    },
    "run_control": {
     "marked": true
    }
   },
   "outputs": [],
   "source": [
    "# additional sanity tests\n",
    "if data_df['SearchResults'].isnull().sum()==0:\n",
    "    data_df['SearchResults'].apply(len).value_counts()"
   ]
  },
  {
   "cell_type": "code",
   "execution_count": 89,
   "metadata": {
    "ExecuteTime": {
     "end_time": "2018-09-28T08:37:14.099126Z",
     "start_time": "2018-09-28T08:37:14.016400Z"
    }
   },
   "outputs": [
    {
     "data": {
      "text/plain": [
       "35.83045977011494"
      ]
     },
     "execution_count": 89,
     "metadata": {},
     "output_type": "execute_result"
    }
   ],
   "source": [
    "data_df[data_df['SearchResults'].apply(len) == 0]['Question'].apply(len).mean()"
   ]
  },
  {
   "cell_type": "code",
   "execution_count": 90,
   "metadata": {
    "ExecuteTime": {
     "end_time": "2018-09-28T08:37:15.707228Z",
     "start_time": "2018-09-28T08:37:15.600312Z"
    }
   },
   "outputs": [
    {
     "data": {
      "text/plain": [
       "35.856015639569655"
      ]
     },
     "execution_count": 90,
     "metadata": {},
     "output_type": "execute_result"
    }
   ],
   "source": [
    "data_df[data_df['SearchResults'].apply(len) > 0]['Question'].apply(len).mean()"
   ]
  },
  {
   "cell_type": "code",
   "execution_count": 91,
   "metadata": {
    "ExecuteTime": {
     "end_time": "2018-09-28T08:37:18.614153Z",
     "start_time": "2018-09-28T08:37:18.600137Z"
    },
    "run_control": {
     "marked": true
    }
   },
   "outputs": [],
   "source": [
    "if WRITE_EVIDENCE:\n",
    "    found = 0\n",
    "    not_found = 0\n",
    "    for i in tqdm(range(len(data_df)), total=len(data_df), ncols=80, desc=\"checking if filenames exist\"):\n",
    "        question = data_df.iloc[i]\n",
    "        questionID = data_df.index[i]\n",
    "        for ind, g in enumerate(question['SearchResults']):\n",
    "            if os.path.exists(EVIDENCE_DIR + 'multiqa_evidence/' + g['Filename']):\n",
    "                found += 1\n",
    "            else:\n",
    "                not_found += 1\n",
    "\n",
    "    print('found : {0}'.format(found))\n",
    "    print('not_found : {0}'.format(not_found))"
   ]
  },
  {
   "cell_type": "markdown",
   "metadata": {},
   "source": [
    "# saving "
   ]
  },
  {
   "cell_type": "code",
   "execution_count": 92,
   "metadata": {
    "ExecuteTime": {
     "end_time": "2018-09-28T08:37:27.794696Z",
     "start_time": "2018-09-28T08:37:27.276455Z"
    }
   },
   "outputs": [
    {
     "data": {
      "text/html": [
       "<div>\n",
       "<style scoped>\n",
       "    .dataframe tbody tr th:only-of-type {\n",
       "        vertical-align: middle;\n",
       "    }\n",
       "\n",
       "    .dataframe tbody tr th {\n",
       "        vertical-align: top;\n",
       "    }\n",
       "\n",
       "    .dataframe thead th {\n",
       "        text-align: right;\n",
       "    }\n",
       "</style>\n",
       "<table border=\"1\" class=\"dataframe\">\n",
       "  <thead>\n",
       "    <tr style=\"text-align: right;\">\n",
       "      <th></th>\n",
       "      <th>Question</th>\n",
       "      <th>OrgSearchResults</th>\n",
       "      <th>EntityPages</th>\n",
       "      <th>QuestionSource</th>\n",
       "      <th>Answer</th>\n",
       "      <th>dataset</th>\n",
       "      <th>SearchResults</th>\n",
       "    </tr>\n",
       "    <tr>\n",
       "      <th>QuestionId</th>\n",
       "      <th></th>\n",
       "      <th></th>\n",
       "      <th></th>\n",
       "      <th></th>\n",
       "      <th></th>\n",
       "      <th></th>\n",
       "      <th></th>\n",
       "    </tr>\n",
       "  </thead>\n",
       "  <tbody>\n",
       "    <tr>\n",
       "      <th>28213</th>\n",
       "      <td>at what age do kids start to hold memories</td>\n",
       "      <td>[]</td>\n",
       "      <td>[]</td>\n",
       "      <td></td>\n",
       "      <td>{'Aliases': ['Before the age of 2–4 years.'], 'NormalizedAliases': ['before the age of 2–4 years .'], 'NormalizedValue': 'before the age...</td>\n",
       "      <td>MSMARCO_Googled</td>\n",
       "      <td>[{'Rank': 0, 'Description': '', 'Title': '', 'DisplayUrl': '', 'Url': 'MSMARCO_Googled_MSMARCO_Googled_83_28213_0', 'Filename': 'MSMARCO...</td>\n",
       "    </tr>\n",
       "    <tr>\n",
       "      <th>410717</th>\n",
       "      <td>is funner a word?</td>\n",
       "      <td>[]</td>\n",
       "      <td>[]</td>\n",
       "      <td></td>\n",
       "      <td>{'Aliases': ['Yes, funner is a word.'], 'NormalizedAliases': ['yes , funner is a word .'], 'NormalizedValue': 'yes , funner is a word .'...</td>\n",
       "      <td>MSMARCO_Googled</td>\n",
       "      <td>[{'Rank': 0, 'Description': '', 'Title': '', 'DisplayUrl': '', 'Url': 'MSMARCO_Googled_MSMARCO_Googled_62_410717_0', 'Filename': 'MSMARC...</td>\n",
       "    </tr>\n",
       "    <tr>\n",
       "      <th>604568</th>\n",
       "      <td>what county is columbus city in</td>\n",
       "      <td>[]</td>\n",
       "      <td>[]</td>\n",
       "      <td></td>\n",
       "      <td>{'Aliases': ['Bartholomew'], 'NormalizedAliases': ['bartholomew'], 'NormalizedValue': 'bartholomew', 'Type': 'FreeForm', 'Value': 'Barth...</td>\n",
       "      <td>MSMARCO_Googled</td>\n",
       "      <td>[{'Rank': 0, 'Description': '', 'Title': '', 'DisplayUrl': '', 'Url': 'MSMARCO_Googled_MSMARCO_Googled_73_604568_0', 'Filename': 'MSMARC...</td>\n",
       "    </tr>\n",
       "    <tr>\n",
       "      <th>1174759</th>\n",
       "      <td>is the bachelor legal</td>\n",
       "      <td>[]</td>\n",
       "      <td>[]</td>\n",
       "      <td></td>\n",
       "      <td>{'Aliases': ['Yes, the bachelor is legal.'], 'NormalizedAliases': ['yes , the bachelor is legal .'], 'NormalizedValue': 'yes , the bache...</td>\n",
       "      <td>MSMARCO_Googled</td>\n",
       "      <td>[{'Rank': 0, 'Description': '', 'Title': '', 'DisplayUrl': '', 'Url': 'MSMARCO_Googled_MSMARCO_Googled_113_1174759_0', 'Filename': 'MSMA...</td>\n",
       "    </tr>\n",
       "    <tr>\n",
       "      <th>672511</th>\n",
       "      <td>what is BP level j salary</td>\n",
       "      <td>[]</td>\n",
       "      <td>[]</td>\n",
       "      <td></td>\n",
       "      <td>{'Aliases': ['Average $111,082,'], 'NormalizedAliases': ['average $ 111,082 ,'], 'NormalizedValue': 'average $ 111,082 ,', 'Type': 'Free...</td>\n",
       "      <td>MSMARCO_Googled</td>\n",
       "      <td>[{'Rank': 0, 'Description': '', 'Title': '', 'DisplayUrl': '', 'Url': 'MSMARCO_Googled_MSMARCO_Googled_155_672511_0', 'Filename': 'MSMAR...</td>\n",
       "    </tr>\n",
       "    <tr>\n",
       "      <th>33073</th>\n",
       "      <td>average cost of assisted living in washington state</td>\n",
       "      <td>[]</td>\n",
       "      <td>[]</td>\n",
       "      <td></td>\n",
       "      <td>{'Aliases': ['$4,625 per month.'], 'NormalizedAliases': ['$ 4,625 per month .'], 'NormalizedValue': '$ 4,625 per month .', 'Type': 'Free...</td>\n",
       "      <td>MSMARCO_Googled</td>\n",
       "      <td>[{'Rank': 0, 'Description': '', 'Title': '', 'DisplayUrl': '', 'Url': 'MSMARCO_Googled_MSMARCO_Googled_43_33073_0', 'Filename': 'MSMARCO...</td>\n",
       "    </tr>\n",
       "    <tr>\n",
       "      <th>612569</th>\n",
       "      <td>what county is seminole fl in</td>\n",
       "      <td>[]</td>\n",
       "      <td>[]</td>\n",
       "      <td></td>\n",
       "      <td>{'Aliases': ['Pinellas County'], 'NormalizedAliases': ['pinellas county'], 'NormalizedValue': 'pinellas county', 'Type': 'FreeForm', 'Va...</td>\n",
       "      <td>MSMARCO_Googled</td>\n",
       "      <td>[{'Rank': 0, 'Description': '', 'Title': '', 'DisplayUrl': '', 'Url': 'MSMARCO_Googled_MSMARCO_Googled_143_612569_0', 'Filename': 'MSMAR...</td>\n",
       "    </tr>\n",
       "    <tr>\n",
       "      <th>32055</th>\n",
       "      <td>average cost dental implant</td>\n",
       "      <td>[]</td>\n",
       "      <td>[]</td>\n",
       "      <td></td>\n",
       "      <td>{'Aliases': ['$4250'], 'NormalizedAliases': ['$ 4250'], 'NormalizedValue': '$ 4250', 'Type': 'FreeForm', 'Value': '$4250'}</td>\n",
       "      <td>MSMARCO_Googled</td>\n",
       "      <td>[{'Rank': 0, 'Description': '', 'Title': '', 'DisplayUrl': '', 'Url': 'MSMARCO_Googled_MSMARCO_Googled_13_32055_0', 'Filename': 'MSMARCO...</td>\n",
       "    </tr>\n",
       "    <tr>\n",
       "      <th>610348</th>\n",
       "      <td>what county is nine mile in</td>\n",
       "      <td>[]</td>\n",
       "      <td>[]</td>\n",
       "      <td></td>\n",
       "      <td>{'Aliases': ['Onondaga'], 'NormalizedAliases': ['onondaga'], 'NormalizedValue': 'onondaga', 'Type': 'FreeForm', 'Value': 'Onondaga'}</td>\n",
       "      <td>MSMARCO_Googled</td>\n",
       "      <td>[{'Rank': 0, 'Description': '', 'Title': '', 'DisplayUrl': '', 'Url': 'MSMARCO_Googled_MSMARCO_Googled_193_610348_0', 'Filename': 'MSMAR...</td>\n",
       "    </tr>\n",
       "    <tr>\n",
       "      <th>31967</th>\n",
       "      <td>average conservatory cost</td>\n",
       "      <td>[]</td>\n",
       "      <td>[]</td>\n",
       "      <td></td>\n",
       "      <td>{'Aliases': ['$10,000 to $30,000'], 'NormalizedAliases': ['$ 10,000 to $ 30,000'], 'NormalizedValue': '$ 10,000 to $ 30,000', 'Type': 'F...</td>\n",
       "      <td>MSMARCO_Googled</td>\n",
       "      <td>[{'Rank': 0, 'Description': '', 'Title': '', 'DisplayUrl': '', 'Url': 'MSMARCO_Googled_MSMARCO_Googled_124_31967_0', 'Filename': 'MSMARC...</td>\n",
       "    </tr>\n",
       "    <tr>\n",
       "      <th>451087</th>\n",
       "      <td>medical coding how many days is considered acute?</td>\n",
       "      <td>[]</td>\n",
       "      <td>[]</td>\n",
       "      <td></td>\n",
       "      <td>{'Aliases': ['up to nine days.'], 'NormalizedAliases': ['up to nine days .'], 'NormalizedValue': 'up to nine days .', 'Type': 'FreeForm'...</td>\n",
       "      <td>MSMARCO_Googled</td>\n",
       "      <td>[{'Rank': 0, 'Description': '', 'Title': '', 'DisplayUrl': '', 'Url': 'MSMARCO_Googled_MSMARCO_Googled_5_451087_0', 'Filename': 'MSMARCO...</td>\n",
       "    </tr>\n",
       "    <tr>\n",
       "      <th>517120</th>\n",
       "      <td>the meaning of reverence</td>\n",
       "      <td>[]</td>\n",
       "      <td>[]</td>\n",
       "      <td></td>\n",
       "      <td>{'Aliases': ['Deep respect.'], 'NormalizedAliases': ['deep respect .'], 'NormalizedValue': 'deep respect .', 'Type': 'FreeForm', 'Value'...</td>\n",
       "      <td>MSMARCO_Googled</td>\n",
       "      <td>[{'Rank': 0, 'Description': '', 'Title': '', 'DisplayUrl': '', 'Url': 'MSMARCO_Googled_MSMARCO_Googled_142_517120_0', 'Filename': 'MSMAR...</td>\n",
       "    </tr>\n",
       "    <tr>\n",
       "      <th>512870</th>\n",
       "      <td>temperature to bake sweet potatoes in oven</td>\n",
       "      <td>[]</td>\n",
       "      <td>[]</td>\n",
       "      <td></td>\n",
       "      <td>{'Aliases': ['425'], 'NormalizedAliases': ['425'], 'NormalizedValue': '425', 'Type': 'FreeForm', 'Value': '425'}</td>\n",
       "      <td>MSMARCO_Googled</td>\n",
       "      <td>[{'Rank': 0, 'Description': '', 'Title': '', 'DisplayUrl': '', 'Url': 'MSMARCO_Googled_MSMARCO_Googled_176_512870_0', 'Filename': 'MSMAR...</td>\n",
       "    </tr>\n",
       "    <tr>\n",
       "      <th>498704</th>\n",
       "      <td>siriusxm cost per month</td>\n",
       "      <td>[]</td>\n",
       "      <td>[]</td>\n",
       "      <td></td>\n",
       "      <td>{'Aliases': ['$14.99', '$17'], 'NormalizedAliases': ['$ 14.99', '$ 17'], 'NormalizedValue': '$ 17', 'Type': 'FreeForm', 'Value': '$17'}</td>\n",
       "      <td>MSMARCO_Googled</td>\n",
       "      <td>[{'Rank': 0, 'Description': '', 'Title': '', 'DisplayUrl': '', 'Url': 'MSMARCO_Googled_MSMARCO_Googled_64_498704_0', 'Filename': 'MSMARC...</td>\n",
       "    </tr>\n",
       "    <tr>\n",
       "      <th>607381</th>\n",
       "      <td>what county is honeoye in</td>\n",
       "      <td>[]</td>\n",
       "      <td>[]</td>\n",
       "      <td></td>\n",
       "      <td>{'Aliases': ['New York'], 'NormalizedAliases': ['new york'], 'NormalizedValue': 'new york', 'Type': 'FreeForm', 'Value': 'New York'}</td>\n",
       "      <td>MSMARCO_Googled</td>\n",
       "      <td>[{'Rank': 0, 'Description': '', 'Title': '', 'DisplayUrl': '', 'Url': 'MSMARCO_Googled_MSMARCO_Googled_125_607381_0', 'Filename': 'MSMAR...</td>\n",
       "    </tr>\n",
       "    <tr>\n",
       "      <th>256481</th>\n",
       "      <td>how long does it take to get SAT scores back?</td>\n",
       "      <td>[]</td>\n",
       "      <td>[]</td>\n",
       "      <td></td>\n",
       "      <td>{'Aliases': ['Within five to 20 days.'], 'NormalizedAliases': ['within five to 20 days .'], 'NormalizedValue': 'within five to 20 days ....</td>\n",
       "      <td>MSMARCO_Googled</td>\n",
       "      <td>[{'Rank': 0, 'Description': '', 'Title': '', 'DisplayUrl': '', 'Url': 'MSMARCO_Googled_MSMARCO_Googled_144_256481_0', 'Filename': 'MSMAR...</td>\n",
       "    </tr>\n",
       "    <tr>\n",
       "      <th>338146</th>\n",
       "      <td>how pronounce tiguan</td>\n",
       "      <td>[]</td>\n",
       "      <td>[]</td>\n",
       "      <td></td>\n",
       "      <td>{'Aliases': ['TEE-gwan'], 'NormalizedAliases': ['tee-gwan'], 'NormalizedValue': 'tee-gwan', 'Type': 'FreeForm', 'Value': 'TEE-gwan'}</td>\n",
       "      <td>MSMARCO_Googled</td>\n",
       "      <td>[{'Rank': 0, 'Description': '', 'Title': '', 'DisplayUrl': '', 'Url': 'MSMARCO_Googled_MSMARCO_Googled_3_338146_0', 'Filename': 'MSMARCO...</td>\n",
       "    </tr>\n",
       "    <tr>\n",
       "      <th>475482</th>\n",
       "      <td>pink eye treatment how long</td>\n",
       "      <td>[]</td>\n",
       "      <td>[]</td>\n",
       "      <td></td>\n",
       "      <td>{'Aliases': ['Within 24 to 48 hours.'], 'NormalizedAliases': ['within 24 to 48 hours .'], 'NormalizedValue': 'within 24 to 48 hours .', ...</td>\n",
       "      <td>MSMARCO_Googled</td>\n",
       "      <td>[{'Rank': 0, 'Description': '', 'Title': '', 'DisplayUrl': '', 'Url': 'MSMARCO_Googled_MSMARCO_Googled_198_475482_0', 'Filename': 'MSMAR...</td>\n",
       "    </tr>\n",
       "    <tr>\n",
       "      <th>448436</th>\n",
       "      <td>meaning of name denise</td>\n",
       "      <td>[]</td>\n",
       "      <td>[]</td>\n",
       "      <td></td>\n",
       "      <td>{'Aliases': ['To be devoted to Bacchus.'], 'NormalizedAliases': ['to be devoted to bacchus .'], 'NormalizedValue': 'to be devoted to bac...</td>\n",
       "      <td>MSMARCO_Googled</td>\n",
       "      <td>[{'Rank': 0, 'Description': '', 'Title': '', 'DisplayUrl': '', 'Url': 'MSMARCO_Googled_MSMARCO_Googled_49_448436_0', 'Filename': 'MSMARC...</td>\n",
       "    </tr>\n",
       "    <tr>\n",
       "      <th>471082</th>\n",
       "      <td>pa amending the mandatory judicial retirement age</td>\n",
       "      <td>[]</td>\n",
       "      <td>[]</td>\n",
       "      <td></td>\n",
       "      <td>{'Aliases': ['70 to 75 years '], 'NormalizedAliases': ['70 to 75 years'], 'NormalizedValue': '70 to 75 years', 'Type': 'FreeForm', 'Valu...</td>\n",
       "      <td>MSMARCO_Googled</td>\n",
       "      <td>[{'Rank': 0, 'Description': '', 'Title': '', 'DisplayUrl': '', 'Url': 'MSMARCO_Googled_MSMARCO_Googled_116_471082_0', 'Filename': 'MSMAR...</td>\n",
       "    </tr>\n",
       "    <tr>\n",
       "      <th>662447</th>\n",
       "      <td>what forms at an ocean-ocean convergent boundary</td>\n",
       "      <td>[]</td>\n",
       "      <td>[]</td>\n",
       "      <td></td>\n",
       "      <td>{'Aliases': ['A subduction zone'], 'NormalizedAliases': ['a subduction zone'], 'NormalizedValue': 'a subduction zone', 'Type': 'FreeForm...</td>\n",
       "      <td>MSMARCO_Googled</td>\n",
       "      <td>[{'Rank': 0, 'Description': '', 'Title': '', 'DisplayUrl': '', 'Url': 'MSMARCO_Googled_MSMARCO_Googled_87_662447_0', 'Filename': 'MSMARC...</td>\n",
       "    </tr>\n",
       "    <tr>\n",
       "      <th>583500</th>\n",
       "      <td>what casinos have rv parks?</td>\n",
       "      <td>[]</td>\n",
       "      <td>[]</td>\n",
       "      <td></td>\n",
       "      <td>{'Aliases': ['Sam's Town, Las Vegas'], 'NormalizedAliases': ['sam 's town , las vegas'], 'NormalizedValue': 'sam 's town , las vegas', '...</td>\n",
       "      <td>MSMARCO_Googled</td>\n",
       "      <td>[{'Rank': 0, 'Description': '', 'Title': '', 'DisplayUrl': '', 'Url': 'MSMARCO_Googled_MSMARCO_Googled_60_583500_0', 'Filename': 'MSMARC...</td>\n",
       "    </tr>\n",
       "    <tr>\n",
       "      <th>435759</th>\n",
       "      <td>largest active military</td>\n",
       "      <td>[]</td>\n",
       "      <td>[]</td>\n",
       "      <td></td>\n",
       "      <td>{'Aliases': ['China'], 'NormalizedAliases': ['china'], 'NormalizedValue': 'china', 'Type': 'FreeForm', 'Value': 'China'}</td>\n",
       "      <td>MSMARCO_Googled</td>\n",
       "      <td>[{'Rank': 0, 'Description': '', 'Title': '', 'DisplayUrl': '', 'Url': 'MSMARCO_Googled_MSMARCO_Googled_98_435759_0', 'Filename': 'MSMARC...</td>\n",
       "    </tr>\n",
       "    <tr>\n",
       "      <th>38032</th>\n",
       "      <td>average january temps in mount pleasant, sc</td>\n",
       "      <td>[]</td>\n",
       "      <td>[]</td>\n",
       "      <td></td>\n",
       "      <td>{'Aliases': ['The January low is 39.'], 'NormalizedAliases': ['the january low is 39 .'], 'NormalizedValue': 'the january low is 39 .', ...</td>\n",
       "      <td>MSMARCO_Googled</td>\n",
       "      <td>[{'Rank': 0, 'Description': '', 'Title': '', 'DisplayUrl': '', 'Url': 'MSMARCO_Googled_MSMARCO_Googled_118_38032_0', 'Filename': 'MSMARC...</td>\n",
       "    </tr>\n",
       "    <tr>\n",
       "      <th>268352</th>\n",
       "      <td>how long to bake whole speckled trout</td>\n",
       "      <td>[]</td>\n",
       "      <td>[]</td>\n",
       "      <td></td>\n",
       "      <td>{'Aliases': ['15 minutes'], 'NormalizedAliases': ['15 minutes'], 'NormalizedValue': '15 minutes', 'Type': 'FreeForm', 'Value': '15 minut...</td>\n",
       "      <td>MSMARCO_Googled</td>\n",
       "      <td>[{'Rank': 0, 'Description': '', 'Title': '', 'DisplayUrl': '', 'Url': 'MSMARCO_Googled_MSMARCO_Googled_147_268352_0', 'Filename': 'MSMAR...</td>\n",
       "    </tr>\n",
       "    <tr>\n",
       "      <th>614045</th>\n",
       "      <td>what county is van nuys ca</td>\n",
       "      <td>[]</td>\n",
       "      <td>[]</td>\n",
       "      <td></td>\n",
       "      <td>{'Aliases': ['Los Angeles'], 'NormalizedAliases': ['los angeles'], 'NormalizedValue': 'los angeles', 'Type': 'FreeForm', 'Value': 'Los A...</td>\n",
       "      <td>MSMARCO_Googled</td>\n",
       "      <td>[{'Rank': 0, 'Description': '', 'Title': '', 'DisplayUrl': '', 'Url': 'MSMARCO_Googled_MSMARCO_Googled_127_614045_0', 'Filename': 'MSMAR...</td>\n",
       "    </tr>\n",
       "    <tr>\n",
       "      <th>552172</th>\n",
       "      <td>what air temperature can you see your breath</td>\n",
       "      <td>[]</td>\n",
       "      <td>[]</td>\n",
       "      <td></td>\n",
       "      <td>{'Aliases': ['Below 50 degrees (F).'], 'NormalizedAliases': ['below 50 degrees ( f ) .'], 'NormalizedValue': 'below 50 degrees ( f ) .',...</td>\n",
       "      <td>MSMARCO_Googled</td>\n",
       "      <td>[{'Rank': 0, 'Description': '', 'Title': '', 'DisplayUrl': '', 'Url': 'MSMARCO_Googled_MSMARCO_Googled_28_552172_0', 'Filename': 'MSMARC...</td>\n",
       "    </tr>\n",
       "    <tr>\n",
       "      <th>415234</th>\n",
       "      <td>is julia kim still alive</td>\n",
       "      <td>[]</td>\n",
       "      <td>[]</td>\n",
       "      <td></td>\n",
       "      <td>{'Aliases': ['No.'], 'NormalizedAliases': ['no .'], 'NormalizedValue': 'no .', 'Type': 'FreeForm', 'Value': 'No.'}</td>\n",
       "      <td>MSMARCO_Googled</td>\n",
       "      <td>[{'Rank': 0, 'Description': '', 'Title': '', 'DisplayUrl': '', 'Url': 'MSMARCO_Googled_MSMARCO_Googled_170_415234_0', 'Filename': 'MSMAR...</td>\n",
       "    </tr>\n",
       "    <tr>\n",
       "      <th>512338</th>\n",
       "      <td>temperature in saint joe florida</td>\n",
       "      <td>[]</td>\n",
       "      <td>[]</td>\n",
       "      <td></td>\n",
       "      <td>{'Aliases': ['67.22°F'], 'NormalizedAliases': ['67.22°f'], 'NormalizedValue': '67.22°f', 'Type': 'FreeForm', 'Value': '67.22°F'}</td>\n",
       "      <td>MSMARCO_Googled</td>\n",
       "      <td>[{'Rank': 0, 'Description': '', 'Title': '', 'DisplayUrl': '', 'Url': 'MSMARCO_Googled_MSMARCO_Googled_120_512338_0', 'Filename': 'MSMAR...</td>\n",
       "    </tr>\n",
       "    <tr>\n",
       "      <th>449394</th>\n",
       "      <td>meaning of the arabic name nayla</td>\n",
       "      <td>[]</td>\n",
       "      <td>[]</td>\n",
       "      <td></td>\n",
       "      <td>{'Aliases': ['Successful'], 'NormalizedAliases': ['successful'], 'NormalizedValue': 'successful', 'Type': 'FreeForm', 'Value': 'Successf...</td>\n",
       "      <td>MSMARCO_Googled</td>\n",
       "      <td>[{'Rank': 0, 'Description': '', 'Title': '', 'DisplayUrl': '', 'Url': 'MSMARCO_Googled_MSMARCO_Googled_161_449394_0', 'Filename': 'MSMAR...</td>\n",
       "    </tr>\n",
       "    <tr>\n",
       "      <th>...</th>\n",
       "      <td>...</td>\n",
       "      <td>...</td>\n",
       "      <td>...</td>\n",
       "      <td>...</td>\n",
       "      <td>...</td>\n",
       "      <td>...</td>\n",
       "      <td>...</td>\n",
       "    </tr>\n",
       "    <tr>\n",
       "      <th>717070</th>\n",
       "      <td>what is an overseer at a museum</td>\n",
       "      <td>[]</td>\n",
       "      <td>[]</td>\n",
       "      <td></td>\n",
       "      <td>{'Aliases': ['A museum curator.'], 'NormalizedAliases': ['a museum curator .'], 'NormalizedValue': 'a museum curator .', 'Type': 'FreeFo...</td>\n",
       "      <td>MSMARCO_Googled</td>\n",
       "      <td>[{'Rank': 0, 'Description': '', 'Title': '', 'DisplayUrl': '', 'Url': 'MSMARCO_Googled_MSMARCO_Googled_96_717070_0', 'Filename': 'MSMARC...</td>\n",
       "    </tr>\n",
       "    <tr>\n",
       "      <th>454316</th>\n",
       "      <td>minimum amount to open iolta</td>\n",
       "      <td>[]</td>\n",
       "      <td>[]</td>\n",
       "      <td></td>\n",
       "      <td>{'Aliases': ['$100.00'], 'NormalizedAliases': ['$ 100.00'], 'NormalizedValue': '$ 100.00', 'Type': 'FreeForm', 'Value': '$100.00'}</td>\n",
       "      <td>MSMARCO_Googled</td>\n",
       "      <td>[{'Rank': 0, 'Description': '', 'Title': '', 'DisplayUrl': '', 'Url': 'MSMARCO_Googled_MSMARCO_Googled_137_454316_0', 'Filename': 'MSMAR...</td>\n",
       "    </tr>\n",
       "    <tr>\n",
       "      <th>710724</th>\n",
       "      <td>what is an abnormal immune response</td>\n",
       "      <td>[]</td>\n",
       "      <td>[]</td>\n",
       "      <td></td>\n",
       "      <td>{'Aliases': ['Killer T cells'], 'NormalizedAliases': ['killer t cells'], 'NormalizedValue': 'killer t cells', 'Type': 'FreeForm', 'Value...</td>\n",
       "      <td>MSMARCO_Googled</td>\n",
       "      <td>[{'Rank': 0, 'Description': '', 'Title': '', 'DisplayUrl': '', 'Url': 'MSMARCO_Googled_MSMARCO_Googled_8_710724_0', 'Filename': 'MSMARCO...</td>\n",
       "    </tr>\n",
       "    <tr>\n",
       "      <th>1174783</th>\n",
       "      <td>is stoltz a german name?</td>\n",
       "      <td>[]</td>\n",
       "      <td>[]</td>\n",
       "      <td></td>\n",
       "      <td>{'Aliases': ['Yes, stoltz is a german name.'], 'NormalizedAliases': ['yes , stoltz is a german name .'], 'NormalizedValue': 'yes , stolt...</td>\n",
       "      <td>MSMARCO_Googled</td>\n",
       "      <td>[{'Rank': 0, 'Description': '', 'Title': '', 'DisplayUrl': '', 'Url': 'MSMARCO_Googled_MSMARCO_Googled_10_1174783_0', 'Filename': 'MSMAR...</td>\n",
       "    </tr>\n",
       "    <tr>\n",
       "      <th>578677</th>\n",
       "      <td>what becomes of a broken hearted singer</td>\n",
       "      <td>[]</td>\n",
       "      <td>[]</td>\n",
       "      <td></td>\n",
       "      <td>{'Aliases': ['Jimmy Ruffin'], 'NormalizedAliases': ['jimmy ruffin'], 'NormalizedValue': 'jimmy ruffin', 'Type': 'FreeForm', 'Value': 'Ji...</td>\n",
       "      <td>MSMARCO_Googled</td>\n",
       "      <td>[{'Rank': 0, 'Description': '', 'Title': '', 'DisplayUrl': '', 'Url': 'MSMARCO_Googled_MSMARCO_Googled_103_578677_0', 'Filename': 'MSMAR...</td>\n",
       "    </tr>\n",
       "    <tr>\n",
       "      <th>478570</th>\n",
       "      <td>pork tenderloin how long to bbq</td>\n",
       "      <td>[]</td>\n",
       "      <td>[]</td>\n",
       "      <td></td>\n",
       "      <td>{'Aliases': ['About 3 to 4 minutes'], 'NormalizedAliases': ['about 3 to 4 minutes'], 'NormalizedValue': 'about 3 to 4 minutes', 'Type': ...</td>\n",
       "      <td>MSMARCO_Googled</td>\n",
       "      <td>[{'Rank': 0, 'Description': '', 'Title': '', 'DisplayUrl': '', 'Url': 'MSMARCO_Googled_MSMARCO_Googled_190_478570_0', 'Filename': 'MSMAR...</td>\n",
       "    </tr>\n",
       "    <tr>\n",
       "      <th>458389</th>\n",
       "      <td>most of the color in the water you see around you comes from ______ material</td>\n",
       "      <td>[]</td>\n",
       "      <td>[]</td>\n",
       "      <td></td>\n",
       "      <td>{'Aliases': ['Beach'], 'NormalizedAliases': ['beach'], 'NormalizedValue': 'beach', 'Type': 'FreeForm', 'Value': 'Beach'}</td>\n",
       "      <td>MSMARCO_Googled</td>\n",
       "      <td>[{'Rank': 0, 'Description': '', 'Title': '', 'DisplayUrl': '', 'Url': 'MSMARCO_Googled_MSMARCO_Googled_196_458389_0', 'Filename': 'MSMAR...</td>\n",
       "    </tr>\n",
       "    <tr>\n",
       "      <th>596834</th>\n",
       "      <td>what cms does a website use</td>\n",
       "      <td>[]</td>\n",
       "      <td>[]</td>\n",
       "      <td></td>\n",
       "      <td>{'Aliases': ['Wordpress,Joomla and Drupal'], 'NormalizedAliases': ['wordpress , joomla and drupal'], 'NormalizedValue': 'wordpress , joo...</td>\n",
       "      <td>MSMARCO_Googled</td>\n",
       "      <td>[{'Rank': 0, 'Description': '', 'Title': '', 'DisplayUrl': '', 'Url': 'MSMARCO_Googled_MSMARCO_Googled_41_596834_0', 'Filename': 'MSMARC...</td>\n",
       "    </tr>\n",
       "    <tr>\n",
       "      <th>573767</th>\n",
       "      <td>what are the special items needed to evolve some pokemon?</td>\n",
       "      <td>[]</td>\n",
       "      <td>[]</td>\n",
       "      <td></td>\n",
       "      <td>{'Aliases': ['An Evolution'], 'NormalizedAliases': ['an evolution'], 'NormalizedValue': 'an evolution', 'Type': 'FreeForm', 'Value': 'An...</td>\n",
       "      <td>MSMARCO_Googled</td>\n",
       "      <td>[{'Rank': 0, 'Description': '', 'Title': '', 'DisplayUrl': '', 'Url': 'MSMARCO_Googled_MSMARCO_Googled_183_573767_0', 'Filename': 'MSMAR...</td>\n",
       "    </tr>\n",
       "    <tr>\n",
       "      <th>609341</th>\n",
       "      <td>what county is mendon in</td>\n",
       "      <td>[]</td>\n",
       "      <td>[]</td>\n",
       "      <td></td>\n",
       "      <td>{'Aliases': ['Mendon is in Monroe County.'], 'NormalizedAliases': ['mendon is in monroe county .'], 'NormalizedValue': 'mendon is in mon...</td>\n",
       "      <td>MSMARCO_Googled</td>\n",
       "      <td>[{'Rank': 0, 'Description': '', 'Title': '', 'DisplayUrl': '', 'Url': 'MSMARCO_Googled_MSMARCO_Googled_28_609341_0', 'Filename': 'MSMARC...</td>\n",
       "    </tr>\n",
       "    <tr>\n",
       "      <th>651706</th>\n",
       "      <td>what does the name lyman mean</td>\n",
       "      <td>[]</td>\n",
       "      <td>[]</td>\n",
       "      <td></td>\n",
       "      <td>{'Aliases': ['Man of the valley'], 'NormalizedAliases': ['man of the valley'], 'NormalizedValue': 'man of the valley', 'Type': 'FreeForm...</td>\n",
       "      <td>MSMARCO_Googled</td>\n",
       "      <td>[{'Rank': 0, 'Description': '', 'Title': '', 'DisplayUrl': '', 'Url': 'MSMARCO_Googled_MSMARCO_Googled_49_651706_0', 'Filename': 'MSMARC...</td>\n",
       "    </tr>\n",
       "    <tr>\n",
       "      <th>393193</th>\n",
       "      <td>in a hit-and-run what if they suspect the driver was drunk</td>\n",
       "      <td>[]</td>\n",
       "      <td>[]</td>\n",
       "      <td></td>\n",
       "      <td>{'Aliases': ['Driver arrested'], 'NormalizedAliases': ['driver arrested'], 'NormalizedValue': 'driver arrested', 'Type': 'FreeForm', 'Va...</td>\n",
       "      <td>MSMARCO_Googled</td>\n",
       "      <td>[{'Rank': 0, 'Description': '', 'Title': '', 'DisplayUrl': '', 'Url': 'MSMARCO_Googled_MSMARCO_Googled_109_393193_0', 'Filename': 'MSMAR...</td>\n",
       "    </tr>\n",
       "    <tr>\n",
       "      <th>103780</th>\n",
       "      <td>cost of e cigarette</td>\n",
       "      <td>[]</td>\n",
       "      <td>[]</td>\n",
       "      <td></td>\n",
       "      <td>{'Aliases': ['$6 to $12 dollars'], 'NormalizedAliases': ['$ 6 to $ 12 dollars'], 'NormalizedValue': '$ 6 to $ 12 dollars', 'Type': 'Free...</td>\n",
       "      <td>MSMARCO_Googled</td>\n",
       "      <td>[{'Rank': 0, 'Description': '', 'Title': '', 'DisplayUrl': '', 'Url': 'MSMARCO_Googled_MSMARCO_Googled_197_103780_0', 'Filename': 'MSMAR...</td>\n",
       "    </tr>\n",
       "    <tr>\n",
       "      <th>410003</th>\n",
       "      <td>is felt washable</td>\n",
       "      <td>[]</td>\n",
       "      <td>[]</td>\n",
       "      <td></td>\n",
       "      <td>{'Aliases': ['Yes, felt is washable'], 'NormalizedAliases': ['yes , felt is washable'], 'NormalizedValue': 'yes , felt is washable', 'Ty...</td>\n",
       "      <td>MSMARCO_Googled</td>\n",
       "      <td>[{'Rank': 0, 'Description': '', 'Title': '', 'DisplayUrl': '', 'Url': 'MSMARCO_Googled_MSMARCO_Googled_145_410003_0', 'Filename': 'MSMAR...</td>\n",
       "    </tr>\n",
       "    <tr>\n",
       "      <th>491827</th>\n",
       "      <td>salary of a beautician</td>\n",
       "      <td>[]</td>\n",
       "      <td>[]</td>\n",
       "      <td></td>\n",
       "      <td>{'Aliases': ['$31,000.'], 'NormalizedAliases': ['$ 31,000 .'], 'NormalizedValue': '$ 31,000 .', 'Type': 'FreeForm', 'Value': '$31,000.'}</td>\n",
       "      <td>MSMARCO_Googled</td>\n",
       "      <td>[{'Rank': 0, 'Description': '', 'Title': '', 'DisplayUrl': '', 'Url': 'MSMARCO_Googled_MSMARCO_Googled_147_491827_0', 'Filename': 'MSMAR...</td>\n",
       "    </tr>\n",
       "    <tr>\n",
       "      <th>108465</th>\n",
       "      <td>cost per ton of asphalt oil</td>\n",
       "      <td>[]</td>\n",
       "      <td>[]</td>\n",
       "      <td></td>\n",
       "      <td>{'Aliases': ['$52 – $60 per ton'], 'NormalizedAliases': ['$ 52 – $ 60 per ton'], 'NormalizedValue': '$ 52 – $ 60 per ton', 'Type': 'Free...</td>\n",
       "      <td>MSMARCO_Googled</td>\n",
       "      <td>[{'Rank': 0, 'Description': '', 'Title': '', 'DisplayUrl': '', 'Url': 'MSMARCO_Googled_MSMARCO_Googled_10_108465_0', 'Filename': 'MSMARC...</td>\n",
       "    </tr>\n",
       "    <tr>\n",
       "      <th>293500</th>\n",
       "      <td>how many points do you get for a red light ticket</td>\n",
       "      <td>[]</td>\n",
       "      <td>[]</td>\n",
       "      <td></td>\n",
       "      <td>{'Aliases': ['3 points'], 'NormalizedAliases': ['3 points'], 'NormalizedValue': '3 points', 'Type': 'FreeForm', 'Value': '3 points'}</td>\n",
       "      <td>MSMARCO_Googled</td>\n",
       "      <td>[{'Rank': 0, 'Description': '', 'Title': '', 'DisplayUrl': '', 'Url': 'MSMARCO_Googled_MSMARCO_Googled_90_293500_0', 'Filename': 'MSMARC...</td>\n",
       "    </tr>\n",
       "    <tr>\n",
       "      <th>190571</th>\n",
       "      <td>football season start.</td>\n",
       "      <td>[]</td>\n",
       "      <td>[]</td>\n",
       "      <td></td>\n",
       "      <td>{'Aliases': ['On Aug. 9 2015'], 'NormalizedAliases': ['on aug. 9 2015'], 'NormalizedValue': 'on aug. 9 2015', 'Type': 'FreeForm', 'Value...</td>\n",
       "      <td>MSMARCO_Googled</td>\n",
       "      <td>[{'Rank': 0, 'Description': '', 'Title': '', 'DisplayUrl': '', 'Url': 'MSMARCO_Googled_MSMARCO_Googled_156_190571_0', 'Filename': 'MSMAR...</td>\n",
       "    </tr>\n",
       "    <tr>\n",
       "      <th>458548</th>\n",
       "      <td>most popular braces colors</td>\n",
       "      <td>[]</td>\n",
       "      <td>[]</td>\n",
       "      <td></td>\n",
       "      <td>{'Aliases': ['Purple and light blue'], 'NormalizedAliases': ['purple and light blue'], 'NormalizedValue': 'purple and light blue', 'Type...</td>\n",
       "      <td>MSMARCO_Googled</td>\n",
       "      <td>[{'Rank': 0, 'Description': '', 'Title': '', 'DisplayUrl': '', 'Url': 'MSMARCO_Googled_MSMARCO_Googled_199_458548_0', 'Filename': 'MSMAR...</td>\n",
       "    </tr>\n",
       "    <tr>\n",
       "      <th>583571</th>\n",
       "      <td>what category is an electrical fire</td>\n",
       "      <td>[]</td>\n",
       "      <td>[]</td>\n",
       "      <td></td>\n",
       "      <td>{'Aliases': ['Class A, B, C, D, E.'], 'NormalizedAliases': ['class a , b , c , d , e .'], 'NormalizedValue': 'class a , b , c , d , e .'...</td>\n",
       "      <td>MSMARCO_Googled</td>\n",
       "      <td>[{'Rank': 0, 'Description': '', 'Title': '', 'DisplayUrl': '', 'Url': 'MSMARCO_Googled_MSMARCO_Googled_105_583571_0', 'Filename': 'MSMAR...</td>\n",
       "    </tr>\n",
       "    <tr>\n",
       "      <th>657490</th>\n",
       "      <td>what enzyme causes dna to unzip</td>\n",
       "      <td>[]</td>\n",
       "      <td>[]</td>\n",
       "      <td></td>\n",
       "      <td>{'Aliases': ['Helicases'], 'NormalizedAliases': ['helicases'], 'NormalizedValue': 'helicases', 'Type': 'FreeForm', 'Value': 'Helicases'}</td>\n",
       "      <td>MSMARCO_Googled</td>\n",
       "      <td>[{'Rank': 0, 'Description': '', 'Title': '', 'DisplayUrl': '', 'Url': 'MSMARCO_Googled_MSMARCO_Googled_98_657490_0', 'Filename': 'MSMARC...</td>\n",
       "    </tr>\n",
       "    <tr>\n",
       "      <th>313785</th>\n",
       "      <td>how much does executive driector of family make</td>\n",
       "      <td>[]</td>\n",
       "      <td>[]</td>\n",
       "      <td></td>\n",
       "      <td>{'Aliases': ['$61,230 per year. '], 'NormalizedAliases': ['$ 61,230 per year .'], 'NormalizedValue': '$ 61,230 per year .', 'Type': 'Fre...</td>\n",
       "      <td>MSMARCO_Googled</td>\n",
       "      <td>[{'Rank': 0, 'Description': '', 'Title': '', 'DisplayUrl': '', 'Url': 'MSMARCO_Googled_MSMARCO_Googled_133_313785_0', 'Filename': 'MSMAR...</td>\n",
       "    </tr>\n",
       "    <tr>\n",
       "      <th>417820</th>\n",
       "      <td>is memphis a state</td>\n",
       "      <td>[]</td>\n",
       "      <td>[]</td>\n",
       "      <td></td>\n",
       "      <td>{'Aliases': ['No, it is a city.'], 'NormalizedAliases': ['no , it is a city .'], 'NormalizedValue': 'no , it is a city .', 'Type': 'Free...</td>\n",
       "      <td>MSMARCO_Googled</td>\n",
       "      <td>[{'Rank': 0, 'Description': '', 'Title': '', 'DisplayUrl': '', 'Url': 'MSMARCO_Googled_MSMARCO_Googled_69_417820_0', 'Filename': 'MSMARC...</td>\n",
       "    </tr>\n",
       "    <tr>\n",
       "      <th>667354</th>\n",
       "      <td>what happens when someone heart is broken</td>\n",
       "      <td>[]</td>\n",
       "      <td>[]</td>\n",
       "      <td></td>\n",
       "      <td>{'Aliases': ['Feel worthless and hopeless'], 'NormalizedAliases': ['feel worthless and hopeless'], 'NormalizedValue': 'feel worthless an...</td>\n",
       "      <td>MSMARCO_Googled</td>\n",
       "      <td>[{'Rank': 0, 'Description': '', 'Title': '', 'DisplayUrl': '', 'Url': 'MSMARCO_Googled_MSMARCO_Googled_73_667354_0', 'Filename': 'MSMARC...</td>\n",
       "    </tr>\n",
       "    <tr>\n",
       "      <th>1174765</th>\n",
       "      <td>is the actor charles bronson dead</td>\n",
       "      <td>[]</td>\n",
       "      <td>[]</td>\n",
       "      <td></td>\n",
       "      <td>{'Aliases': ['Yes, Charles Bronson is dead.'], 'NormalizedAliases': ['yes , charles bronson is dead .'], 'NormalizedValue': 'yes , charl...</td>\n",
       "      <td>MSMARCO_Googled</td>\n",
       "      <td>[{'Rank': 0, 'Description': '', 'Title': '', 'DisplayUrl': '', 'Url': 'MSMARCO_Googled_MSMARCO_Googled_161_1174765_0', 'Filename': 'MSMA...</td>\n",
       "    </tr>\n",
       "    <tr>\n",
       "      <th>547249</th>\n",
       "      <td>weight evenflo maestro</td>\n",
       "      <td>[]</td>\n",
       "      <td>[]</td>\n",
       "      <td></td>\n",
       "      <td>{'Aliases': ['11 pounds', '22-50 pounds'], 'NormalizedAliases': ['11 pounds', '22-50 pounds'], 'NormalizedValue': '11 pounds', 'Type': '...</td>\n",
       "      <td>MSMARCO_Googled</td>\n",
       "      <td>[{'Rank': 0, 'Description': '', 'Title': '', 'DisplayUrl': '', 'Url': 'MSMARCO_Googled_MSMARCO_Googled_19_547249_0', 'Filename': 'MSMARC...</td>\n",
       "    </tr>\n",
       "    <tr>\n",
       "      <th>38107</th>\n",
       "      <td>average kwh per household in us</td>\n",
       "      <td>[]</td>\n",
       "      <td>[]</td>\n",
       "      <td></td>\n",
       "      <td>{'Aliases': ['908 kWh'], 'NormalizedAliases': ['908 kwh'], 'NormalizedValue': '908 kwh', 'Type': 'FreeForm', 'Value': '908 kWh'}</td>\n",
       "      <td>MSMARCO_Googled</td>\n",
       "      <td>[{'Rank': 0, 'Description': '', 'Title': '', 'DisplayUrl': '', 'Url': 'MSMARCO_Googled_MSMARCO_Googled_151_38107_0', 'Filename': 'MSMARC...</td>\n",
       "    </tr>\n",
       "    <tr>\n",
       "      <th>191150</th>\n",
       "      <td>fort selden roofing las cruces phone number</td>\n",
       "      <td>[]</td>\n",
       "      <td>[]</td>\n",
       "      <td></td>\n",
       "      <td>{'Aliases': ['(575) 527-1709'], 'NormalizedAliases': ['( 575 ) 527-1709'], 'NormalizedValue': '( 575 ) 527-1709', 'Type': 'FreeForm', 'V...</td>\n",
       "      <td>MSMARCO_Googled</td>\n",
       "      <td>[{'Rank': 0, 'Description': '', 'Title': '', 'DisplayUrl': '', 'Url': 'MSMARCO_Googled_MSMARCO_Googled_33_191150_0', 'Filename': 'MSMARC...</td>\n",
       "    </tr>\n",
       "    <tr>\n",
       "      <th>462353</th>\n",
       "      <td>nasa credit union routing number</td>\n",
       "      <td>[]</td>\n",
       "      <td>[]</td>\n",
       "      <td></td>\n",
       "      <td>{'Aliases': ['255077833'], 'NormalizedAliases': ['255077833'], 'NormalizedValue': '255077833', 'Type': 'FreeForm', 'Value': '255077833'}</td>\n",
       "      <td>MSMARCO_Googled</td>\n",
       "      <td>[{'Rank': 0, 'Description': '', 'Title': '', 'DisplayUrl': '', 'Url': 'MSMARCO_Googled_MSMARCO_Googled_138_462353_0', 'Filename': 'MSMAR...</td>\n",
       "    </tr>\n",
       "    <tr>\n",
       "      <th>607295</th>\n",
       "      <td>what county is hitchcock texas located in</td>\n",
       "      <td>[]</td>\n",
       "      <td>[]</td>\n",
       "      <td></td>\n",
       "      <td>{'Aliases': ['Galveston County'], 'NormalizedAliases': ['galveston county'], 'NormalizedValue': 'galveston county', 'Type': 'FreeForm', ...</td>\n",
       "      <td>MSMARCO_Googled</td>\n",
       "      <td>[{'Rank': 0, 'Description': '', 'Title': '', 'DisplayUrl': '', 'Url': 'MSMARCO_Googled_MSMARCO_Googled_94_607295_0', 'Filename': 'MSMARC...</td>\n",
       "    </tr>\n",
       "  </tbody>\n",
       "</table>\n",
       "<p>160375 rows × 7 columns</p>\n",
       "</div>"
      ],
      "text/plain": [
       "                                                                                Question OrgSearchResults EntityPages QuestionSource                                                                                                                                       Answer          dataset                                                                                                                                SearchResults\n",
       "QuestionId                                                                                                                                                                                                                                                                                                                                                                                                                                     \n",
       "28213                                         at what age do kids start to hold memories               []          []                 {'Aliases': ['Before the age of 2–4 years.'], 'NormalizedAliases': ['before the age of 2–4 years .'], 'NormalizedValue': 'before the age...  MSMARCO_Googled  [{'Rank': 0, 'Description': '', 'Title': '', 'DisplayUrl': '', 'Url': 'MSMARCO_Googled_MSMARCO_Googled_83_28213_0', 'Filename': 'MSMARCO...\n",
       "410717                                                                 is funner a word?               []          []                 {'Aliases': ['Yes, funner is a word.'], 'NormalizedAliases': ['yes , funner is a word .'], 'NormalizedValue': 'yes , funner is a word .'...  MSMARCO_Googled  [{'Rank': 0, 'Description': '', 'Title': '', 'DisplayUrl': '', 'Url': 'MSMARCO_Googled_MSMARCO_Googled_62_410717_0', 'Filename': 'MSMARC...\n",
       "604568                                                   what county is columbus city in               []          []                 {'Aliases': ['Bartholomew'], 'NormalizedAliases': ['bartholomew'], 'NormalizedValue': 'bartholomew', 'Type': 'FreeForm', 'Value': 'Barth...  MSMARCO_Googled  [{'Rank': 0, 'Description': '', 'Title': '', 'DisplayUrl': '', 'Url': 'MSMARCO_Googled_MSMARCO_Googled_73_604568_0', 'Filename': 'MSMARC...\n",
       "1174759                                                            is the bachelor legal               []          []                 {'Aliases': ['Yes, the bachelor is legal.'], 'NormalizedAliases': ['yes , the bachelor is legal .'], 'NormalizedValue': 'yes , the bache...  MSMARCO_Googled  [{'Rank': 0, 'Description': '', 'Title': '', 'DisplayUrl': '', 'Url': 'MSMARCO_Googled_MSMARCO_Googled_113_1174759_0', 'Filename': 'MSMA...\n",
       "672511                                                         what is BP level j salary               []          []                 {'Aliases': ['Average $111,082,'], 'NormalizedAliases': ['average $ 111,082 ,'], 'NormalizedValue': 'average $ 111,082 ,', 'Type': 'Free...  MSMARCO_Googled  [{'Rank': 0, 'Description': '', 'Title': '', 'DisplayUrl': '', 'Url': 'MSMARCO_Googled_MSMARCO_Googled_155_672511_0', 'Filename': 'MSMAR...\n",
       "33073                                average cost of assisted living in washington state               []          []                 {'Aliases': ['$4,625 per month.'], 'NormalizedAliases': ['$ 4,625 per month .'], 'NormalizedValue': '$ 4,625 per month .', 'Type': 'Free...  MSMARCO_Googled  [{'Rank': 0, 'Description': '', 'Title': '', 'DisplayUrl': '', 'Url': 'MSMARCO_Googled_MSMARCO_Googled_43_33073_0', 'Filename': 'MSMARCO...\n",
       "612569                                                     what county is seminole fl in               []          []                 {'Aliases': ['Pinellas County'], 'NormalizedAliases': ['pinellas county'], 'NormalizedValue': 'pinellas county', 'Type': 'FreeForm', 'Va...  MSMARCO_Googled  [{'Rank': 0, 'Description': '', 'Title': '', 'DisplayUrl': '', 'Url': 'MSMARCO_Googled_MSMARCO_Googled_143_612569_0', 'Filename': 'MSMAR...\n",
       "32055                                                        average cost dental implant               []          []                                  {'Aliases': ['$4250'], 'NormalizedAliases': ['$ 4250'], 'NormalizedValue': '$ 4250', 'Type': 'FreeForm', 'Value': '$4250'}  MSMARCO_Googled  [{'Rank': 0, 'Description': '', 'Title': '', 'DisplayUrl': '', 'Url': 'MSMARCO_Googled_MSMARCO_Googled_13_32055_0', 'Filename': 'MSMARCO...\n",
       "610348                                                       what county is nine mile in               []          []                        {'Aliases': ['Onondaga'], 'NormalizedAliases': ['onondaga'], 'NormalizedValue': 'onondaga', 'Type': 'FreeForm', 'Value': 'Onondaga'}  MSMARCO_Googled  [{'Rank': 0, 'Description': '', 'Title': '', 'DisplayUrl': '', 'Url': 'MSMARCO_Googled_MSMARCO_Googled_193_610348_0', 'Filename': 'MSMAR...\n",
       "31967                                                          average conservatory cost               []          []                 {'Aliases': ['$10,000 to $30,000'], 'NormalizedAliases': ['$ 10,000 to $ 30,000'], 'NormalizedValue': '$ 10,000 to $ 30,000', 'Type': 'F...  MSMARCO_Googled  [{'Rank': 0, 'Description': '', 'Title': '', 'DisplayUrl': '', 'Url': 'MSMARCO_Googled_MSMARCO_Googled_124_31967_0', 'Filename': 'MSMARC...\n",
       "451087                                 medical coding how many days is considered acute?               []          []                 {'Aliases': ['up to nine days.'], 'NormalizedAliases': ['up to nine days .'], 'NormalizedValue': 'up to nine days .', 'Type': 'FreeForm'...  MSMARCO_Googled  [{'Rank': 0, 'Description': '', 'Title': '', 'DisplayUrl': '', 'Url': 'MSMARCO_Googled_MSMARCO_Googled_5_451087_0', 'Filename': 'MSMARCO...\n",
       "517120                                                          the meaning of reverence               []          []                 {'Aliases': ['Deep respect.'], 'NormalizedAliases': ['deep respect .'], 'NormalizedValue': 'deep respect .', 'Type': 'FreeForm', 'Value'...  MSMARCO_Googled  [{'Rank': 0, 'Description': '', 'Title': '', 'DisplayUrl': '', 'Url': 'MSMARCO_Googled_MSMARCO_Googled_142_517120_0', 'Filename': 'MSMAR...\n",
       "512870                                        temperature to bake sweet potatoes in oven               []          []                                            {'Aliases': ['425'], 'NormalizedAliases': ['425'], 'NormalizedValue': '425', 'Type': 'FreeForm', 'Value': '425'}  MSMARCO_Googled  [{'Rank': 0, 'Description': '', 'Title': '', 'DisplayUrl': '', 'Url': 'MSMARCO_Googled_MSMARCO_Googled_176_512870_0', 'Filename': 'MSMAR...\n",
       "498704                                                           siriusxm cost per month               []          []                     {'Aliases': ['$14.99', '$17'], 'NormalizedAliases': ['$ 14.99', '$ 17'], 'NormalizedValue': '$ 17', 'Type': 'FreeForm', 'Value': '$17'}  MSMARCO_Googled  [{'Rank': 0, 'Description': '', 'Title': '', 'DisplayUrl': '', 'Url': 'MSMARCO_Googled_MSMARCO_Googled_64_498704_0', 'Filename': 'MSMARC...\n",
       "607381                                                         what county is honeoye in               []          []                        {'Aliases': ['New York'], 'NormalizedAliases': ['new york'], 'NormalizedValue': 'new york', 'Type': 'FreeForm', 'Value': 'New York'}  MSMARCO_Googled  [{'Rank': 0, 'Description': '', 'Title': '', 'DisplayUrl': '', 'Url': 'MSMARCO_Googled_MSMARCO_Googled_125_607381_0', 'Filename': 'MSMAR...\n",
       "256481                                     how long does it take to get SAT scores back?               []          []                 {'Aliases': ['Within five to 20 days.'], 'NormalizedAliases': ['within five to 20 days .'], 'NormalizedValue': 'within five to 20 days ....  MSMARCO_Googled  [{'Rank': 0, 'Description': '', 'Title': '', 'DisplayUrl': '', 'Url': 'MSMARCO_Googled_MSMARCO_Googled_144_256481_0', 'Filename': 'MSMAR...\n",
       "338146                                                              how pronounce tiguan               []          []                        {'Aliases': ['TEE-gwan'], 'NormalizedAliases': ['tee-gwan'], 'NormalizedValue': 'tee-gwan', 'Type': 'FreeForm', 'Value': 'TEE-gwan'}  MSMARCO_Googled  [{'Rank': 0, 'Description': '', 'Title': '', 'DisplayUrl': '', 'Url': 'MSMARCO_Googled_MSMARCO_Googled_3_338146_0', 'Filename': 'MSMARCO...\n",
       "475482                                                       pink eye treatment how long               []          []                 {'Aliases': ['Within 24 to 48 hours.'], 'NormalizedAliases': ['within 24 to 48 hours .'], 'NormalizedValue': 'within 24 to 48 hours .', ...  MSMARCO_Googled  [{'Rank': 0, 'Description': '', 'Title': '', 'DisplayUrl': '', 'Url': 'MSMARCO_Googled_MSMARCO_Googled_198_475482_0', 'Filename': 'MSMAR...\n",
       "448436                                                            meaning of name denise               []          []                 {'Aliases': ['To be devoted to Bacchus.'], 'NormalizedAliases': ['to be devoted to bacchus .'], 'NormalizedValue': 'to be devoted to bac...  MSMARCO_Googled  [{'Rank': 0, 'Description': '', 'Title': '', 'DisplayUrl': '', 'Url': 'MSMARCO_Googled_MSMARCO_Googled_49_448436_0', 'Filename': 'MSMARC...\n",
       "471082                                 pa amending the mandatory judicial retirement age               []          []                 {'Aliases': ['70 to 75 years '], 'NormalizedAliases': ['70 to 75 years'], 'NormalizedValue': '70 to 75 years', 'Type': 'FreeForm', 'Valu...  MSMARCO_Googled  [{'Rank': 0, 'Description': '', 'Title': '', 'DisplayUrl': '', 'Url': 'MSMARCO_Googled_MSMARCO_Googled_116_471082_0', 'Filename': 'MSMAR...\n",
       "662447                                  what forms at an ocean-ocean convergent boundary               []          []                 {'Aliases': ['A subduction zone'], 'NormalizedAliases': ['a subduction zone'], 'NormalizedValue': 'a subduction zone', 'Type': 'FreeForm...  MSMARCO_Googled  [{'Rank': 0, 'Description': '', 'Title': '', 'DisplayUrl': '', 'Url': 'MSMARCO_Googled_MSMARCO_Googled_87_662447_0', 'Filename': 'MSMARC...\n",
       "583500                                                       what casinos have rv parks?               []          []                 {'Aliases': ['Sam's Town, Las Vegas'], 'NormalizedAliases': ['sam 's town , las vegas'], 'NormalizedValue': 'sam 's town , las vegas', '...  MSMARCO_Googled  [{'Rank': 0, 'Description': '', 'Title': '', 'DisplayUrl': '', 'Url': 'MSMARCO_Googled_MSMARCO_Googled_60_583500_0', 'Filename': 'MSMARC...\n",
       "435759                                                           largest active military               []          []                                    {'Aliases': ['China'], 'NormalizedAliases': ['china'], 'NormalizedValue': 'china', 'Type': 'FreeForm', 'Value': 'China'}  MSMARCO_Googled  [{'Rank': 0, 'Description': '', 'Title': '', 'DisplayUrl': '', 'Url': 'MSMARCO_Googled_MSMARCO_Googled_98_435759_0', 'Filename': 'MSMARC...\n",
       "38032                                        average january temps in mount pleasant, sc               []          []                 {'Aliases': ['The January low is 39.'], 'NormalizedAliases': ['the january low is 39 .'], 'NormalizedValue': 'the january low is 39 .', ...  MSMARCO_Googled  [{'Rank': 0, 'Description': '', 'Title': '', 'DisplayUrl': '', 'Url': 'MSMARCO_Googled_MSMARCO_Googled_118_38032_0', 'Filename': 'MSMARC...\n",
       "268352                                             how long to bake whole speckled trout               []          []                 {'Aliases': ['15 minutes'], 'NormalizedAliases': ['15 minutes'], 'NormalizedValue': '15 minutes', 'Type': 'FreeForm', 'Value': '15 minut...  MSMARCO_Googled  [{'Rank': 0, 'Description': '', 'Title': '', 'DisplayUrl': '', 'Url': 'MSMARCO_Googled_MSMARCO_Googled_147_268352_0', 'Filename': 'MSMAR...\n",
       "614045                                                        what county is van nuys ca               []          []                 {'Aliases': ['Los Angeles'], 'NormalizedAliases': ['los angeles'], 'NormalizedValue': 'los angeles', 'Type': 'FreeForm', 'Value': 'Los A...  MSMARCO_Googled  [{'Rank': 0, 'Description': '', 'Title': '', 'DisplayUrl': '', 'Url': 'MSMARCO_Googled_MSMARCO_Googled_127_614045_0', 'Filename': 'MSMAR...\n",
       "552172                                      what air temperature can you see your breath               []          []                 {'Aliases': ['Below 50 degrees (F).'], 'NormalizedAliases': ['below 50 degrees ( f ) .'], 'NormalizedValue': 'below 50 degrees ( f ) .',...  MSMARCO_Googled  [{'Rank': 0, 'Description': '', 'Title': '', 'DisplayUrl': '', 'Url': 'MSMARCO_Googled_MSMARCO_Googled_28_552172_0', 'Filename': 'MSMARC...\n",
       "415234                                                          is julia kim still alive               []          []                                          {'Aliases': ['No.'], 'NormalizedAliases': ['no .'], 'NormalizedValue': 'no .', 'Type': 'FreeForm', 'Value': 'No.'}  MSMARCO_Googled  [{'Rank': 0, 'Description': '', 'Title': '', 'DisplayUrl': '', 'Url': 'MSMARCO_Googled_MSMARCO_Googled_170_415234_0', 'Filename': 'MSMAR...\n",
       "512338                                                  temperature in saint joe florida               []          []                            {'Aliases': ['67.22°F'], 'NormalizedAliases': ['67.22°f'], 'NormalizedValue': '67.22°f', 'Type': 'FreeForm', 'Value': '67.22°F'}  MSMARCO_Googled  [{'Rank': 0, 'Description': '', 'Title': '', 'DisplayUrl': '', 'Url': 'MSMARCO_Googled_MSMARCO_Googled_120_512338_0', 'Filename': 'MSMAR...\n",
       "449394                                                  meaning of the arabic name nayla               []          []                 {'Aliases': ['Successful'], 'NormalizedAliases': ['successful'], 'NormalizedValue': 'successful', 'Type': 'FreeForm', 'Value': 'Successf...  MSMARCO_Googled  [{'Rank': 0, 'Description': '', 'Title': '', 'DisplayUrl': '', 'Url': 'MSMARCO_Googled_MSMARCO_Googled_161_449394_0', 'Filename': 'MSMAR...\n",
       "...                                                                                  ...              ...         ...            ...                                                                                                                                          ...              ...                                                                                                                                          ...\n",
       "717070                                                   what is an overseer at a museum               []          []                 {'Aliases': ['A museum curator.'], 'NormalizedAliases': ['a museum curator .'], 'NormalizedValue': 'a museum curator .', 'Type': 'FreeFo...  MSMARCO_Googled  [{'Rank': 0, 'Description': '', 'Title': '', 'DisplayUrl': '', 'Url': 'MSMARCO_Googled_MSMARCO_Googled_96_717070_0', 'Filename': 'MSMARC...\n",
       "454316                                                      minimum amount to open iolta               []          []                          {'Aliases': ['$100.00'], 'NormalizedAliases': ['$ 100.00'], 'NormalizedValue': '$ 100.00', 'Type': 'FreeForm', 'Value': '$100.00'}  MSMARCO_Googled  [{'Rank': 0, 'Description': '', 'Title': '', 'DisplayUrl': '', 'Url': 'MSMARCO_Googled_MSMARCO_Googled_137_454316_0', 'Filename': 'MSMAR...\n",
       "710724                                               what is an abnormal immune response               []          []                 {'Aliases': ['Killer T cells'], 'NormalizedAliases': ['killer t cells'], 'NormalizedValue': 'killer t cells', 'Type': 'FreeForm', 'Value...  MSMARCO_Googled  [{'Rank': 0, 'Description': '', 'Title': '', 'DisplayUrl': '', 'Url': 'MSMARCO_Googled_MSMARCO_Googled_8_710724_0', 'Filename': 'MSMARCO...\n",
       "1174783                                                         is stoltz a german name?               []          []                 {'Aliases': ['Yes, stoltz is a german name.'], 'NormalizedAliases': ['yes , stoltz is a german name .'], 'NormalizedValue': 'yes , stolt...  MSMARCO_Googled  [{'Rank': 0, 'Description': '', 'Title': '', 'DisplayUrl': '', 'Url': 'MSMARCO_Googled_MSMARCO_Googled_10_1174783_0', 'Filename': 'MSMAR...\n",
       "578677                                           what becomes of a broken hearted singer               []          []                 {'Aliases': ['Jimmy Ruffin'], 'NormalizedAliases': ['jimmy ruffin'], 'NormalizedValue': 'jimmy ruffin', 'Type': 'FreeForm', 'Value': 'Ji...  MSMARCO_Googled  [{'Rank': 0, 'Description': '', 'Title': '', 'DisplayUrl': '', 'Url': 'MSMARCO_Googled_MSMARCO_Googled_103_578677_0', 'Filename': 'MSMAR...\n",
       "478570                                                   pork tenderloin how long to bbq               []          []                 {'Aliases': ['About 3 to 4 minutes'], 'NormalizedAliases': ['about 3 to 4 minutes'], 'NormalizedValue': 'about 3 to 4 minutes', 'Type': ...  MSMARCO_Googled  [{'Rank': 0, 'Description': '', 'Title': '', 'DisplayUrl': '', 'Url': 'MSMARCO_Googled_MSMARCO_Googled_190_478570_0', 'Filename': 'MSMAR...\n",
       "458389      most of the color in the water you see around you comes from ______ material               []          []                                    {'Aliases': ['Beach'], 'NormalizedAliases': ['beach'], 'NormalizedValue': 'beach', 'Type': 'FreeForm', 'Value': 'Beach'}  MSMARCO_Googled  [{'Rank': 0, 'Description': '', 'Title': '', 'DisplayUrl': '', 'Url': 'MSMARCO_Googled_MSMARCO_Googled_196_458389_0', 'Filename': 'MSMAR...\n",
       "596834                                                       what cms does a website use               []          []                 {'Aliases': ['Wordpress,Joomla and Drupal'], 'NormalizedAliases': ['wordpress , joomla and drupal'], 'NormalizedValue': 'wordpress , joo...  MSMARCO_Googled  [{'Rank': 0, 'Description': '', 'Title': '', 'DisplayUrl': '', 'Url': 'MSMARCO_Googled_MSMARCO_Googled_41_596834_0', 'Filename': 'MSMARC...\n",
       "573767                         what are the special items needed to evolve some pokemon?               []          []                 {'Aliases': ['An Evolution'], 'NormalizedAliases': ['an evolution'], 'NormalizedValue': 'an evolution', 'Type': 'FreeForm', 'Value': 'An...  MSMARCO_Googled  [{'Rank': 0, 'Description': '', 'Title': '', 'DisplayUrl': '', 'Url': 'MSMARCO_Googled_MSMARCO_Googled_183_573767_0', 'Filename': 'MSMAR...\n",
       "609341                                                          what county is mendon in               []          []                 {'Aliases': ['Mendon is in Monroe County.'], 'NormalizedAliases': ['mendon is in monroe county .'], 'NormalizedValue': 'mendon is in mon...  MSMARCO_Googled  [{'Rank': 0, 'Description': '', 'Title': '', 'DisplayUrl': '', 'Url': 'MSMARCO_Googled_MSMARCO_Googled_28_609341_0', 'Filename': 'MSMARC...\n",
       "651706                                                     what does the name lyman mean               []          []                 {'Aliases': ['Man of the valley'], 'NormalizedAliases': ['man of the valley'], 'NormalizedValue': 'man of the valley', 'Type': 'FreeForm...  MSMARCO_Googled  [{'Rank': 0, 'Description': '', 'Title': '', 'DisplayUrl': '', 'Url': 'MSMARCO_Googled_MSMARCO_Googled_49_651706_0', 'Filename': 'MSMARC...\n",
       "393193                        in a hit-and-run what if they suspect the driver was drunk               []          []                 {'Aliases': ['Driver arrested'], 'NormalizedAliases': ['driver arrested'], 'NormalizedValue': 'driver arrested', 'Type': 'FreeForm', 'Va...  MSMARCO_Googled  [{'Rank': 0, 'Description': '', 'Title': '', 'DisplayUrl': '', 'Url': 'MSMARCO_Googled_MSMARCO_Googled_109_393193_0', 'Filename': 'MSMAR...\n",
       "103780                                                               cost of e cigarette               []          []                 {'Aliases': ['$6 to $12 dollars'], 'NormalizedAliases': ['$ 6 to $ 12 dollars'], 'NormalizedValue': '$ 6 to $ 12 dollars', 'Type': 'Free...  MSMARCO_Googled  [{'Rank': 0, 'Description': '', 'Title': '', 'DisplayUrl': '', 'Url': 'MSMARCO_Googled_MSMARCO_Googled_197_103780_0', 'Filename': 'MSMAR...\n",
       "410003                                                                  is felt washable               []          []                 {'Aliases': ['Yes, felt is washable'], 'NormalizedAliases': ['yes , felt is washable'], 'NormalizedValue': 'yes , felt is washable', 'Ty...  MSMARCO_Googled  [{'Rank': 0, 'Description': '', 'Title': '', 'DisplayUrl': '', 'Url': 'MSMARCO_Googled_MSMARCO_Googled_145_410003_0', 'Filename': 'MSMAR...\n",
       "491827                                                            salary of a beautician               []          []                    {'Aliases': ['$31,000.'], 'NormalizedAliases': ['$ 31,000 .'], 'NormalizedValue': '$ 31,000 .', 'Type': 'FreeForm', 'Value': '$31,000.'}  MSMARCO_Googled  [{'Rank': 0, 'Description': '', 'Title': '', 'DisplayUrl': '', 'Url': 'MSMARCO_Googled_MSMARCO_Googled_147_491827_0', 'Filename': 'MSMAR...\n",
       "108465                                                       cost per ton of asphalt oil               []          []                 {'Aliases': ['$52 – $60 per ton'], 'NormalizedAliases': ['$ 52 – $ 60 per ton'], 'NormalizedValue': '$ 52 – $ 60 per ton', 'Type': 'Free...  MSMARCO_Googled  [{'Rank': 0, 'Description': '', 'Title': '', 'DisplayUrl': '', 'Url': 'MSMARCO_Googled_MSMARCO_Googled_10_108465_0', 'Filename': 'MSMARC...\n",
       "293500                                 how many points do you get for a red light ticket               []          []                        {'Aliases': ['3 points'], 'NormalizedAliases': ['3 points'], 'NormalizedValue': '3 points', 'Type': 'FreeForm', 'Value': '3 points'}  MSMARCO_Googled  [{'Rank': 0, 'Description': '', 'Title': '', 'DisplayUrl': '', 'Url': 'MSMARCO_Googled_MSMARCO_Googled_90_293500_0', 'Filename': 'MSMARC...\n",
       "190571                                                            football season start.               []          []                 {'Aliases': ['On Aug. 9 2015'], 'NormalizedAliases': ['on aug. 9 2015'], 'NormalizedValue': 'on aug. 9 2015', 'Type': 'FreeForm', 'Value...  MSMARCO_Googled  [{'Rank': 0, 'Description': '', 'Title': '', 'DisplayUrl': '', 'Url': 'MSMARCO_Googled_MSMARCO_Googled_156_190571_0', 'Filename': 'MSMAR...\n",
       "458548                                                        most popular braces colors               []          []                 {'Aliases': ['Purple and light blue'], 'NormalizedAliases': ['purple and light blue'], 'NormalizedValue': 'purple and light blue', 'Type...  MSMARCO_Googled  [{'Rank': 0, 'Description': '', 'Title': '', 'DisplayUrl': '', 'Url': 'MSMARCO_Googled_MSMARCO_Googled_199_458548_0', 'Filename': 'MSMAR...\n",
       "583571                                               what category is an electrical fire               []          []                 {'Aliases': ['Class A, B, C, D, E.'], 'NormalizedAliases': ['class a , b , c , d , e .'], 'NormalizedValue': 'class a , b , c , d , e .'...  MSMARCO_Googled  [{'Rank': 0, 'Description': '', 'Title': '', 'DisplayUrl': '', 'Url': 'MSMARCO_Googled_MSMARCO_Googled_105_583571_0', 'Filename': 'MSMAR...\n",
       "657490                                                   what enzyme causes dna to unzip               []          []                    {'Aliases': ['Helicases'], 'NormalizedAliases': ['helicases'], 'NormalizedValue': 'helicases', 'Type': 'FreeForm', 'Value': 'Helicases'}  MSMARCO_Googled  [{'Rank': 0, 'Description': '', 'Title': '', 'DisplayUrl': '', 'Url': 'MSMARCO_Googled_MSMARCO_Googled_98_657490_0', 'Filename': 'MSMARC...\n",
       "313785                                   how much does executive driector of family make               []          []                 {'Aliases': ['$61,230 per year. '], 'NormalizedAliases': ['$ 61,230 per year .'], 'NormalizedValue': '$ 61,230 per year .', 'Type': 'Fre...  MSMARCO_Googled  [{'Rank': 0, 'Description': '', 'Title': '', 'DisplayUrl': '', 'Url': 'MSMARCO_Googled_MSMARCO_Googled_133_313785_0', 'Filename': 'MSMAR...\n",
       "417820                                                                is memphis a state               []          []                 {'Aliases': ['No, it is a city.'], 'NormalizedAliases': ['no , it is a city .'], 'NormalizedValue': 'no , it is a city .', 'Type': 'Free...  MSMARCO_Googled  [{'Rank': 0, 'Description': '', 'Title': '', 'DisplayUrl': '', 'Url': 'MSMARCO_Googled_MSMARCO_Googled_69_417820_0', 'Filename': 'MSMARC...\n",
       "667354                                         what happens when someone heart is broken               []          []                 {'Aliases': ['Feel worthless and hopeless'], 'NormalizedAliases': ['feel worthless and hopeless'], 'NormalizedValue': 'feel worthless an...  MSMARCO_Googled  [{'Rank': 0, 'Description': '', 'Title': '', 'DisplayUrl': '', 'Url': 'MSMARCO_Googled_MSMARCO_Googled_73_667354_0', 'Filename': 'MSMARC...\n",
       "1174765                                                is the actor charles bronson dead               []          []                 {'Aliases': ['Yes, Charles Bronson is dead.'], 'NormalizedAliases': ['yes , charles bronson is dead .'], 'NormalizedValue': 'yes , charl...  MSMARCO_Googled  [{'Rank': 0, 'Description': '', 'Title': '', 'DisplayUrl': '', 'Url': 'MSMARCO_Googled_MSMARCO_Googled_161_1174765_0', 'Filename': 'MSMA...\n",
       "547249                                                            weight evenflo maestro               []          []                 {'Aliases': ['11 pounds', '22-50 pounds'], 'NormalizedAliases': ['11 pounds', '22-50 pounds'], 'NormalizedValue': '11 pounds', 'Type': '...  MSMARCO_Googled  [{'Rank': 0, 'Description': '', 'Title': '', 'DisplayUrl': '', 'Url': 'MSMARCO_Googled_MSMARCO_Googled_19_547249_0', 'Filename': 'MSMARC...\n",
       "38107                                                    average kwh per household in us               []          []                            {'Aliases': ['908 kWh'], 'NormalizedAliases': ['908 kwh'], 'NormalizedValue': '908 kwh', 'Type': 'FreeForm', 'Value': '908 kWh'}  MSMARCO_Googled  [{'Rank': 0, 'Description': '', 'Title': '', 'DisplayUrl': '', 'Url': 'MSMARCO_Googled_MSMARCO_Googled_151_38107_0', 'Filename': 'MSMARC...\n",
       "191150                                       fort selden roofing las cruces phone number               []          []                 {'Aliases': ['(575) 527-1709'], 'NormalizedAliases': ['( 575 ) 527-1709'], 'NormalizedValue': '( 575 ) 527-1709', 'Type': 'FreeForm', 'V...  MSMARCO_Googled  [{'Rank': 0, 'Description': '', 'Title': '', 'DisplayUrl': '', 'Url': 'MSMARCO_Googled_MSMARCO_Googled_33_191150_0', 'Filename': 'MSMARC...\n",
       "462353                                                  nasa credit union routing number               []          []                    {'Aliases': ['255077833'], 'NormalizedAliases': ['255077833'], 'NormalizedValue': '255077833', 'Type': 'FreeForm', 'Value': '255077833'}  MSMARCO_Googled  [{'Rank': 0, 'Description': '', 'Title': '', 'DisplayUrl': '', 'Url': 'MSMARCO_Googled_MSMARCO_Googled_138_462353_0', 'Filename': 'MSMAR...\n",
       "607295                                         what county is hitchcock texas located in               []          []                 {'Aliases': ['Galveston County'], 'NormalizedAliases': ['galveston county'], 'NormalizedValue': 'galveston county', 'Type': 'FreeForm', ...  MSMARCO_Googled  [{'Rank': 0, 'Description': '', 'Title': '', 'DisplayUrl': '', 'Url': 'MSMARCO_Googled_MSMARCO_Googled_94_607295_0', 'Filename': 'MSMARC...\n",
       "\n",
       "[160375 rows x 7 columns]"
      ]
     },
     "execution_count": 92,
     "metadata": {},
     "output_type": "execute_result"
    }
   ],
   "source": [
    "data_df"
   ]
  },
  {
   "cell_type": "code",
   "execution_count": 93,
   "metadata": {
    "ExecuteTime": {
     "end_time": "2018-09-28T08:37:37.829921Z",
     "start_time": "2018-09-28T08:37:37.707648Z"
    }
   },
   "outputs": [
    {
     "name": "stdout",
     "output_type": "stream",
     "text": [
      "Amount of examples saved: 155503\n"
     ]
    }
   ],
   "source": [
    "del data_df['OrgSearchResults']\n",
    "\n",
    "if EVAL_SET == 'train':\n",
    "    data_df = data_df[data_df['SearchResults'].apply(len)>0]\n",
    "\n",
    "# randomizing the samples:\n",
    "data_df = data_df.sample(frac=1)\n",
    "\n",
    "print('Amount of examples saved: %d' % len(data_df))"
   ]
  },
  {
   "cell_type": "code",
   "execution_count": 52,
   "metadata": {
    "ExecuteTime": {
     "end_time": "2018-09-26T16:10:17.772908Z",
     "start_time": "2018-09-26T16:10:15.636182Z"
    },
    "code_folding": [
     3
    ],
    "run_control": {
     "marked": false
    }
   },
   "outputs": [],
   "source": [
    "if not WRITE_EVIDENCE:\n",
    "    if not os.path.isdir('../output/' ):\n",
    "        os.mkdir('../output/' )\n",
    "    if not os.path.isdir('../output/' + EXP_NAME):\n",
    "        os.mkdir('../output/' + EXP_NAME)\n",
    "\n",
    "    if EVAL_SET == 'dev':\n",
    "        triviaqa_dict['Data'] = data_df.reset_index().to_dict(orient='rows')\n",
    "        with zipfile.ZipFile('../output/' + EXP_NAME + '/' + \"unfiltered-web-dev.json.zip\", \"w\", zipfile.ZIP_DEFLATED) as zip_file:\n",
    "            zip_file.writestr('unfiltered-web-dev.json', json.dumps(triviaqa_dict, sort_keys=True, indent=4))\n",
    "    else:\n",
    "        triviaqa_dict['Data'] = data_df.reset_index().to_dict(orient='rows')\n",
    "        with zipfile.ZipFile('../output/' + EXP_NAME + '/' + \"unfiltered-web-train.json.zip\", \"w\", zipfile.ZIP_DEFLATED) as zip_file:\n",
    "            zip_file.writestr('unfiltered-web-train.json', json.dumps(triviaqa_dict, sort_keys=True, indent=4))"
   ]
  },
  {
   "cell_type": "markdown",
   "metadata": {},
   "source": [
    "# experiments"
   ]
  },
  {
   "cell_type": "markdown",
   "metadata": {},
   "source": [
    "## Comparing two different batches"
   ]
  },
  {
   "cell_type": "code",
   "execution_count": 53,
   "metadata": {
    "ExecuteTime": {
     "end_time": "2018-09-26T16:10:17.777701Z",
     "start_time": "2018-09-26T16:10:17.774704Z"
    }
   },
   "outputs": [],
   "source": [
    "if RUN_EXPERIMENTS:\n",
    "    path = '/Users/alontalmor/Documents/dev/datasets/NewsQA/newsqa-data-v1/cnn/stories/13012604e3203c18df09289dfedd14cde67cf40b.story'\n",
    "    with open(path,'r') as f:\n",
    "        x = f.read()"
   ]
  },
  {
   "cell_type": "code",
   "execution_count": 54,
   "metadata": {
    "ExecuteTime": {
     "end_time": "2018-09-26T16:10:17.785957Z",
     "start_time": "2018-09-26T16:10:17.779762Z"
    }
   },
   "outputs": [],
   "source": [
    "if RUN_EXPERIMENTS:\n",
    "    with zipfile.ZipFile('../output/compwebq_with_triviaqa/unfiltered-web-train.json.zip','r') as myzip:\n",
    "            with myzip.open('unfiltered-web-train.json') as myfile:\n",
    "                questions = json.load(myfile)\n",
    "                compwebq_with_triviaqa = pd.DataFrame(questions['Data'])\n",
    "    compwebq1 = compwebq_with_triviaqa[compwebq_with_triviaqa['QuestionId'].str.startswith('WebQ')]\n",
    "    del compwebq_with_triviaqa\n",
    "    len(compwebq1)"
   ]
  },
  {
   "cell_type": "code",
   "execution_count": 55,
   "metadata": {
    "ExecuteTime": {
     "end_time": "2018-09-26T16:10:17.795586Z",
     "start_time": "2018-09-26T16:10:17.788550Z"
    }
   },
   "outputs": [],
   "source": [
    "#RUN_EXPERIMENTS = 1\n",
    "if RUN_EXPERIMENTS:\n",
    "    with zipfile.ZipFile('../output/ComplexWebQuestions/unfiltered-web-dev.json.zip','r') as myzip:\n",
    "        with myzip.open('unfiltered-web-dev.json') as myfile:\n",
    "            questions = json.load(myfile)\n",
    "            compwebq_triviaqa_full_dev = pd.DataFrame(questions['Data'])\n",
    "    compwebq2 = compwebq_triviaqa_full_dev[compwebq_triviaqa_full_dev['QuestionId'].str.startswith('WebQ')]\n",
    "    del compwebq_triviaqa_full_dev\n",
    "    print(len(compwebq2))"
   ]
  },
  {
   "cell_type": "code",
   "execution_count": 56,
   "metadata": {
    "ExecuteTime": {
     "end_time": "2018-09-26T16:10:17.801754Z",
     "start_time": "2018-09-26T16:10:17.797949Z"
    }
   },
   "outputs": [],
   "source": [
    "if RUN_EXPERIMENTS:\n",
    "    x = compwebq2.merge(compwebq1,on='QuestionId',how='inner')\n",
    "    ((x['SearchResults_x'].apply(len) - x['SearchResults_y'].apply(len))!=0).sum()"
   ]
  },
  {
   "cell_type": "markdown",
   "metadata": {},
   "source": [
    "# Run Google "
   ]
  },
  {
   "cell_type": "code",
   "execution_count": 57,
   "metadata": {
    "ExecuteTime": {
     "end_time": "2018-09-26T16:10:17.862864Z",
     "start_time": "2018-09-26T16:10:17.803423Z"
    },
    "code_folding": [
     0
    ],
    "run_control": {
     "marked": true
    }
   },
   "outputs": [],
   "source": [
    "#GOOGLE_FILTERED_FILES = True\n",
    "if GOOGLE_FILTERED_FILES:\n",
    "    dataset = 'SearchQA'\n",
    "    BATCH_SIZE = 200\n",
    "    \n",
    "    question_for_google = Data_triviaqa_format[dataset].to_dict(orient='rows')\n",
    "\n",
    "    import dropbox\n",
    "    dbx = dropbox.Dropbox('7j6m2s1jYC0AAAAAAAHy69fu0OxDAU3fPbIjjarqr_1zalj8Mvypf8U71BoLT-AD')\n",
    "\n",
    "    print('iterating over files')\n",
    "    offset = 0\n",
    "    while True:\n",
    "        curr_batch_webanswer_question = question_for_google[offset:offset+BATCH_SIZE]\n",
    "        \n",
    "        if len(curr_batch_webanswer_question) == 0:\n",
    "            break\n",
    "        \n",
    "        new_questions = []\n",
    "        for question in curr_batch_webanswer_question: \n",
    "            goog_question = {}\n",
    "            goog_question['goog_query'] = question['Question']\n",
    "            goog_question['QuestionId'] = question['QuestionId']\n",
    "            new_questions.append(goog_question)\n",
    "        \n",
    "        for_goog_dict = {'target_dir': dataset + '/' + EVAL_SET ,'questions': new_questions}\n",
    "\n",
    "        filename = dataset + '-' + EVAL_SET + '-' + str(offset) + '_for_goog.json'\n",
    "        with zipfile.ZipFile(filename + '.zip', \"w\", zipfile.ZIP_DEFLATED) as zip_file:\n",
    "            zip_file.writestr(filename, json.dumps(for_goog_dict, sort_keys=True, indent=4))\n",
    "        \n",
    "        print(filename)\n",
    "        \n",
    "        with open(filename + '.zip', \"rb\") as f:\n",
    "            dbx.files_upload(f.read(), '/google/' + filename + '.zip', mode = dropbox.files.WriteMode.overwrite)\n",
    "\n",
    "        os.remove(filename + '.zip')    \n",
    "        offset += BATCH_SIZE\n",
    "\n",
    "        "
   ]
  },
  {
   "cell_type": "code",
   "execution_count": 58,
   "metadata": {
    "ExecuteTime": {
     "end_time": "2018-09-26T16:10:17.876297Z",
     "start_time": "2018-09-26T16:10:17.865601Z"
    }
   },
   "outputs": [
    {
     "name": "stderr",
     "output_type": "stream",
     "text": [
      "iterating over all googled files: 100%|█████████| 1/1 [00:00<00:00, 3908.95it/s]\n"
     ]
    }
   ],
   "source": [
    "if True:\n",
    "    DIR = '/Users/alontalmor/Dropbox/Apps/WebKB/google/'\n",
    "    for dirname, dirnames, filenames in os.walk(DIR):\n",
    "        for filename in tqdm(filenames, total=len(filenames), ncols=80, desc='iterating over all googled files'):\n",
    "            if filename.find('processing')>-1:\n",
    "                os.rename(DIR + filename, DIR + filename.replace('processing','for_goog'))"
   ]
  },
  {
   "cell_type": "markdown",
   "metadata": {},
   "source": [
    "## Google SearchQA"
   ]
  },
  {
   "cell_type": "code",
   "execution_count": 59,
   "metadata": {
    "ExecuteTime": {
     "end_time": "2018-09-26T16:10:17.892846Z",
     "start_time": "2018-09-26T16:10:17.879217Z"
    }
   },
   "outputs": [],
   "source": [
    "if GOOGLE_FILTERED_FILES:\n",
    "    DIR = '/Users/alontalmor/Documents/dev/datasets/SearchQA/data_json/'\n",
    "    question_for_google = []\n",
    "    for dirname, dirnames, filenames in os.walk(DIR):\n",
    "        for filename in tqdm(filenames, total=len(filenames), ncols=80, desc='iterating over all googled files'):\n",
    "            with open(DIR + filename,'r') as f:\n",
    "                try:\n",
    "                    single_question_dict = json.load(f)\n",
    "                    question_for_google.append({'Question':single_question_dict['question'], \\\n",
    "                                                'QuestionId':single_question_dict['id']})\n",
    "                except:\n",
    "                    print('bad json')"
   ]
  },
  {
   "cell_type": "code",
   "execution_count": 60,
   "metadata": {
    "ExecuteTime": {
     "end_time": "2018-09-26T16:10:17.898807Z",
     "start_time": "2018-09-26T16:10:17.894946Z"
    },
    "run_control": {
     "marked": false
    }
   },
   "outputs": [],
   "source": [
    "if GOOGLE_FILTERED_FILES:\n",
    "    Data_triviaqa_format = {}\n",
    "    dataset = 'SearchQA'\n",
    "    Data_triviaqa_format[dataset] = pd.DataFrame(question_for_google)"
   ]
  }
 ],
 "metadata": {
  "kernelspec": {
   "display_name": "Python 3",
   "language": "python",
   "name": "python3"
  },
  "language_info": {
   "codemirror_mode": {
    "name": "ipython",
    "version": 3
   },
   "file_extension": ".py",
   "mimetype": "text/x-python",
   "name": "python",
   "nbconvert_exporter": "python",
   "pygments_lexer": "ipython3",
   "version": "3.6.6"
  },
  "toc": {
   "nav_menu": {},
   "number_sections": true,
   "sideBar": true,
   "skip_h1_title": false,
   "toc_cell": false,
   "toc_position": {
    "height": "908px",
    "left": "0px",
    "right": "1587.01px",
    "top": "109px",
    "width": "325px"
   },
   "toc_section_display": "block",
   "toc_window_display": true
  }
 },
 "nbformat": 4,
 "nbformat_minor": 2
}
