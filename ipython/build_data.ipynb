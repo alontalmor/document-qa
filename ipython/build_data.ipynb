{
 "cells": [
  {
   "cell_type": "code",
   "execution_count": 188,
   "metadata": {
    "ExecuteTime": {
     "end_time": "2018-07-11T08:55:24.435307Z",
     "start_time": "2018-07-11T08:55:24.397466Z"
    },
    "code_folding": [],
    "run_control": {
     "marked": true
    }
   },
   "outputs": [
    {
     "name": "stdout",
     "output_type": "stream",
     "text": [
      "The line_profiler extension is already loaded. To reload it, use:\n",
      "  %reload_ext line_profiler\n"
     ]
    }
   ],
   "source": [
    "# imports\n",
    "import pandas as pd\n",
    "import numpy as np\n",
    "pd.set_option('display.max_colwidth', 140)\n",
    "pd.set_option('display.width', 2000)\n",
    "import sys,os\n",
    "from IPython.core.debugger import Tracer\n",
    "from IPython.core.debugger import BdbQuit_excepthook\n",
    "%matplotlib inline\n",
    "%load_ext line_profiler\n",
    "import matplotlib.pyplot as plt\n",
    "import matplotlib\n",
    "import nltk\n",
    "import io\n",
    "import json\n",
    "import time\n",
    "from pandas import ExcelWriter\n",
    "from ast import literal_eval\n",
    "import hashlib\n",
    "import unicodedata\n",
    "import subprocess\n",
    "import datetime\n",
    "m = hashlib.md5()\n",
    "from nltk.metrics import *\n",
    "from nltk import pos_tag, word_tokenize\n",
    "from nltk.corpus import stopwords\n",
    "import zipfile\n",
    "import pymongo\n",
    "import re\n",
    "import random\n",
    "from tqdm import tqdm"
   ]
  },
  {
   "cell_type": "markdown",
   "metadata": {},
   "source": [
    "# experiment configuration"
   ]
  },
  {
   "cell_type": "code",
   "execution_count": 189,
   "metadata": {
    "ExecuteTime": {
     "end_time": "2018-07-11T08:55:24.505721Z",
     "start_time": "2018-07-11T08:55:24.500508Z"
    },
    "collapsed": true,
    "run_control": {
     "marked": true
    }
   },
   "outputs": [],
   "source": [
    "EXP_NAME = 'compwebq_with_triviaqa'\n",
    "EVAL_SET = 'dev' # train, dev\n",
    "WRITE_EVIDENCE = True\n",
    "ADD_SPLITS_TO_TRAIN = True\n",
    "PRODUCE_ONLY_SAMPLE = False\n",
    "EVIDENCE_DIR = '/Users/alontalmor/Documents/dev/datasets/triviaqa/triviaqa-rc/'\n",
    "LOAD_TRIVIAQA = True"
   ]
  },
  {
   "cell_type": "markdown",
   "metadata": {
    "ExecuteTime": {
     "end_time": "2018-05-15T07:29:54.834220Z",
     "start_time": "2018-05-15T07:29:54.713840Z"
    }
   },
   "source": [
    "# Loading Dataset"
   ]
  },
  {
   "cell_type": "markdown",
   "metadata": {},
   "source": [
    "## Dev Set"
   ]
  },
  {
   "cell_type": "code",
   "execution_count": 190,
   "metadata": {
    "ExecuteTime": {
     "end_time": "2018-07-11T08:55:26.933429Z",
     "start_time": "2018-07-11T08:55:24.575173Z"
    },
    "code_folding": [],
    "run_control": {
     "marked": true
    }
   },
   "outputs": [
    {
     "name": "stdout",
     "output_type": "stream",
     "text": [
      "dev.json.zip\n",
      "size before drop dups: 3109\n",
      "size after drop dups: 3109\n"
     ]
    }
   ],
   "source": [
    "# comparing web triavia-rc dev number of question to unfiltered number of questions\n",
    "if EVAL_SET == 'dev':\n",
    "    rl_input_df = pd.DataFrame()\n",
    "    #data_dir = '/Users/alontalmor/Dropbox/Apps/WebKB/webkb_dev_data/RL_preproc_data/rl_cascade1_epoch0-8/'\n",
    "    data_dir = '../data/V2_dev_splitpoints/'\n",
    "    filename = 'dev.json.zip'\n",
    "    if filename.find('.json.zip') > -1:\n",
    "        print(filename)\n",
    "        with zipfile.ZipFile(data_dir + filename, 'r') as myzip:\n",
    "            with myzip.open(filename.replace('.zip', '')) as myfile:\n",
    "                curr_batch = pd.DataFrame(json.load(myfile))\n",
    "        curr_batch = curr_batch[(curr_batch[['split_part1', 'split_part2']].isnull(\n",
    "        ) * 1.0).sum(axis=1) == 0]  # removing null values\n",
    "        curr_batch['traj_id'] = curr_batch['ID'] + curr_batch['comp'] + curr_batch['split_part1'].str.replace(\" \",\"\") \\\n",
    "                                + ',' + curr_batch['split_part2'].str.replace(\" \",\"\")\n",
    "        if len(rl_input_df) > 0:\n",
    "            len_before_filter = len(curr_batch)\n",
    "            curr_batch = curr_batch[\n",
    "                ~curr_batch['traj_id'].isin(rl_input_df['traj_id'])]\n",
    "        curr_batch['filename'] = filename\n",
    "        rl_input_df = rl_input_df.append(curr_batch, ignore_index=True)\n",
    "\n",
    "    rl_input_df = rl_input_df.set_index('traj_id')\n",
    "\n",
    "    # dropping exact duplicate splits\n",
    "    print('size before drop dups: ' + str(len(rl_input_df)))\n",
    "    rl_input_df = rl_input_df.drop_duplicates(\n",
    "        ['ID', 'comp', 'split_part1', 'split_part2'])\n",
    "    print('size after drop dups: ' + str(len(rl_input_df)))\n",
    "\n",
    "    dataset_filename = '../../../mturk/compqgen/final/complexwebquestions_V1_1/ComplexWebQuestions_dev'\n",
    "    with open(dataset_filename + '.json', 'r') as outfile:\n",
    "        complexwebquestions = pd.DataFrame(json.load(outfile))\n",
    "\n",
    "    rl_input_df = rl_input_df.merge(\n",
    "        pd.DataFrame(complexwebquestions)[['answers', 'ID']], on='ID', how='inner')\n",
    "    rl_input_df.rename(columns={'answers_y': 'answers'}, inplace=True)\n",
    "    del rl_input_df['answers_x']"
   ]
  },
  {
   "cell_type": "markdown",
   "metadata": {},
   "source": [
    "## Training Set"
   ]
  },
  {
   "cell_type": "code",
   "execution_count": 191,
   "metadata": {
    "ExecuteTime": {
     "end_time": "2018-07-11T08:55:26.983695Z",
     "start_time": "2018-07-11T08:55:26.977299Z"
    },
    "collapsed": true,
    "run_control": {
     "marked": true
    }
   },
   "outputs": [],
   "source": [
    "if LOAD_TRIVIAQA and EVAL_SET == 'train':\n",
    "    trivia_qa_dir = '/Users/alontalmor/Documents/dev/datasets/triviaqa/triviaqa-unfiltered/'\n",
    "    with zipfile.ZipFile(trivia_qa_dir + 'unfiltered-web-train-org.json.zip','r') as myzip:\n",
    "        with myzip.open('unfiltered-web-train-org.json') as myfile:\n",
    "            questions = json.load(myfile)\n",
    "            triviaqa_dataset = pd.DataFrame(questions['Data'])"
   ]
  },
  {
   "cell_type": "code",
   "execution_count": 19,
   "metadata": {
    "ExecuteTime": {
     "end_time": "2018-07-10T15:46:38.473834Z",
     "start_time": "2018-07-10T15:46:38.467115Z"
    },
    "collapsed": true
   },
   "outputs": [],
   "source": [
    "triviaqa_dataset = triviaqa_formated_answers"
   ]
  },
  {
   "cell_type": "code",
   "execution_count": 21,
   "metadata": {
    "ExecuteTime": {
     "end_time": "2018-07-10T15:49:05.151148Z",
     "start_time": "2018-07-10T15:49:05.148211Z"
    },
    "collapsed": true
   },
   "outputs": [],
   "source": [
    "questions_triviaqa_format = triviaqa_dataset"
   ]
  },
  {
   "cell_type": "code",
   "execution_count": 192,
   "metadata": {
    "ExecuteTime": {
     "end_time": "2018-07-11T08:55:27.094902Z",
     "start_time": "2018-07-11T08:55:27.005219Z"
    },
    "code_folding": [],
    "run_control": {
     "marked": true
    }
   },
   "outputs": [],
   "source": [
    "if EVAL_SET == 'train':\n",
    "    rl_input_df = pd.DataFrame()\n",
    "    #data_dir = '/Users/alontalmor/Dropbox/Apps/WebKB/webkb_dev_data/RL_train_data/rl_cascade1_epoch0-8/'\n",
    "    # V2 Code\n",
    "    data_dir = '../data/V2_train_splitpoints/'\n",
    "    for dirname, dirnames, filenames in os.walk(data_dir):\n",
    "\n",
    "        # making sure noisy sup is added first (because of the default MIN_REWARD_TRESH values\n",
    "        #if 'noisy_sup_rewarded.json.zip' in filenames:\n",
    "        #    filenames.remove('noisy_sup_rewarded.json.zip')\n",
    "        #    filenames = ['noisy_sup_rewarded.json.zip'] + filenames\n",
    "        # V2 code\n",
    "        if 'train.json.zip' in filenames:\n",
    "            filenames.remove('train.json.zip')\n",
    "            filenames = ['train.json.zip'] + filenames\n",
    "\n",
    "        for filename in filenames[0:2]:\n",
    "\n",
    "            if filename.find('.json.zip')>-1:\n",
    "                print(filename)\n",
    "                with zipfile.ZipFile(data_dir + filename,'r') as myzip:\n",
    "                    with myzip.open(filename.replace('.zip','')) as myfile:\n",
    "                        curr_batch = pd.DataFrame(json.load(myfile))\n",
    "                curr_batch = curr_batch[(curr_batch[['split_part1', 'split_part2']].isnull() * 1.0).sum(axis=1) == 0] # removing null values\n",
    "                # V2 Code\n",
    "                if len(rl_input_df) > 0:\n",
    "                    curr_batch = curr_batch[curr_batch['ID'].isin(rl_input_df['ID'])]\n",
    "\n",
    "                curr_batch['traj_id'] = curr_batch['ID'] + curr_batch['comp'] + curr_batch['split_part1'].str.replace(\" \",\"\") \\\n",
    "                                            + ',' + curr_batch['split_part2'].str.replace(\" \",\"\")\n",
    "                if len(rl_input_df)>0:\n",
    "                    len_before_filter = len(curr_batch)\n",
    "                    curr_batch = curr_batch[~curr_batch['traj_id'].isin(rl_input_df['traj_id'])]\n",
    "                curr_batch['filename'] = filename\n",
    "                rl_input_df = rl_input_df.append(curr_batch, ignore_index=True)\n",
    "\n",
    "    dataset_filename = '../../../mturk/compqgen/final/complexwebquestions_V1_1/ComplexWebQuestions_train'\n",
    "    with open(dataset_filename + '.json', 'r') as outfile:\n",
    "        complexwebquestions = pd.DataFrame(json.load(outfile))\n",
    "\n",
    "    rl_input_df = rl_input_df.merge(\n",
    "        pd.DataFrame(complexwebquestions)[['answers', 'ID']], on='ID', how='inner')\n",
    "    rl_input_df.rename(columns={'answers_y': 'answers'}, inplace=True)\n",
    "    del rl_input_df['answers_x']        \n",
    "\n",
    "    rl_input_df = rl_input_df.set_index('traj_id')\n",
    "\n",
    "    # dropping exact duplicate splits\n",
    "    print('size before drop dups: ' + str(len(rl_input_df)))\n",
    "    rl_input_df = rl_input_df.drop_duplicates(['ID', 'comp', 'split_part1', 'split_part2'])\n",
    "    print('size after drop dups: ' + str(len(rl_input_df)))\n"
   ]
  },
  {
   "cell_type": "code",
   "execution_count": 227,
   "metadata": {
    "ExecuteTime": {
     "end_time": "2018-06-26T07:23:47.543424Z",
     "start_time": "2018-06-26T07:23:46.064530Z"
    },
    "collapsed": true
   },
   "outputs": [],
   "source": [
    "# checking overlab between V1 training question and V2\n",
    "dataset_filename = '../../mturk/compqgen/final/complexwebquestions/ComplexWebQuestions_train'\n",
    "with open(dataset_filename + '.json', 'r') as outfile:\n",
    "    complexwebquestions_org = pd.DataFrame(json.load(outfile))"
   ]
  },
  {
   "cell_type": "code",
   "execution_count": 231,
   "metadata": {
    "ExecuteTime": {
     "end_time": "2018-06-26T07:26:08.236131Z",
     "start_time": "2018-06-26T07:26:08.210240Z"
    }
   },
   "outputs": [
    {
     "data": {
      "text/plain": [
       "19726"
      ]
     },
     "execution_count": 231,
     "metadata": {},
     "output_type": "execute_result"
    }
   ],
   "source": [
    "len(rl_input_df[rl_input_df['ID'].isin(complexwebquestions_org['ID'])])"
   ]
  },
  {
   "cell_type": "code",
   "execution_count": 232,
   "metadata": {
    "ExecuteTime": {
     "end_time": "2018-06-26T07:26:11.653721Z",
     "start_time": "2018-06-26T07:26:11.647455Z"
    }
   },
   "outputs": [
    {
     "data": {
      "text/plain": [
       "24673"
      ]
     },
     "execution_count": 232,
     "metadata": {},
     "output_type": "execute_result"
    }
   ],
   "source": [
    "len(rl_input_df)"
   ]
  },
  {
   "cell_type": "code",
   "execution_count": 193,
   "metadata": {
    "ExecuteTime": {
     "end_time": "2018-07-11T08:55:27.115289Z",
     "start_time": "2018-07-11T08:55:27.112636Z"
    },
    "collapsed": true,
    "run_control": {
     "marked": true
    }
   },
   "outputs": [],
   "source": [
    "# !! work only on sampple\n",
    "if PRODUCE_ONLY_SAMPLE:\n",
    "    rl_input_df = rl_input_df[0:100]"
   ]
  },
  {
   "cell_type": "code",
   "execution_count": 194,
   "metadata": {
    "ExecuteTime": {
     "end_time": "2018-07-11T08:55:27.207335Z",
     "start_time": "2018-07-11T08:55:27.128459Z"
    },
    "code_folding": [
     1
    ],
    "collapsed": true,
    "run_control": {
     "marked": true
    }
   },
   "outputs": [],
   "source": [
    "dataset_filename = '../data/ComplexWebQuestions_' + EVAL_SET\n",
    "with open(dataset_filename + '.json', 'r') as outfile:\n",
    "    complexwebquestions_org = pd.DataFrame(json.load(outfile)).set_index('ID')\n",
    "    \n",
    "rl_input_df.loc[rl_input_df['comp'] == 'composition','composition_answer'] = \\\n",
    "    list(complexwebquestions_org.loc[rl_input_df[rl_input_df['comp'] == 'composition']['ID'],'composition_answer'].astype(object))"
   ]
  },
  {
   "cell_type": "code",
   "execution_count": 195,
   "metadata": {
    "ExecuteTime": {
     "end_time": "2018-07-11T08:55:28.797049Z",
     "start_time": "2018-07-11T08:55:27.227946Z"
    },
    "run_control": {
     "marked": true
    }
   },
   "outputs": [
    {
     "name": "stderr",
     "output_type": "stream",
     "text": [
      "\n",
      "\n",
      "scoring:   0%|                                         | 0/3109 [00:00<?, ?it/s]\u001b[A\u001b[A\n",
      "\n",
      "scoring:   7%|█▉                           | 209/3109 [00:00<00:01, 2068.29it/s]\u001b[A\u001b[A\n",
      "\n",
      "scoring:  14%|████                         | 432/3109 [00:00<00:01, 2149.09it/s]\u001b[A\u001b[A\n",
      "\n",
      "scoring:  21%|██████▏                      | 661/3109 [00:00<00:01, 2191.82it/s]\u001b[A\u001b[A\n",
      "\n",
      "scoring:  29%|████████▎                    | 889/3109 [00:00<00:01, 2213.44it/s]\u001b[A\u001b[A\n",
      "\n",
      "scoring:  36%|██████████                  | 1116/3109 [00:00<00:00, 2223.38it/s]\u001b[A\u001b[A\n",
      "\n",
      "scoring:  43%|████████████                | 1343/3109 [00:00<00:00, 2230.59it/s]\u001b[A\u001b[A\n",
      "\n",
      "scoring:  50%|█████████████▉              | 1552/3109 [00:00<00:00, 2209.21it/s]\u001b[A\u001b[A\n",
      "\n",
      "scoring:  57%|███████████████▉            | 1764/3109 [00:00<00:00, 2197.06it/s]\u001b[A\u001b[A\n",
      "\n",
      "scoring:  63%|█████████████████▋          | 1969/3109 [00:00<00:00, 2168.25it/s]\u001b[A\u001b[A\n",
      "\n",
      "scoring:  70%|███████████████████▌        | 2171/3109 [00:01<00:00, 2150.02it/s]\u001b[A\u001b[A\n",
      "\n",
      "scoring:  76%|█████████████████████▎      | 2372/3109 [00:01<00:00, 2130.84it/s]\u001b[A\u001b[A\n",
      "\n",
      "scoring:  83%|███████████████████████▏    | 2571/3109 [00:01<00:00, 2113.98it/s]\u001b[A\u001b[A\n",
      "\n",
      "scoring:  89%|████████████████████████▉   | 2769/3109 [00:01<00:00, 2077.88it/s]\u001b[A\u001b[A\n",
      "\n",
      "scoring:  95%|██████████████████████████▋ | 2963/3109 [00:01<00:00, 2067.53it/s]\u001b[A\u001b[A\n",
      "\n",
      "scoring: 100%|████████████████████████████| 3109/3109 [00:01<00:00, 2041.36it/s]\u001b[A\u001b[A"
     ]
    }
   ],
   "source": [
    "questions = []   \n",
    "for ind in tqdm(range(len(rl_input_df)), total=len(rl_input_df), ncols=80, desc=\"scoring\"):\n",
    "    question = rl_input_df.iloc[ind]\n",
    "    if question['comp'] == 'conjunction':\n",
    "        q_copied = question.copy()\n",
    "        questions.append(q_copied)\n",
    "        if ADD_SPLITS_TO_TRAIN:\n",
    "            q_copied = question.copy()\n",
    "            q_copied['question'] = question['split_part1']\n",
    "            questions.append(q_copied)\n",
    "            q_copied = question.copy()\n",
    "            q_copied['question'] = question['split_part2']\n",
    "            questions.append(q_copied)\n",
    "    elif question['comp'] == 'composition':\n",
    "        q_copied = question.copy()\n",
    "        q_copied['ID']\n",
    "        questions.append(q_copied)\n",
    "        if ADD_SPLITS_TO_TRAIN:\n",
    "            q_copied = question.copy()\n",
    "            q_copied['question'] = question['split_part1']\n",
    "            q_copied['answers'] = [{'aliases':[],'answer':question['composition_answer']}]\n",
    "            questions.append(q_copied)\n",
    "            q_copied = question.copy()\n",
    "            q_copied['question'] = question['split_part2']\n",
    "            q_copied['question'] = q_copied['question'].replace('%composition',question['composition_answer'])\n",
    "            questions.append(q_copied)\n",
    "    else:\n",
    "        q_copied = question.copy()\n",
    "        questions.append(q_copied)\n",
    "\n"
   ]
  },
  {
   "cell_type": "code",
   "execution_count": 196,
   "metadata": {
    "ExecuteTime": {
     "end_time": "2018-07-11T08:55:31.261936Z",
     "start_time": "2018-07-11T08:55:28.856075Z"
    },
    "run_control": {
     "marked": true
    }
   },
   "outputs": [
    {
     "name": "stdout",
     "output_type": "stream",
     "text": [
      "size before drop dups: 9327\n",
      "size after drop dups: 8987\n"
     ]
    }
   ],
   "source": [
    "questions = pd.DataFrame(questions)\n",
    "# dropping exact duplicate splits\n",
    "print('size before drop dups: ' + str(len(questions)))\n",
    "questions = questions.drop_duplicates(['question'])\n",
    "print('size after drop dups: ' + str(len(questions)))\n",
    "questions = questions.reset_index(drop=True)"
   ]
  },
  {
   "cell_type": "markdown",
   "metadata": {},
   "source": [
    "# ComplexWebQuestions to TriviaQA format\n"
   ]
  },
  {
   "cell_type": "code",
   "execution_count": 197,
   "metadata": {
    "ExecuteTime": {
     "end_time": "2018-07-11T08:55:38.199834Z",
     "start_time": "2018-07-11T08:55:31.314446Z"
    },
    "code_folding": [],
    "collapsed": true,
    "run_control": {
     "marked": true
    }
   },
   "outputs": [],
   "source": [
    "\n",
    "questions_triviaqa_format = pd.DataFrame()\n",
    "questions_triviaqa_format['QuestionId'] = questions['ID'] + '_' + questions.index.astype(str)\n",
    "questions_triviaqa_format['Question'] = questions['question']\n",
    "questions_triviaqa_format['SearchResults'] = [[] for x in range(len(questions_triviaqa_format))]\n",
    "questions_triviaqa_format['EntityPages'] = [[] for x in range(len(questions_triviaqa_format))]\n",
    "questions_triviaqa_format['QuestionSource'] = ''\n",
    "all_answers = []\n",
    "for ind,q in questions.iterrows():\n",
    "    if q['answers'][0]['answer'] == None or q['answers'][0]['answer'] == '':\n",
    "        all_answers.append(None)\n",
    "    else:\n",
    "        filtered_answer = []\n",
    "        for answer in q['answers']:\n",
    "            if len(answer['answer']) > 0:\n",
    "                filtered_answer.append(answer)\n",
    "                \n",
    "        triviaqa_formated_answers = {'Aliases':[],'NormalizedAliases':[], \\\n",
    "                                    'NormalizedValue':'', \\\n",
    "                                     'Type':'FreeForm','Value':''}\n",
    "        triviaqa_formated_answers['Value'] = filtered_answer[0]['answer']\n",
    "        triviaqa_formated_answers['NormalizedValue'] = ' '.join(word_tokenize(filtered_answer[0]['answer'].lower()))\n",
    "        for answer in filtered_answer:\n",
    "            triviaqa_formated_answers['Aliases'] += answer['aliases']\n",
    "            triviaqa_formated_answers['Aliases'].append(answer['answer'])\n",
    "\n",
    "        triviaqa_formated_answers['NormalizedAliases'] = \\\n",
    "            [' '.join(word_tokenize(word.lower())) for word in triviaqa_formated_answers['Aliases']]\n",
    "        all_answers.append(triviaqa_formated_answers)\n",
    "    \n",
    "questions_triviaqa_format['Answer'] = all_answers\n",
    "questions_triviaqa_format = questions_triviaqa_format[questions_triviaqa_format['Answer'].notnull()]  "
   ]
  },
  {
   "cell_type": "code",
   "execution_count": 198,
   "metadata": {
    "ExecuteTime": {
     "end_time": "2018-07-11T08:55:38.218553Z",
     "start_time": "2018-07-11T08:55:38.213984Z"
    },
    "code_folding": [],
    "collapsed": true,
    "run_control": {
     "marked": true
    }
   },
   "outputs": [],
   "source": [
    "# combining all the training sets\n",
    "if LOAD_TRIVIAQA and EVAL_SET == 'train':\n",
    "    print(len(questions_triviaqa_format))\n",
    "    print(len(triviaqa_dataset))\n",
    "    questions_triviaqa_format = questions_triviaqa_format.append(triviaqa_dataset,ignore_index=True)\n",
    "    print(len(questions_triviaqa_format))"
   ]
  },
  {
   "cell_type": "markdown",
   "metadata": {},
   "source": [
    "# appending snippets to the questions"
   ]
  },
  {
   "cell_type": "markdown",
   "metadata": {},
   "source": [
    "## From local mongo"
   ]
  },
  {
   "cell_type": "code",
   "execution_count": 199,
   "metadata": {
    "ExecuteTime": {
     "end_time": "2018-07-11T08:55:38.244034Z",
     "start_time": "2018-07-11T08:55:38.238125Z"
    },
    "run_control": {
     "marked": true
    }
   },
   "outputs": [
    {
     "name": "stderr",
     "output_type": "stream",
     "text": [
      "/Library/Frameworks/Python.framework/Versions/3.6/lib/python3.6/site-packages/ipykernel_launcher.py:3: DeprecationWarning: get_default_database is deprecated. Use get_database instead.\n",
      "  This is separate from the ipykernel package so we can avoid doing imports until\n"
     ]
    }
   ],
   "source": [
    "MONGODB_URI = 'mongodb://127.0.0.1:27017/webkb'\n",
    "mongo_client = pymongo.MongoClient(MONGODB_URI)\n",
    "db = mongo_client.get_default_database()\n",
    "SearchCache = db['SearchResults_Cache']"
   ]
  },
  {
   "cell_type": "code",
   "execution_count": 200,
   "metadata": {
    "ExecuteTime": {
     "end_time": "2018-07-11T08:55:50.494909Z",
     "start_time": "2018-07-11T08:55:38.268724Z"
    },
    "run_control": {
     "marked": true
    }
   },
   "outputs": [
    {
     "name": "stderr",
     "output_type": "stream",
     "text": [
      "\n",
      "\n",
      "scoring:   0%|                                         | 0/8981 [00:00<?, ?it/s]\u001b[A\u001b[A\n",
      "\n",
      "scoring:   1%|▎                              | 93/8981 [00:00<00:09, 922.91it/s]\u001b[A\u001b[A\n",
      "\n",
      "scoring:   2%|▌                             | 186/8981 [00:00<00:09, 922.37it/s]\u001b[A\u001b[A\n",
      "\n",
      "scoring:   3%|▉                             | 264/8981 [00:00<00:09, 874.81it/s]\u001b[A\u001b[A\n",
      "\n",
      "scoring:   4%|█▏                            | 354/8981 [00:00<00:09, 881.92it/s]\u001b[A\u001b[A\n",
      "\n",
      "scoring:   5%|█▍                            | 430/8981 [00:00<00:09, 857.04it/s]\u001b[A\u001b[A\n",
      "\n",
      "scoring:   6%|█▋                            | 515/8981 [00:00<00:09, 855.14it/s]\u001b[A\u001b[A\n",
      "\n",
      "scoring:   7%|█▉                            | 596/8981 [00:00<00:09, 848.42it/s]\u001b[A\u001b[A\n",
      "\n",
      "scoring:   8%|██▎                           | 678/8981 [00:00<00:09, 844.58it/s]\u001b[A\u001b[A\n",
      "\n",
      "scoring:   8%|██▌                           | 756/8981 [00:00<00:09, 836.40it/s]\u001b[A\u001b[A\n",
      "\n",
      "scoring:   9%|██▊                           | 838/8981 [00:01<00:09, 834.26it/s]\u001b[A\u001b[A\n",
      "\n",
      "scoring:  10%|███                           | 923/8981 [00:01<00:09, 835.13it/s]\u001b[A\u001b[A\n",
      "\n",
      "scoring:  11%|███▎                         | 1011/8981 [00:01<00:09, 838.53it/s]\u001b[A\u001b[A\n",
      "\n",
      "scoring:  12%|███▌                         | 1101/8981 [00:01<00:09, 842.95it/s]\u001b[A\u001b[A\n",
      "\n",
      "scoring:  13%|███▊                         | 1186/8981 [00:01<00:09, 841.41it/s]\u001b[A\u001b[A\n",
      "\n",
      "scoring:  14%|████                         | 1275/8981 [00:01<00:09, 844.06it/s]\u001b[A\u001b[A\n",
      "\n",
      "scoring:  15%|████▍                        | 1361/8981 [00:01<00:09, 844.25it/s]\u001b[A\u001b[A\n",
      "\n",
      "scoring:  16%|████▋                        | 1447/8981 [00:01<00:08, 840.66it/s]\u001b[A\u001b[A\n",
      "\n",
      "scoring:  17%|████▉                        | 1534/8981 [00:01<00:08, 842.19it/s]\u001b[A\u001b[A\n",
      "\n",
      "scoring:  18%|█████▏                       | 1619/8981 [00:01<00:08, 842.16it/s]\u001b[A\u001b[A\n",
      "\n",
      "scoring:  19%|█████▌                       | 1704/8981 [00:02<00:08, 841.90it/s]\u001b[A\u001b[A\n",
      "\n",
      "scoring:  20%|█████▊                       | 1789/8981 [00:02<00:08, 841.09it/s]\u001b[A\u001b[A\n",
      "\n",
      "scoring:  21%|██████                       | 1873/8981 [00:02<00:08, 840.44it/s]\u001b[A\u001b[A\n",
      "\n",
      "scoring:  22%|██████▎                      | 1957/8981 [00:02<00:08, 839.07it/s]\u001b[A\u001b[A\n",
      "\n",
      "scoring:  23%|██████▌                      | 2044/8981 [00:02<00:08, 840.36it/s]\u001b[A\u001b[A\n",
      "\n",
      "scoring:  24%|██████▊                      | 2128/8981 [00:02<00:08, 840.13it/s]\u001b[A\u001b[A\n",
      "\n",
      "scoring:  25%|███████▏                     | 2214/8981 [00:02<00:08, 840.69it/s]\u001b[A\u001b[A\n",
      "\n",
      "scoring:  26%|███████▍                     | 2306/8981 [00:02<00:07, 843.46it/s]\u001b[A\u001b[A\n",
      "\n",
      "scoring:  27%|███████▋                     | 2396/8981 [00:02<00:07, 845.23it/s]\u001b[A\u001b[A\n",
      "\n",
      "scoring:  28%|████████                     | 2484/8981 [00:02<00:07, 846.00it/s]\u001b[A\u001b[A\n",
      "\n",
      "scoring:  29%|████████▎                    | 2572/8981 [00:03<00:07, 847.00it/s]\u001b[A\u001b[A\n",
      "\n",
      "scoring:  30%|████████▌                    | 2660/8981 [00:03<00:07, 848.03it/s]\u001b[A\u001b[A\n",
      "\n",
      "scoring:  31%|████████▉                    | 2752/8981 [00:03<00:07, 850.22it/s]\u001b[A\u001b[A\n",
      "\n",
      "scoring:  32%|█████████▏                   | 2842/8981 [00:03<00:07, 851.65it/s]\u001b[A\u001b[A\n",
      "\n",
      "scoring:  33%|█████████▍                   | 2932/8981 [00:03<00:07, 850.81it/s]\u001b[A\u001b[A\n",
      "\n",
      "scoring:  34%|█████████▊                   | 3020/8981 [00:03<00:07, 850.86it/s]\u001b[A\u001b[A\n",
      "\n",
      "scoring:  35%|██████████                   | 3107/8981 [00:03<00:06, 848.63it/s]\u001b[A\u001b[A\n",
      "\n",
      "scoring:  36%|██████████▎                  | 3191/8981 [00:03<00:06, 847.98it/s]\u001b[A\u001b[A\n",
      "\n",
      "scoring:  36%|██████████▌                  | 3275/8981 [00:03<00:06, 844.30it/s]\u001b[A\u001b[A\n",
      "\n",
      "scoring:  37%|██████████▊                  | 3363/8981 [00:03<00:06, 845.11it/s]\u001b[A\u001b[A\n",
      "\n",
      "scoring:  38%|███████████▏                 | 3451/8981 [00:04<00:06, 845.73it/s]\u001b[A\u001b[A\n",
      "\n",
      "scoring:  39%|███████████▍                 | 3543/8981 [00:04<00:06, 847.27it/s]\u001b[A\u001b[A\n",
      "\n",
      "scoring:  40%|███████████▋                 | 3635/8981 [00:04<00:06, 848.87it/s]\u001b[A\u001b[A\n",
      "\n",
      "scoring:  41%|████████████                 | 3723/8981 [00:04<00:06, 848.70it/s]\u001b[A\u001b[A\n",
      "\n",
      "scoring:  42%|████████████▎                | 3811/8981 [00:04<00:06, 849.59it/s]\u001b[A\u001b[A\n",
      "\n",
      "scoring:  43%|████████████▌                | 3904/8981 [00:04<00:05, 851.16it/s]\u001b[A\u001b[A\n",
      "\n",
      "scoring:  44%|████████████▉                | 3993/8981 [00:04<00:05, 849.04it/s]\u001b[A\u001b[A\n",
      "\n",
      "scoring:  45%|█████████████▏               | 4083/8981 [00:04<00:05, 850.10it/s]\u001b[A\u001b[A\n",
      "\n",
      "scoring:  46%|█████████████▍               | 4170/8981 [00:04<00:05, 847.87it/s]\u001b[A\u001b[A\n",
      "\n",
      "scoring:  47%|█████████████▋               | 4254/8981 [00:05<00:05, 846.29it/s]\u001b[A\u001b[A\n",
      "\n",
      "scoring:  48%|██████████████               | 4336/8981 [00:05<00:05, 844.93it/s]\u001b[A\u001b[A\n",
      "\n",
      "scoring:  49%|██████████████▎              | 4417/8981 [00:05<00:05, 842.63it/s]\u001b[A\u001b[A\n",
      "\n",
      "scoring:  50%|██████████████▌              | 4501/8981 [00:05<00:05, 842.62it/s]\u001b[A\u001b[A\n",
      "\n",
      "scoring:  51%|██████████████▊              | 4582/8981 [00:05<00:05, 839.33it/s]\u001b[A\u001b[A\n",
      "\n",
      "scoring:  52%|███████████████              | 4668/8981 [00:05<00:05, 839.68it/s]\u001b[A\u001b[A\n",
      "\n",
      "scoring:  53%|███████████████▎             | 4750/8981 [00:05<00:05, 839.28it/s]\u001b[A\u001b[A\n",
      "\n",
      "scoring:  54%|███████████████▌             | 4831/8981 [00:05<00:04, 837.08it/s]\u001b[A\u001b[A\n",
      "\n",
      "scoring:  55%|███████████████▊             | 4909/8981 [00:05<00:04, 832.19it/s]\u001b[A\u001b[A\n",
      "\n",
      "scoring:  55%|████████████████             | 4982/8981 [00:06<00:04, 830.23it/s]\u001b[A\u001b[A\n",
      "\n",
      "scoring:  56%|████████████████▎            | 5063/8981 [00:06<00:04, 829.85it/s]\u001b[A\u001b[A\n",
      "\n",
      "scoring:  57%|████████████████▌            | 5139/8981 [00:06<00:04, 828.07it/s]\u001b[A\u001b[A\n",
      "\n",
      "scoring:  58%|████████████████▊            | 5214/8981 [00:06<00:04, 825.78it/s]\u001b[A\u001b[A\n",
      "\n",
      "scoring:  59%|█████████████████            | 5294/8981 [00:06<00:04, 825.28it/s]\u001b[A\u001b[A\n",
      "\n",
      "scoring:  60%|█████████████████▎           | 5369/8981 [00:06<00:04, 823.60it/s]\u001b[A\u001b[A\n",
      "\n",
      "scoring:  61%|█████████████████▌           | 5443/8981 [00:06<00:04, 820.39it/s]\u001b[A\u001b[A\n",
      "\n",
      "scoring:  61%|█████████████████▊           | 5514/8981 [00:06<00:04, 818.75it/s]\u001b[A\u001b[A\n",
      "\n",
      "scoring:  62%|██████████████████           | 5585/8981 [00:06<00:04, 814.37it/s]\u001b[A\u001b[A\n",
      "\n",
      "scoring:  63%|██████████████████▎          | 5664/8981 [00:06<00:04, 813.99it/s]\u001b[A\u001b[A\n",
      "\n",
      "scoring:  64%|██████████████████▌          | 5754/8981 [00:07<00:03, 815.10it/s]\u001b[A\u001b[A\n",
      "\n",
      "scoring:  65%|██████████████████▊          | 5841/8981 [00:07<00:03, 815.84it/s]\u001b[A\u001b[A\n",
      "\n",
      "scoring:  66%|███████████████████▏         | 5931/8981 [00:07<00:03, 816.98it/s]\u001b[A\u001b[A\n",
      "\n",
      "scoring:  67%|███████████████████▍         | 6025/8981 [00:07<00:03, 818.53it/s]\u001b[A\u001b[A\n",
      "\n",
      "scoring:  68%|███████████████████▋         | 6116/8981 [00:07<00:03, 819.74it/s]\u001b[A\u001b[A\n",
      "\n",
      "scoring:  69%|████████████████████         | 6204/8981 [00:07<00:03, 820.40it/s]\u001b[A\u001b[A\n",
      "\n",
      "scoring:  70%|████████████████████▎        | 6295/8981 [00:07<00:03, 821.51it/s]\u001b[A\u001b[A\n",
      "\n",
      "scoring:  71%|████████████████████▋        | 6389/8981 [00:07<00:03, 822.94it/s]\u001b[A\u001b[A\n",
      "\n",
      "scoring:  72%|████████████████████▉        | 6479/8981 [00:07<00:03, 823.40it/s]\u001b[A\u001b[A\n",
      "\n",
      "scoring:  73%|█████████████████████▏       | 6568/8981 [00:07<00:02, 823.34it/s]\u001b[A\u001b[A\n",
      "\n",
      "scoring:  74%|█████████████████████▍       | 6655/8981 [00:08<00:02, 822.39it/s]\u001b[A\u001b[A\n",
      "\n",
      "scoring:  75%|█████████████████████▊       | 6747/8981 [00:08<00:02, 823.48it/s]\u001b[A\u001b[A\n",
      "\n",
      "scoring:  76%|██████████████████████       | 6839/8981 [00:08<00:02, 824.12it/s]\u001b[A\u001b[A\n",
      "\n",
      "scoring:  77%|██████████████████████▎      | 6926/8981 [00:08<00:02, 823.76it/s]\u001b[A\u001b[A\n",
      "\n",
      "scoring:  78%|██████████████████████▋      | 7018/8981 [00:08<00:02, 824.84it/s]\u001b[A\u001b[A\n",
      "\n",
      "scoring:  79%|██████████████████████▉      | 7105/8981 [00:08<00:02, 824.58it/s]\u001b[A\u001b[A\n",
      "\n",
      "scoring:  80%|███████████████████████▏     | 7194/8981 [00:08<00:02, 825.30it/s]\u001b[A\u001b[A\n",
      "\n",
      "scoring:  81%|███████████████████████▌     | 7282/8981 [00:08<00:02, 825.89it/s]\u001b[A\u001b[A\n",
      "\n",
      "scoring:  82%|███████████████████████▊     | 7369/8981 [00:08<00:01, 826.32it/s]\u001b[A\u001b[A\n",
      "\n",
      "scoring:  83%|████████████████████████     | 7460/8981 [00:09<00:01, 827.20it/s]\u001b[A\u001b[A\n",
      "\n",
      "scoring:  84%|████████████████████████▍    | 7555/8981 [00:09<00:01, 828.45it/s]\u001b[A\u001b[A\n",
      "\n",
      "scoring:  85%|████████████████████████▋    | 7645/8981 [00:09<00:01, 827.75it/s]\u001b[A\u001b[A\n",
      "\n",
      "scoring:  86%|████████████████████████▉    | 7736/8981 [00:09<00:01, 828.53it/s]\u001b[A\u001b[A\n",
      "\n",
      "scoring:  87%|█████████████████████████▎   | 7824/8981 [00:09<00:01, 828.87it/s]\u001b[A\u001b[A\n",
      "\n",
      "scoring:  88%|█████████████████████████▌   | 7914/8981 [00:09<00:01, 829.56it/s]\u001b[A\u001b[A\n",
      "\n"
     ]
    },
    {
     "name": "stderr",
     "output_type": "stream",
     "text": [
      "scoring:  89%|█████████████████████████▊   | 8005/8981 [00:09<00:01, 830.32it/s]\u001b[A\u001b[A\n",
      "\n",
      "scoring:  90%|██████████████████████████▏  | 8096/8981 [00:09<00:01, 831.13it/s]\u001b[A\u001b[A\n",
      "\n",
      "scoring:  91%|██████████████████████████▍  | 8186/8981 [00:09<00:00, 831.77it/s]\u001b[A\u001b[A\n",
      "\n",
      "scoring:  92%|██████████████████████████▋  | 8276/8981 [00:09<00:00, 832.27it/s]\u001b[A\u001b[A\n",
      "\n",
      "scoring:  93%|███████████████████████████  | 8368/8981 [00:10<00:00, 833.06it/s]\u001b[A\u001b[A\n",
      "\n",
      "scoring:  94%|███████████████████████████▎ | 8458/8981 [00:10<00:00, 833.47it/s]\u001b[A\u001b[A\n",
      "\n",
      "scoring:  95%|███████████████████████████▋ | 8556/8981 [00:10<00:00, 834.85it/s]\u001b[A\u001b[A\n",
      "\n",
      "scoring:  96%|███████████████████████████▉ | 8648/8981 [00:10<00:00, 835.46it/s]\u001b[A\u001b[A\n",
      "\n",
      "scoring:  97%|████████████████████████████▏| 8739/8981 [00:10<00:00, 835.66it/s]\u001b[A\u001b[A\n",
      "\n",
      "scoring:  98%|████████████████████████████▌| 8829/8981 [00:10<00:00, 835.33it/s]\u001b[A\u001b[A\n",
      "\n",
      "scoring:  99%|████████████████████████████▊| 8916/8981 [00:10<00:00, 834.76it/s]\u001b[A\u001b[A\n",
      "\n",
      "scoring: 100%|█████████████████████████████| 8981/8981 [00:10<00:00, 833.56it/s]\u001b[A\u001b[A"
     ]
    }
   ],
   "source": [
    "found = 0\n",
    "#questions['SearchResults'] = None\n",
    "questions_triviaqa_format['SearchResults'] = questions_triviaqa_format['SearchResults'].astype(object)\n",
    "for ind in tqdm(range(len(questions_triviaqa_format)), total=len(questions_triviaqa_format), ncols=80, desc=\"scoring\"):\n",
    "    question  = questions_triviaqa_format.iloc[ind]\n",
    "    CacheResults = SearchCache.find(\n",
    "        {'querystr': question['Question'], \"page\": 0, \"type\": 'SCREEN'})\n",
    "    CacheResults_Count = CacheResults.count()\n",
    "    if CacheResults_Count>0:\n",
    "        found += 1\n",
    "        cahched_item = CacheResults.next()\n",
    "        questions_triviaqa_format.at[ind,'SearchResults'] = cahched_item['results']"
   ]
  },
  {
   "cell_type": "code",
   "execution_count": 201,
   "metadata": {
    "ExecuteTime": {
     "end_time": "2018-07-11T08:55:50.542715Z",
     "start_time": "2018-07-11T08:55:50.528904Z"
    },
    "run_control": {
     "marked": true
    }
   },
   "outputs": [
    {
     "name": "stdout",
     "output_type": "stream",
     "text": [
      "8163\n",
      "8986\n"
     ]
    }
   ],
   "source": [
    "print(found)\n",
    "\n",
    "questions_triviaqa_format = questions_triviaqa_format[questions_triviaqa_format['SearchResults'].notnull()]\n",
    "\n",
    "print(len(questions_triviaqa_format))\n",
    "\n",
    "questions_triviaqa_format = questions_triviaqa_format[questions_triviaqa_format['Answer'].notnull()]  "
   ]
  },
  {
   "cell_type": "markdown",
   "metadata": {
    "ExecuteTime": {
     "end_time": "2018-06-27T06:24:57.369283Z",
     "start_time": "2018-06-27T06:24:57.353930Z"
    }
   },
   "source": [
    "# Combine evidence from multiple queries"
   ]
  },
  {
   "cell_type": "code",
   "execution_count": 101,
   "metadata": {
    "ExecuteTime": {
     "end_time": "2018-07-11T08:20:48.767842Z",
     "start_time": "2018-07-11T08:20:48.757821Z"
    }
   },
   "outputs": [
    {
     "data": {
      "text/plain": [
       "False"
      ]
     },
     "execution_count": 101,
     "metadata": {},
     "output_type": "execute_result"
    }
   ],
   "source": [
    "(questions['answers'].isnull()).any()"
   ]
  },
  {
   "cell_type": "markdown",
   "metadata": {
    "ExecuteTime": {
     "end_time": "2018-05-31T15:54:10.417162Z",
     "start_time": "2018-05-31T15:54:10.414441Z"
    }
   },
   "source": [
    "# Building Evidence Files"
   ]
  },
  {
   "cell_type": "code",
   "execution_count": null,
   "metadata": {
    "ExecuteTime": {
     "end_time": "2018-06-21T17:09:35.871996Z",
     "start_time": "2018-06-21T17:09:35.847139Z"
    },
    "collapsed": true,
    "run_control": {
     "marked": false
    }
   },
   "outputs": [],
   "source": [
    "print('checking if there exist cases in which there are no answers?')\n",
    "print(len(questions_triviaqa_format[questions_triviaqa_format['Answer'].agg(lambda x: x['Value']).apply(len)==0]['Answer']))"
   ]
  },
  {
   "cell_type": "code",
   "execution_count": 202,
   "metadata": {
    "ExecuteTime": {
     "end_time": "2018-07-11T08:55:50.604733Z",
     "start_time": "2018-07-11T08:55:50.593290Z"
    },
    "collapsed": true,
    "run_control": {
     "marked": true
    }
   },
   "outputs": [],
   "source": [
    "triviaqa_dict = {}\n",
    "triviaqa_dict['Data'] = questions_triviaqa_format\n",
    "triviaqa_dict['Domain'] = 'unfiltered-web'\n",
    "triviaqa_dict['Split'] = EVAL_SET\n",
    "triviaqa_dict['VerifiedEval'] = False\n",
    "triviaqa_dict['Version'] = 1.0"
   ]
  },
  {
   "cell_type": "code",
   "execution_count": 203,
   "metadata": {
    "ExecuteTime": {
     "end_time": "2018-07-11T08:55:51.483827Z",
     "start_time": "2018-07-11T08:55:50.667921Z"
    },
    "collapsed": true,
    "run_control": {
     "marked": true
    }
   },
   "outputs": [],
   "source": [
    "data_df = triviaqa_dict['Data']\n",
    "data_df = data_df.set_index('QuestionId')\n",
    "org_data_df = data_df.copy(deep=True)\n",
    "data_df = data_df.rename(columns = {'SearchResults':'OrgSearchResults'})\n",
    "data_df['SearchResults'] = None"
   ]
  },
  {
   "cell_type": "code",
   "execution_count": 204,
   "metadata": {
    "ExecuteTime": {
     "end_time": "2018-07-11T08:56:17.755962Z",
     "start_time": "2018-07-11T08:55:51.514129Z"
    },
    "code_folding": [],
    "run_control": {
     "marked": true
    },
    "scrolled": true
   },
   "outputs": [
    {
     "name": "stderr",
     "output_type": "stream",
     "text": [
      "\n",
      "\n",
      "scoring:   0%|                                         | 0/8981 [00:00<?, ?it/s]\u001b[A\u001b[A\n",
      "\n",
      "scoring:   0%|                               | 26/8981 [00:00<00:36, 243.85it/s]\u001b[A\u001b[A\n",
      "\n",
      "scoring:   1%|▏                              | 52/8981 [00:00<00:35, 251.24it/s]\u001b[A\u001b[A\n",
      "\n",
      "scoring:   1%|▎                              | 84/8981 [00:00<00:32, 272.34it/s]\u001b[A\u001b[A\n",
      "\n",
      "scoring:   1%|▎                             | 108/8981 [00:00<00:33, 262.45it/s]\u001b[A\u001b[A\n",
      "\n",
      "scoring:   1%|▍                             | 133/8981 [00:00<00:34, 259.35it/s]\u001b[A\u001b[A\n",
      "\n",
      "scoring:   2%|▌                             | 159/8981 [00:00<00:34, 257.93it/s]\u001b[A\u001b[A\n",
      "\n",
      "scoring:   2%|▌                             | 182/8981 [00:00<00:34, 253.55it/s]\u001b[A\u001b[A\n",
      "\n",
      "scoring:   2%|▋                             | 212/8981 [00:00<00:33, 258.73it/s]\u001b[A\u001b[A\n",
      "\n",
      "scoring:   3%|▊                             | 238/8981 [00:00<00:34, 255.01it/s]\u001b[A\u001b[A\n",
      "\n",
      "scoring:   3%|▉                             | 273/8981 [00:01<00:32, 264.04it/s]\u001b[A\u001b[A\n",
      "\n",
      "scoring:   3%|█                             | 309/8981 [00:01<00:31, 272.24it/s]\u001b[A\u001b[A\n",
      "\n",
      "scoring:   4%|█▏                            | 346/8981 [00:01<00:30, 279.90it/s]\u001b[A\u001b[A\n",
      "\n",
      "scoring:   4%|█▎                            | 379/8981 [00:01<00:30, 283.21it/s]\u001b[A\u001b[A\n",
      "\n",
      "scoring:   5%|█▍                            | 423/8981 [00:01<00:29, 294.03it/s]\u001b[A\u001b[A\n",
      "\n",
      "scoring:   5%|█▌                            | 461/8981 [00:01<00:28, 299.24it/s]\u001b[A\u001b[A\n",
      "\n",
      "scoring:   6%|█▋                            | 498/8981 [00:01<00:28, 302.22it/s]\u001b[A\u001b[A\n",
      "\n",
      "scoring:   6%|█▊                            | 534/8981 [00:01<00:28, 301.03it/s]\u001b[A\u001b[A\n",
      "\n",
      "scoring:   6%|█▉                            | 573/8981 [00:01<00:27, 305.42it/s]\u001b[A\u001b[A\n",
      "\n",
      "scoring:   7%|██                            | 618/8981 [00:01<00:26, 312.39it/s]\u001b[A\u001b[A\n",
      "\n",
      "scoring:   7%|██▏                           | 657/8981 [00:02<00:26, 315.76it/s]\u001b[A\u001b[A\n",
      "\n",
      "scoring:   8%|██▎                           | 697/8981 [00:02<00:25, 319.34it/s]\u001b[A\u001b[A\n",
      "\n",
      "scoring:   8%|██▍                           | 736/8981 [00:02<00:25, 322.34it/s]\u001b[A\u001b[A\n",
      "\n",
      "scoring:   9%|██▌                           | 777/8981 [00:02<00:25, 325.68it/s]\u001b[A\u001b[A\n",
      "\n",
      "scoring:   9%|██▋                           | 817/8981 [00:02<00:24, 328.62it/s]\u001b[A\u001b[A\n",
      "\n",
      "scoring:  10%|██▊                           | 857/8981 [00:02<00:24, 331.28it/s]\u001b[A\u001b[A\n",
      "\n",
      "scoring:  10%|██▉                           | 897/8981 [00:02<00:24, 332.72it/s]\u001b[A\u001b[A\n",
      "\n",
      "scoring:  10%|███▏                          | 937/8981 [00:02<00:24, 335.00it/s]\u001b[A\u001b[A\n",
      "\n",
      "scoring:  11%|███▎                          | 979/8981 [00:02<00:23, 337.82it/s]\u001b[A\u001b[A\n",
      "\n",
      "scoring:  11%|███▎                         | 1025/8981 [00:02<00:23, 341.70it/s]\u001b[A\u001b[A\n",
      "\n",
      "scoring:  12%|███▍                         | 1067/8981 [00:03<00:23, 343.84it/s]\u001b[A\u001b[A\n",
      "\n",
      "scoring:  12%|███▌                         | 1109/8981 [00:03<00:22, 346.16it/s]\u001b[A\u001b[A\n",
      "\n",
      "scoring:  13%|███▋                         | 1152/8981 [00:03<00:22, 348.68it/s]\u001b[A\u001b[A\n",
      "\n",
      "scoring:  13%|███▊                         | 1194/8981 [00:03<00:22, 350.30it/s]\u001b[A\u001b[A\n",
      "\n",
      "scoring:  14%|███▉                         | 1236/8981 [00:03<00:22, 351.52it/s]\u001b[A\u001b[A\n",
      "\n",
      "scoring:  14%|████                         | 1277/8981 [00:03<00:21, 352.82it/s]\u001b[A\u001b[A\n",
      "\n",
      "scoring:  15%|████▎                        | 1318/8981 [00:03<00:21, 353.95it/s]\u001b[A\u001b[A\n",
      "\n",
      "scoring:  15%|████▍                        | 1359/8981 [00:03<00:21, 354.48it/s]\u001b[A\u001b[A\n",
      "\n",
      "scoring:  16%|████▌                        | 1404/8981 [00:03<00:21, 356.39it/s]\u001b[A\u001b[A\n",
      "\n",
      "scoring:  16%|████▋                        | 1445/8981 [00:04<00:21, 354.05it/s]\u001b[A\u001b[A\n",
      "\n",
      "scoring:  17%|████▊                        | 1488/8981 [00:04<00:21, 355.76it/s]\u001b[A\u001b[A\n",
      "\n",
      "scoring:  17%|████▉                        | 1528/8981 [00:04<00:20, 356.75it/s]\u001b[A\u001b[A\n",
      "\n",
      "scoring:  17%|█████                        | 1567/8981 [00:04<00:20, 357.16it/s]\u001b[A\u001b[A\n",
      "\n",
      "scoring:  18%|█████▏                       | 1606/8981 [00:04<00:20, 357.56it/s]\u001b[A\u001b[A\n",
      "\n",
      "scoring:  18%|█████▎                       | 1645/8981 [00:04<00:20, 355.31it/s]\u001b[A\u001b[A\n",
      "\n",
      "scoring:  19%|█████▍                       | 1681/8981 [00:04<00:20, 352.16it/s]\u001b[A\u001b[A\n",
      "\n",
      "scoring:  19%|█████▌                       | 1723/8981 [00:04<00:20, 353.53it/s]\u001b[A\u001b[A\n",
      "\n",
      "scoring:  20%|█████▋                       | 1762/8981 [00:04<00:20, 354.17it/s]\u001b[A\u001b[A\n",
      "\n",
      "scoring:  20%|█████▊                       | 1801/8981 [00:05<00:20, 354.77it/s]\u001b[A\u001b[A\n",
      "\n",
      "scoring:  20%|█████▉                       | 1839/8981 [00:05<00:20, 355.11it/s]\u001b[A\u001b[A\n",
      "\n",
      "scoring:  21%|██████                       | 1879/8981 [00:05<00:19, 355.88it/s]\u001b[A\u001b[A\n",
      "\n",
      "scoring:  21%|██████▏                      | 1917/8981 [00:05<00:19, 355.92it/s]\u001b[A\u001b[A\n",
      "\n",
      "scoring:  22%|██████▎                      | 1955/8981 [00:05<00:19, 356.05it/s]\u001b[A\u001b[A\n",
      "\n",
      "scoring:  22%|██████▍                      | 1993/8981 [00:05<00:19, 356.35it/s]\u001b[A\u001b[A\n",
      "\n",
      "scoring:  23%|██████▌                      | 2030/8981 [00:05<00:19, 356.29it/s]\u001b[A\u001b[A\n",
      "\n",
      "scoring:  23%|██████▋                      | 2067/8981 [00:05<00:19, 356.30it/s]\u001b[A\u001b[A\n",
      "\n",
      "scoring:  23%|██████▊                      | 2104/8981 [00:05<00:19, 356.27it/s]\u001b[A\u001b[A\n",
      "\n",
      "scoring:  24%|██████▉                      | 2143/8981 [00:06<00:19, 356.75it/s]\u001b[A\u001b[A\n",
      "\n",
      "scoring:  24%|███████                      | 2185/8981 [00:06<00:18, 357.78it/s]\u001b[A\u001b[A\n",
      "\n",
      "scoring:  25%|███████▏                     | 2224/8981 [00:06<00:18, 357.97it/s]\u001b[A\u001b[A\n",
      "\n",
      "scoring:  25%|███████▎                     | 2264/8981 [00:06<00:18, 358.55it/s]\u001b[A\u001b[A\n",
      "\n",
      "scoring:  26%|███████▍                     | 2304/8981 [00:06<00:18, 359.07it/s]\u001b[A\u001b[A\n",
      "\n",
      "scoring:  26%|███████▌                     | 2344/8981 [00:06<00:18, 359.59it/s]\u001b[A\u001b[A\n",
      "\n",
      "scoring:  27%|███████▋                     | 2383/8981 [00:06<00:18, 359.56it/s]\u001b[A\u001b[A\n",
      "\n",
      "scoring:  27%|███████▊                     | 2421/8981 [00:06<00:18, 358.74it/s]\u001b[A\u001b[A\n",
      "\n",
      "scoring:  27%|███████▉                     | 2457/8981 [00:06<00:18, 358.32it/s]\u001b[A\u001b[A\n",
      "\n",
      "scoring:  28%|████████                     | 2493/8981 [00:06<00:18, 357.98it/s]\u001b[A\u001b[A\n",
      "\n",
      "scoring:  28%|████████▏                    | 2531/8981 [00:07<00:18, 358.20it/s]\u001b[A\u001b[A\n",
      "\n",
      "scoring:  29%|████████▎                    | 2569/8981 [00:07<00:17, 358.43it/s]\u001b[A\u001b[A\n",
      "\n",
      "scoring:  29%|████████▍                    | 2606/8981 [00:07<00:17, 358.55it/s]\u001b[A\u001b[A\n",
      "\n",
      "scoring:  29%|████████▌                    | 2643/8981 [00:07<00:17, 358.65it/s]\u001b[A\u001b[A\n",
      "\n",
      "scoring:  30%|████████▋                    | 2680/8981 [00:07<00:17, 358.75it/s]\u001b[A\u001b[A\n",
      "\n",
      "scoring:  30%|████████▊                    | 2717/8981 [00:07<00:17, 358.81it/s]\u001b[A\u001b[A\n",
      "\n",
      "scoring:  31%|████████▉                    | 2754/8981 [00:07<00:17, 358.95it/s]\u001b[A\u001b[A\n",
      "\n",
      "scoring:  31%|█████████                    | 2792/8981 [00:07<00:17, 359.18it/s]\u001b[A\u001b[A\n",
      "\n",
      "scoring:  31%|█████████▏                   | 2829/8981 [00:07<00:17, 359.19it/s]\u001b[A\u001b[A\n",
      "\n",
      "scoring:  32%|█████████▎                   | 2869/8981 [00:07<00:16, 359.68it/s]\u001b[A\u001b[A\n",
      "\n",
      "scoring:  32%|█████████▍                   | 2907/8981 [00:08<00:16, 359.64it/s]\u001b[A\u001b[A\n",
      "\n",
      "scoring:  33%|█████████▌                   | 2945/8981 [00:08<00:16, 359.62it/s]\u001b[A\u001b[A\n",
      "\n",
      "scoring:  33%|█████████▋                   | 2986/8981 [00:08<00:16, 360.20it/s]\u001b[A\u001b[A\n",
      "\n",
      "scoring:  34%|█████████▊                   | 3026/8981 [00:08<00:16, 360.62it/s]\u001b[A\u001b[A\n",
      "\n",
      "scoring:  34%|█████████▉                   | 3065/8981 [00:08<00:16, 360.76it/s]\u001b[A\u001b[A\n",
      "\n",
      "scoring:  35%|██████████                   | 3104/8981 [00:08<00:16, 360.33it/s]\u001b[A\u001b[A\n",
      "\n",
      "scoring:  35%|██████████▏                  | 3142/8981 [00:08<00:16, 360.50it/s]\u001b[A\u001b[A\n",
      "\n",
      "scoring:  35%|██████████▎                  | 3179/8981 [00:08<00:16, 360.13it/s]\u001b[A\u001b[A\n",
      "\n",
      "scoring:  36%|██████████▍                  | 3215/8981 [00:08<00:16, 359.62it/s]\u001b[A\u001b[A\n",
      "\n",
      "scoring:  36%|██████████▍                  | 3250/8981 [00:09<00:15, 359.15it/s]\u001b[A\u001b[A\n",
      "\n",
      "scoring:  37%|██████████▌                  | 3288/8981 [00:09<00:15, 359.35it/s]\u001b[A\u001b[A\n",
      "\n",
      "scoring:  37%|██████████▋                  | 3324/8981 [00:09<00:15, 359.36it/s]\u001b[A\u001b[A\n",
      "\n",
      "scoring:  37%|██████████▊                  | 3366/8981 [00:09<00:15, 359.93it/s]\u001b[A\u001b[A\n",
      "\n",
      "scoring:  38%|██████████▉                  | 3404/8981 [00:09<00:15, 359.93it/s]\u001b[A\u001b[A\n",
      "\n",
      "scoring:  38%|███████████                  | 3441/8981 [00:09<00:15, 359.03it/s]\u001b[A\u001b[A\n",
      "\n",
      "scoring:  39%|███████████▏                 | 3476/8981 [00:09<00:15, 358.44it/s]\u001b[A\u001b[A\n",
      "\n"
     ]
    },
    {
     "name": "stderr",
     "output_type": "stream",
     "text": [
      "scoring:  39%|███████████▎                 | 3515/8981 [00:09<00:15, 358.73it/s]\u001b[A\u001b[A\n",
      "\n",
      "scoring:  40%|███████████▍                 | 3553/8981 [00:09<00:15, 358.84it/s]\u001b[A\u001b[A\n",
      "\n",
      "scoring:  40%|███████████▌                 | 3593/8981 [00:10<00:15, 359.17it/s]\u001b[A\u001b[A\n",
      "\n",
      "scoring:  40%|███████████▋                 | 3630/8981 [00:10<00:14, 358.84it/s]\u001b[A\u001b[A\n",
      "\n",
      "scoring:  41%|███████████▊                 | 3666/8981 [00:10<00:14, 358.60it/s]\u001b[A\u001b[A\n",
      "\n",
      "scoring:  41%|███████████▉                 | 3706/8981 [00:10<00:14, 358.92it/s]\u001b[A\u001b[A\n",
      "\n",
      "scoring:  42%|████████████                 | 3744/8981 [00:10<00:14, 359.08it/s]\u001b[A\u001b[A\n",
      "\n",
      "scoring:  42%|████████████▏                | 3785/8981 [00:10<00:14, 359.53it/s]\u001b[A\u001b[A\n",
      "\n",
      "scoring:  43%|████████████▎                | 3823/8981 [00:10<00:14, 359.46it/s]\u001b[A\u001b[A\n",
      "\n",
      "scoring:  43%|████████████▍                | 3861/8981 [00:10<00:14, 359.05it/s]\u001b[A\u001b[A\n",
      "\n",
      "scoring:  43%|████████████▌                | 3899/8981 [00:10<00:14, 359.24it/s]\u001b[A\u001b[A\n",
      "\n",
      "scoring:  44%|████████████▋                | 3936/8981 [00:10<00:14, 359.04it/s]\u001b[A\u001b[A\n",
      "\n",
      "scoring:  44%|████████████▊                | 3972/8981 [00:11<00:13, 359.01it/s]\u001b[A\u001b[A\n",
      "\n",
      "scoring:  45%|████████████▉                | 4012/8981 [00:11<00:13, 359.32it/s]\u001b[A\u001b[A\n",
      "\n",
      "scoring:  45%|█████████████                | 4049/8981 [00:11<00:13, 359.32it/s]\u001b[A\u001b[A\n",
      "\n",
      "scoring:  46%|█████████████▏               | 4089/8981 [00:11<00:13, 359.68it/s]\u001b[A\u001b[A\n",
      "\n",
      "scoring:  46%|█████████████▎               | 4129/8981 [00:11<00:13, 359.96it/s]\u001b[A\u001b[A\n",
      "\n",
      "scoring:  46%|█████████████▍               | 4167/8981 [00:11<00:13, 360.00it/s]\u001b[A\u001b[A\n",
      "\n",
      "scoring:  47%|█████████████▌               | 4205/8981 [00:11<00:13, 359.62it/s]\u001b[A\u001b[A\n",
      "\n",
      "scoring:  47%|█████████████▋               | 4241/8981 [00:11<00:13, 358.56it/s]\u001b[A\u001b[A\n",
      "\n",
      "scoring:  48%|█████████████▊               | 4275/8981 [00:11<00:13, 358.03it/s]\u001b[A\u001b[A\n",
      "\n",
      "scoring:  48%|█████████████▉               | 4315/8981 [00:12<00:13, 358.34it/s]\u001b[A\u001b[A\n",
      "\n",
      "scoring:  48%|██████████████               | 4350/8981 [00:12<00:12, 358.19it/s]\u001b[A\u001b[A\n",
      "\n",
      "scoring:  49%|██████████████▏              | 4385/8981 [00:12<00:12, 357.87it/s]\u001b[A\u001b[A\n",
      "\n",
      "scoring:  49%|██████████████▎              | 4421/8981 [00:12<00:12, 357.87it/s]\u001b[A\u001b[A\n",
      "\n",
      "scoring:  50%|██████████████▍              | 4456/8981 [00:12<00:12, 357.76it/s]\u001b[A\u001b[A\n",
      "\n",
      "scoring:  50%|██████████████▌              | 4491/8981 [00:12<00:12, 357.62it/s]\u001b[A\u001b[A\n",
      "\n",
      "scoring:  50%|██████████████▌              | 4526/8981 [00:12<00:12, 356.75it/s]\u001b[A\u001b[A\n",
      "\n",
      "scoring:  51%|██████████████▋              | 4561/8981 [00:12<00:12, 356.67it/s]\u001b[A\u001b[A\n",
      "\n",
      "scoring:  51%|██████████████▊              | 4594/8981 [00:12<00:12, 356.14it/s]\u001b[A\u001b[A\n",
      "\n",
      "scoring:  52%|██████████████▉              | 4626/8981 [00:13<00:12, 352.80it/s]\u001b[A\u001b[A\n",
      "\n",
      "scoring:  52%|███████████████              | 4653/8981 [00:13<00:12, 349.45it/s]\u001b[A\u001b[A\n",
      "\n",
      "scoring:  52%|███████████████              | 4676/8981 [00:13<00:12, 348.47it/s]\u001b[A\u001b[A\n",
      "\n",
      "scoring:  52%|███████████████▏             | 4709/8981 [00:13<00:12, 348.26it/s]\u001b[A\u001b[A\n",
      "\n",
      "scoring:  53%|███████████████▎             | 4741/8981 [00:13<00:12, 348.02it/s]\u001b[A\u001b[A\n",
      "\n",
      "scoring:  53%|███████████████▍             | 4769/8981 [00:13<00:12, 347.47it/s]\u001b[A\u001b[A\n",
      "\n",
      "scoring:  53%|███████████████▌             | 4801/8981 [00:13<00:12, 347.18it/s]\u001b[A\u001b[A\n",
      "\n",
      "scoring:  54%|███████████████▌             | 4831/8981 [00:13<00:11, 346.78it/s]\u001b[A\u001b[A\n",
      "\n",
      "scoring:  54%|███████████████▋             | 4862/8981 [00:14<00:11, 346.45it/s]\u001b[A\u001b[A\n",
      "\n",
      "scoring:  55%|███████████████▊             | 4895/8981 [00:14<00:11, 346.30it/s]\u001b[A\u001b[A\n",
      "\n",
      "scoring:  55%|███████████████▉             | 4931/8981 [00:14<00:11, 346.39it/s]\u001b[A\u001b[A\n",
      "\n",
      "scoring:  55%|████████████████             | 4964/8981 [00:14<00:11, 346.23it/s]\u001b[A\u001b[A\n",
      "\n",
      "scoring:  56%|████████████████▏            | 4997/8981 [00:14<00:11, 346.10it/s]\u001b[A\u001b[A\n",
      "\n",
      "scoring:  56%|████████████████▏            | 5030/8981 [00:14<00:11, 345.87it/s]\u001b[A\u001b[A\n",
      "\n",
      "scoring:  56%|████████████████▎            | 5062/8981 [00:14<00:11, 345.61it/s]\u001b[A\u001b[A\n",
      "\n",
      "scoring:  57%|████████████████▍            | 5094/8981 [00:14<00:11, 345.00it/s]\u001b[A\u001b[A\n",
      "\n",
      "scoring:  57%|████████████████▌            | 5134/8981 [00:14<00:11, 345.32it/s]\u001b[A\u001b[A\n",
      "\n",
      "scoring:  58%|████████████████▋            | 5170/8981 [00:14<00:11, 345.36it/s]\u001b[A\u001b[A\n",
      "\n",
      "scoring:  58%|████████████████▊            | 5204/8981 [00:15<00:10, 345.20it/s]\u001b[A\u001b[A\n",
      "\n",
      "scoring:  58%|████████████████▉            | 5241/8981 [00:15<00:10, 345.36it/s]\u001b[A\u001b[A\n",
      "\n",
      "scoring:  59%|█████████████████            | 5277/8981 [00:15<00:10, 345.40it/s]\u001b[A\u001b[A\n",
      "\n",
      "scoring:  59%|█████████████████▏           | 5312/8981 [00:15<00:10, 345.39it/s]\u001b[A\u001b[A\n",
      "\n",
      "scoring:  60%|█████████████████▎           | 5347/8981 [00:15<00:10, 345.32it/s]\u001b[A\u001b[A\n",
      "\n",
      "scoring:  60%|█████████████████▍           | 5382/8981 [00:15<00:10, 345.33it/s]\u001b[A\u001b[A\n",
      "\n",
      "scoring:  60%|█████████████████▍           | 5417/8981 [00:15<00:10, 345.00it/s]\u001b[A\u001b[A\n",
      "\n",
      "scoring:  61%|█████████████████▌           | 5451/8981 [00:15<00:10, 344.89it/s]\u001b[A\u001b[A\n",
      "\n",
      "scoring:  61%|█████████████████▋           | 5485/8981 [00:15<00:10, 344.83it/s]\u001b[A\u001b[A\n",
      "\n",
      "scoring:  61%|█████████████████▊           | 5519/8981 [00:16<00:10, 344.63it/s]\u001b[A\u001b[A\n",
      "\n",
      "scoring:  62%|█████████████████▉           | 5554/8981 [00:16<00:09, 344.62it/s]\u001b[A\u001b[A\n",
      "\n",
      "scoring:  62%|██████████████████           | 5589/8981 [00:16<00:09, 344.65it/s]\u001b[A\u001b[A\n",
      "\n",
      "scoring:  63%|██████████████████▏          | 5629/8981 [00:16<00:09, 344.94it/s]\u001b[A\u001b[A\n",
      "\n",
      "scoring:  63%|██████████████████▎          | 5665/8981 [00:16<00:09, 344.98it/s]\u001b[A\u001b[A\n",
      "\n",
      "scoring:  63%|██████████████████▍          | 5701/8981 [00:16<00:09, 345.01it/s]\u001b[A\u001b[A\n",
      "\n",
      "scoring:  64%|██████████████████▌          | 5737/8981 [00:16<00:09, 344.65it/s]\u001b[A\u001b[A\n",
      "\n",
      "scoring:  64%|██████████████████▋          | 5771/8981 [00:16<00:09, 344.26it/s]\u001b[A\u001b[A\n",
      "\n",
      "scoring:  65%|██████████████████▋          | 5804/8981 [00:16<00:09, 344.13it/s]\u001b[A\u001b[A\n",
      "\n",
      "scoring:  65%|██████████████████▊          | 5838/8981 [00:16<00:09, 344.10it/s]\u001b[A\u001b[A\n",
      "\n",
      "scoring:  65%|██████████████████▉          | 5874/8981 [00:17<00:09, 344.18it/s]\u001b[A\u001b[A\n",
      "\n",
      "scoring:  66%|███████████████████          | 5908/8981 [00:17<00:08, 344.08it/s]\u001b[A\u001b[A\n",
      "\n",
      "scoring:  66%|███████████████████▏         | 5943/8981 [00:17<00:08, 344.08it/s]\u001b[A\u001b[A\n",
      "\n",
      "scoring:  67%|███████████████████▎         | 5981/8981 [00:17<00:08, 344.23it/s]\u001b[A\u001b[A\n",
      "\n",
      "scoring:  67%|███████████████████▍         | 6018/8981 [00:17<00:08, 344.32it/s]\u001b[A\u001b[A\n",
      "\n",
      "scoring:  67%|███████████████████▌         | 6054/8981 [00:17<00:08, 344.15it/s]\u001b[A\u001b[A\n",
      "\n",
      "scoring:  68%|███████████████████▋         | 6089/8981 [00:17<00:08, 343.82it/s]\u001b[A\u001b[A\n",
      "\n",
      "scoring:  68%|███████████████████▊         | 6124/8981 [00:17<00:08, 343.82it/s]\u001b[A\u001b[A\n",
      "\n",
      "scoring:  69%|███████████████████▉         | 6161/8981 [00:17<00:08, 343.92it/s]\u001b[A\u001b[A\n",
      "\n",
      "scoring:  69%|████████████████████         | 6196/8981 [00:18<00:08, 343.92it/s]\u001b[A\u001b[A\n",
      "\n",
      "scoring:  69%|████████████████████▏        | 6233/8981 [00:18<00:07, 344.03it/s]\u001b[A\u001b[A\n",
      "\n",
      "scoring:  70%|████████████████████▎        | 6272/8981 [00:18<00:07, 344.26it/s]\u001b[A\u001b[A\n",
      "\n",
      "scoring:  70%|████████████████████▎        | 6309/8981 [00:18<00:07, 344.38it/s]\u001b[A\u001b[A\n",
      "\n",
      "scoring:  71%|████████████████████▍        | 6346/8981 [00:18<00:07, 344.46it/s]\u001b[A\u001b[A\n",
      "\n",
      "scoring:  71%|████████████████████▌        | 6383/8981 [00:18<00:07, 344.53it/s]\u001b[A\u001b[A\n",
      "\n",
      "scoring:  71%|████████████████████▋        | 6419/8981 [00:18<00:07, 344.54it/s]\u001b[A\u001b[A\n",
      "\n",
      "scoring:  72%|████████████████████▊        | 6455/8981 [00:18<00:07, 344.12it/s]\u001b[A\u001b[A\n",
      "\n",
      "scoring:  72%|████████████████████▉        | 6490/8981 [00:18<00:07, 344.11it/s]\u001b[A\u001b[A\n",
      "\n",
      "scoring:  73%|█████████████████████        | 6526/8981 [00:18<00:07, 344.18it/s]\u001b[A\u001b[A\n",
      "\n",
      "scoring:  73%|█████████████████████▏       | 6564/8981 [00:19<00:07, 344.35it/s]\u001b[A\u001b[A\n",
      "\n",
      "scoring:  73%|█████████████████████▎       | 6601/8981 [00:19<00:06, 344.44it/s]\u001b[A\u001b[A\n",
      "\n",
      "scoring:  74%|█████████████████████▍       | 6637/8981 [00:19<00:06, 344.37it/s]\u001b[A\u001b[A\n",
      "\n",
      "scoring:  74%|█████████████████████▌       | 6673/8981 [00:19<00:06, 344.40it/s]\u001b[A\u001b[A\n",
      "\n",
      "scoring:  75%|█████████████████████▋       | 6710/8981 [00:19<00:06, 344.51it/s]\u001b[A\u001b[A\n",
      "\n",
      "scoring:  75%|█████████████████████▊       | 6747/8981 [00:19<00:06, 344.65it/s]\u001b[A\u001b[A\n",
      "\n",
      "scoring:  76%|█████████████████████▉       | 6783/8981 [00:19<00:06, 344.39it/s]\u001b[A\u001b[A\n",
      "\n"
     ]
    },
    {
     "name": "stderr",
     "output_type": "stream",
     "text": [
      "scoring:  76%|██████████████████████       | 6818/8981 [00:19<00:06, 344.09it/s]\u001b[A\u001b[A\n",
      "\n",
      "scoring:  76%|██████████████████████       | 6851/8981 [00:19<00:06, 343.71it/s]\u001b[A\u001b[A\n",
      "\n",
      "scoring:  77%|██████████████████████▏      | 6883/8981 [00:20<00:06, 343.45it/s]\u001b[A\u001b[A\n",
      "\n",
      "scoring:  77%|██████████████████████▎      | 6914/8981 [00:20<00:06, 343.14it/s]\u001b[A\u001b[A\n",
      "\n",
      "scoring:  77%|██████████████████████▍      | 6947/8981 [00:20<00:05, 343.05it/s]\u001b[A\u001b[A\n",
      "\n",
      "scoring:  78%|██████████████████████▌      | 6986/8981 [00:20<00:05, 343.26it/s]\u001b[A\u001b[A\n",
      "\n",
      "scoring:  78%|██████████████████████▋      | 7028/8981 [00:20<00:05, 343.59it/s]\u001b[A\u001b[A\n",
      "\n",
      "scoring:  79%|██████████████████████▊      | 7064/8981 [00:20<00:05, 343.65it/s]\u001b[A\u001b[A\n",
      "\n",
      "scoring:  79%|██████████████████████▉      | 7100/8981 [00:20<00:05, 343.41it/s]\u001b[A\u001b[A\n",
      "\n",
      "scoring:  79%|███████████████████████      | 7134/8981 [00:20<00:05, 343.23it/s]\u001b[A\u001b[A\n",
      "\n",
      "scoring:  80%|███████████████████████▏     | 7168/8981 [00:20<00:05, 342.93it/s]\u001b[A\u001b[A\n",
      "\n",
      "scoring:  80%|███████████████████████▎     | 7204/8981 [00:21<00:05, 342.97it/s]\u001b[A\u001b[A\n",
      "\n",
      "scoring:  81%|███████████████████████▎     | 7237/8981 [00:21<00:05, 342.84it/s]\u001b[A\u001b[A\n",
      "\n",
      "scoring:  81%|███████████████████████▍     | 7272/8981 [00:21<00:04, 342.84it/s]\u001b[A\u001b[A\n",
      "\n",
      "scoring:  81%|███████████████████████▌     | 7305/8981 [00:21<00:04, 342.62it/s]\u001b[A\u001b[A\n",
      "\n",
      "scoring:  82%|███████████████████████▋     | 7340/8981 [00:21<00:04, 342.65it/s]\u001b[A\u001b[A\n",
      "\n",
      "scoring:  82%|███████████████████████▊     | 7373/8981 [00:21<00:04, 342.57it/s]\u001b[A\u001b[A\n",
      "\n",
      "scoring:  82%|███████████████████████▉     | 7406/8981 [00:21<00:04, 342.33it/s]\u001b[A\u001b[A\n",
      "\n",
      "scoring:  83%|████████████████████████     | 7438/8981 [00:21<00:04, 342.00it/s]\u001b[A\u001b[A\n",
      "\n",
      "scoring:  83%|████████████████████████     | 7471/8981 [00:21<00:04, 341.92it/s]\u001b[A\u001b[A\n",
      "\n",
      "scoring:  84%|████████████████████████▎    | 7512/8981 [00:21<00:04, 342.20it/s]\u001b[A\u001b[A\n",
      "\n",
      "scoring:  84%|████████████████████████▎    | 7546/8981 [00:22<00:04, 341.43it/s]\u001b[A\u001b[A\n",
      "\n",
      "scoring:  84%|████████████████████████▍    | 7585/8981 [00:22<00:04, 341.62it/s]\u001b[A\u001b[A\n",
      "\n",
      "scoring:  85%|████████████████████████▌    | 7618/8981 [00:22<00:03, 341.54it/s]\u001b[A\u001b[A\n",
      "\n",
      "scoring:  85%|████████████████████████▋    | 7658/8981 [00:22<00:03, 341.79it/s]\u001b[A\u001b[A\n",
      "\n",
      "scoring:  86%|████████████████████████▊    | 7695/8981 [00:22<00:03, 341.90it/s]\u001b[A\u001b[A\n",
      "\n",
      "scoring:  86%|████████████████████████▉    | 7731/8981 [00:22<00:03, 341.83it/s]\u001b[A\u001b[A\n",
      "\n",
      "scoring:  86%|█████████████████████████    | 7766/8981 [00:22<00:03, 341.29it/s]\u001b[A\u001b[A\n",
      "\n",
      "scoring:  87%|█████████████████████████▏   | 7801/8981 [00:22<00:03, 341.28it/s]\u001b[A\u001b[A\n",
      "\n",
      "scoring:  87%|█████████████████████████▎   | 7838/8981 [00:22<00:03, 341.37it/s]\u001b[A\u001b[A\n",
      "\n",
      "scoring:  88%|█████████████████████████▍   | 7873/8981 [00:23<00:03, 341.38it/s]\u001b[A\u001b[A\n",
      "\n",
      "scoring:  88%|█████████████████████████▌   | 7909/8981 [00:23<00:03, 341.42it/s]\u001b[A\u001b[A\n",
      "\n",
      "scoring:  88%|█████████████████████████▋   | 7945/8981 [00:23<00:03, 341.48it/s]\u001b[A\u001b[A\n",
      "\n",
      "scoring:  89%|█████████████████████████▊   | 7986/8981 [00:23<00:02, 341.74it/s]\u001b[A\u001b[A\n",
      "\n",
      "scoring:  89%|█████████████████████████▉   | 8023/8981 [00:23<00:02, 341.69it/s]\u001b[A\u001b[A\n",
      "\n",
      "scoring:  90%|██████████████████████████   | 8060/8981 [00:23<00:02, 341.81it/s]\u001b[A\u001b[A\n",
      "\n",
      "scoring:  90%|██████████████████████████▏  | 8096/8981 [00:23<00:02, 341.62it/s]\u001b[A\u001b[A\n",
      "\n",
      "scoring:  91%|██████████████████████████▎  | 8131/8981 [00:23<00:02, 341.60it/s]\u001b[A\u001b[A\n",
      "\n",
      "scoring:  91%|██████████████████████████▍  | 8170/8981 [00:23<00:02, 341.80it/s]\u001b[A\u001b[A\n",
      "\n",
      "scoring:  91%|██████████████████████████▌  | 8208/8981 [00:24<00:02, 341.93it/s]\u001b[A\u001b[A\n",
      "\n",
      "scoring:  92%|██████████████████████████▋  | 8247/8981 [00:24<00:02, 342.10it/s]\u001b[A\u001b[A\n",
      "\n",
      "scoring:  92%|██████████████████████████▊  | 8285/8981 [00:24<00:02, 342.25it/s]\u001b[A\u001b[A\n",
      "\n",
      "scoring:  93%|██████████████████████████▉  | 8323/8981 [00:24<00:01, 342.14it/s]\u001b[A\u001b[A\n",
      "\n",
      "scoring:  93%|███████████████████████████  | 8363/8981 [00:24<00:01, 342.35it/s]\u001b[A\u001b[A\n",
      "\n",
      "scoring:  94%|███████████████████████████▏ | 8404/8981 [00:24<00:01, 342.61it/s]\u001b[A\u001b[A\n",
      "\n",
      "scoring:  94%|███████████████████████████▎ | 8442/8981 [00:24<00:01, 342.53it/s]\u001b[A\u001b[A\n",
      "\n",
      "scoring:  94%|███████████████████████████▍ | 8479/8981 [00:24<00:01, 342.43it/s]\u001b[A\u001b[A\n",
      "\n",
      "scoring:  95%|███████████████████████████▌ | 8517/8981 [00:24<00:01, 342.56it/s]\u001b[A\u001b[A\n",
      "\n",
      "scoring:  95%|███████████████████████████▌ | 8555/8981 [00:24<00:01, 342.68it/s]\u001b[A\u001b[A\n",
      "\n",
      "scoring:  96%|███████████████████████████▋ | 8592/8981 [00:25<00:01, 342.72it/s]\u001b[A\u001b[A\n",
      "\n",
      "scoring:  96%|███████████████████████████▊ | 8628/8981 [00:25<00:01, 342.76it/s]\u001b[A\u001b[A\n",
      "\n",
      "scoring:  96%|███████████████████████████▉ | 8665/8981 [00:25<00:00, 342.87it/s]\u001b[A\u001b[A\n",
      "\n",
      "scoring:  97%|████████████████████████████ | 8702/8981 [00:25<00:00, 342.93it/s]\u001b[A\u001b[A\n",
      "\n",
      "scoring:  97%|████████████████████████████▏| 8741/8981 [00:25<00:00, 343.10it/s]\u001b[A\u001b[A\n",
      "\n",
      "scoring:  98%|████████████████████████████▎| 8778/8981 [00:25<00:00, 343.20it/s]\u001b[A\u001b[A\n",
      "\n",
      "scoring:  98%|████████████████████████████▍| 8815/8981 [00:25<00:00, 342.98it/s]\u001b[A\u001b[A\n",
      "\n",
      "scoring:  99%|████████████████████████████▌| 8850/8981 [00:25<00:00, 342.76it/s]\u001b[A\u001b[A\n",
      "\n",
      "scoring:  99%|████████████████████████████▋| 8886/8981 [00:25<00:00, 342.75it/s]\u001b[A\u001b[A\n",
      "\n",
      "scoring:  99%|████████████████████████████▊| 8923/8981 [00:26<00:00, 342.84it/s]\u001b[A\u001b[A\n",
      "\n",
      "scoring: 100%|████████████████████████████▉| 8965/8981 [00:26<00:00, 343.11it/s]\u001b[A\u001b[A\n",
      "\n",
      "scoring: 100%|█████████████████████████████| 8981/8981 [00:26<00:00, 343.36it/s]\u001b[A\u001b[A"
     ]
    }
   ],
   "source": [
    "# create a query to file map\n",
    "\n",
    "if WRITE_EVIDENCE and not os.path.isdir(EVIDENCE_DIR + 'evidence/'):\n",
    "    os.mkdir(EVIDENCE_DIR + 'evidence/')\n",
    "\n",
    "if WRITE_EVIDENCE and not os.path.isdir(EVIDENCE_DIR +'evidence/' + EXP_NAME):\n",
    "    os.mkdir(EVIDENCE_DIR + 'evidence/' + EXP_NAME)\n",
    "        \n",
    "train_file_ind = int(0)\n",
    "for i in tqdm(range(len(data_df)), total=len(data_df), ncols=80, desc=\"scoring\"):\n",
    "    question = data_df.iloc[i]\n",
    "    questionID = data_df.index[i]\n",
    "    # building 10 text files out of 100 snippets\n",
    "    SearchResults = []\n",
    "    files = []\n",
    "    filenames = []\n",
    "    file_ind = 0\n",
    "    google_results = question['OrgSearchResults']\n",
    "    train_file_ind += 1\n",
    "    \n",
    "        \n",
    "    if WRITE_EVIDENCE and not os.path.isdir(EVIDENCE_DIR + 'evidence/' + EXP_NAME + '/' + str(int(train_file_ind / 100))):\n",
    "        os.mkdir(EVIDENCE_DIR + 'evidence/' + EXP_NAME + '/' + str(int(train_file_ind / 100)))\n",
    "        #if train_file_ind % 1000 == 0:\n",
    "        #    print(EVIDENCE_DIR + 'evidence/' + EXP_NAME + '/' + str(int(train_file_ind / 100)))\n",
    "\n",
    "    for ind, g in enumerate(google_results):\n",
    "        file_ind = file_ind % 20\n",
    "        if len(files) <= file_ind:\n",
    "            file_name = EXP_NAME + '/' + str(int(train_file_ind / 100)) + \"/\" + \\\n",
    "                questionID + '_' + str(file_ind) + '.txt'\n",
    "            SearchResults.append({'Rank':ind, 'Description':g['snippet'],'Title':g['title'],'DisplayUrl':g['url'] , \\\n",
    "                          'Url':g['url'] + file_name.replace('/','_').replace('.txt',''),'Filename':file_name })\n",
    "            files.append('')\n",
    "            filenames.append(file_name)\n",
    "\n",
    "        files[file_ind] += str(\n",
    "            ind) + '. ' + g['title'] + '\\n' + g['snippet'] + '\\n'\n",
    "\n",
    "        file_ind += 1\n",
    "\n",
    "    # saving files\n",
    "    if WRITE_EVIDENCE:\n",
    "        for file_str, file_name in zip(files, filenames):\n",
    "            with open(EVIDENCE_DIR + 'evidence/' + file_name, 'w') as outfile:\n",
    "                outfile.write(file_str)\n",
    "\n",
    "    data_df.at[questionID, 'SearchResults'] = SearchResults"
   ]
  },
  {
   "cell_type": "markdown",
   "metadata": {
    "ExecuteTime": {
     "end_time": "2018-05-15T07:33:42.310094Z",
     "start_time": "2018-05-15T07:33:42.279265Z"
    }
   },
   "source": [
    "# calc answer with snippets percentage"
   ]
  },
  {
   "cell_type": "code",
   "execution_count": null,
   "metadata": {
    "ExecuteTime": {
     "end_time": "2018-05-18T09:18:38.769083Z",
     "start_time": "2018-05-18T09:09:20.357928Z"
    },
    "collapsed": true,
    "run_control": {
     "marked": false
    }
   },
   "outputs": [],
   "source": [
    "answer_found_mat = np.zeros((len(data_df),100))\n",
    "q_ind = 0\n",
    "for ind,question in data_df.iterrows():\n",
    "    normalized_aliases = question['Answer']['NormalizedAliases']\n",
    "    \n",
    "    for s_ind,result in enumerate(question['SearchResults']):\n",
    "        for alias in normalized_aliases:\n",
    "            result_text = result['Title'] + ' ' + result['Description']\n",
    "            p = re.compile(r'\\b({0})\\b'.format(alias), re.IGNORECASE)\n",
    "            res = re.findall(p, result_text)\n",
    "            #if result_text.find(alias)>-1:\n",
    "             #   answer_found_mat[q_ind , s_ind] = 1\n",
    "            if len(res) > 0:\n",
    "                answer_found_mat[q_ind , s_ind] = 1\n",
    "                break\n",
    "            #else:\n",
    "            #    print(alias + ' --- ' + result_text)\n",
    "            \n",
    "            \n",
    "    q_ind += 1 \n",
    "    if q_ind % 5000 == 0:\n",
    "        print(q_ind)"
   ]
  },
  {
   "cell_type": "code",
   "execution_count": null,
   "metadata": {
    "ExecuteTime": {
     "end_time": "2018-05-18T09:19:03.670008Z",
     "start_time": "2018-05-18T09:19:03.573672Z"
    },
    "collapsed": true
   },
   "outputs": [],
   "source": [
    "(answer_found_mat.sum(axis=1)>0).sum() / len(org_data_df)"
   ]
  },
  {
   "cell_type": "code",
   "execution_count": null,
   "metadata": {
    "ExecuteTime": {
     "end_time": "2018-05-21T13:05:49.174405Z",
     "start_time": "2018-05-21T13:05:49.164064Z"
    },
    "collapsed": true
   },
   "outputs": [],
   "source": [
    "len(data_df.iloc[2]['SearchResults'])"
   ]
  },
  {
   "cell_type": "markdown",
   "metadata": {},
   "source": [
    "# visiaully comparing snippets from google and original TriviaQA"
   ]
  },
  {
   "cell_type": "code",
   "execution_count": null,
   "metadata": {
    "ExecuteTime": {
     "end_time": "2018-05-15T06:34:14.847085Z",
     "start_time": "2018-05-15T06:34:14.835769Z"
    },
    "collapsed": true
   },
   "outputs": [],
   "source": [
    "replaced_inds = pd.DataFrame((org_data_df['SearchResults'] != data_df['SearchResults']).index)\n",
    "inds = replaced_inds['QuestionId'].sample(n=10)"
   ]
  },
  {
   "cell_type": "code",
   "execution_count": null,
   "metadata": {
    "ExecuteTime": {
     "end_time": "2018-05-15T06:35:00.820593Z",
     "start_time": "2018-05-15T06:35:00.776297Z"
    },
    "collapsed": true
   },
   "outputs": [],
   "source": [
    "\n",
    "for d,ind in inds.iteritems():\n",
    "    print('--------' + ind + '-------------')\n",
    "    print('Question:  '  + data_df.loc[ind,'Question'])\n",
    "    print('Answer:  '  + data_df.loc[ind,'Answer']['NormalizedValue'])\n",
    "    print('Google:  '  + data_df.loc[ind,'SearchResults'][0]['Description'])\n",
    "    print('Original Bing:  '  + org_data_df.loc[ind,'SearchResults'][0]['Description'])"
   ]
  },
  {
   "cell_type": "markdown",
   "metadata": {},
   "source": [
    "# saving "
   ]
  },
  {
   "cell_type": "code",
   "execution_count": 205,
   "metadata": {
    "ExecuteTime": {
     "end_time": "2018-07-11T08:56:25.611196Z",
     "start_time": "2018-07-11T08:56:17.911301Z"
    },
    "code_folding": [
     3
    ],
    "run_control": {
     "marked": true
    }
   },
   "outputs": [],
   "source": [
    "del data_df['OrgSearchResults']\n",
    "\n",
    "# randomizing the samples:\n",
    "data_df = data_df.sample(frac=1)\n",
    "#name = 'unfiltered-web-train-compwebq_noisy_sup'\n",
    "if not os.path.isdir(EXP_NAME):\n",
    "    os.mkdir(EXP_NAME)\n",
    "\n",
    "if EVAL_SET == 'dev':\n",
    "    triviaqa_dict['Data'] = data_df.reset_index().to_dict(orient='rows')\n",
    "    with zipfile.ZipFile(EXP_NAME + '/' + \"unfiltered-web-dev.json.zip\", \"w\", zipfile.ZIP_DEFLATED) as zip_file:\n",
    "        zip_file.writestr('unfiltered-web-dev.json', json.dumps(triviaqa_dict, sort_keys=True, indent=4))\n",
    "else:\n",
    "    triviaqa_dict['Data'] = data_df.reset_index().to_dict(orient='rows')\n",
    "    with zipfile.ZipFile(EXP_NAME + '/' + \"unfiltered-web-train.json.zip\", \"w\", zipfile.ZIP_DEFLATED) as zip_file:\n",
    "        zip_file.writestr('unfiltered-web-train.json', json.dumps(triviaqa_dict, sort_keys=True, indent=4))"
   ]
  },
  {
   "cell_type": "code",
   "execution_count": null,
   "metadata": {
    "collapsed": true
   },
   "outputs": [],
   "source": []
  }
 ],
 "metadata": {
  "kernelspec": {
   "display_name": "Python 3",
   "language": "python",
   "name": "python3"
  },
  "language_info": {
   "codemirror_mode": {
    "name": "ipython",
    "version": 3
   },
   "file_extension": ".py",
   "mimetype": "text/x-python",
   "name": "python",
   "nbconvert_exporter": "python",
   "pygments_lexer": "ipython3",
   "version": "3.6.2"
  },
  "toc": {
   "nav_menu": {},
   "number_sections": true,
   "sideBar": true,
   "skip_h1_title": false,
   "toc_cell": false,
   "toc_position": {
    "height": "864px",
    "left": "0px",
    "right": "1587.01px",
    "top": "106px",
    "width": "213px"
   },
   "toc_section_display": "block",
   "toc_window_display": true
  }
 },
 "nbformat": 4,
 "nbformat_minor": 2
}
